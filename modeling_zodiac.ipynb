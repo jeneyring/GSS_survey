{
 "cells": [
  {
   "cell_type": "code",
   "execution_count": 1,
   "id": "7ebfb207",
   "metadata": {},
   "outputs": [
    {
     "name": "stdout",
     "output_type": "stream",
     "text": [
      "Train: 2499 rows, 66 cols\n",
      "Validate: 625 rows, 66 cols\n",
      "Test: 552 rows, 66 cols\n"
     ]
    }
   ],
   "source": [
    "#imports to prepare environment\n",
    "\n",
    "# ignore warnings\n",
    "import warnings\n",
    "warnings.filterwarnings(\"ignore\")\n",
    "\n",
    "# Wrangling\n",
    "import pandas as pd\n",
    "import numpy as np\n",
    "from sklearn.model_selection import train_test_split\n",
    "\n",
    "# Statistical Tests\n",
    "import scipy.stats as stats\n",
    "\n",
    "# Visualizing\n",
    "import matplotlib.pyplot as plt\n",
    "from matplotlib import cm\n",
    "import seaborn as sns\n",
    "from sklearn.model_selection import learning_curve\n",
    "\n",
    "pd.options.display.float_format = '{:20,.2f}'.format\n",
    "\n",
    "#made imports\n",
    "import wrangle\n",
    "import explore\n",
    "\n",
    "df = wrangle.acquire_prep()\n",
    "train, validate, test = wrangle.split(df)\n",
    "\n",
    "#modeling\n",
    "from sklearn.tree import DecisionTreeClassifier, plot_tree\n",
    "from sklearn.metrics import classification_report\n",
    "from sklearn.metrics import confusion_matrix\n",
    "from sklearn.metrics import precision_recall_fscore_support\n",
    "from sklearn.metrics import accuracy_score\n",
    "from sklearn.ensemble import RandomForestClassifier\n",
    "from sklearn.neighbors import KNeighborsClassifier\n",
    "from sklearn.linear_model import LogisticRegression\n"
   ]
  },
  {
   "cell_type": "markdown",
   "id": "97f98eb7",
   "metadata": {},
   "source": [
    "### Creating a Baseline:\n",
    "To create my baseline, I need to find my top value_count of zodiac (or sign that most reoccurs), and I will set my baseline predictions as if everytime I predicted, it would always turn out this top zodiac sign."
   ]
  },
  {
   "cell_type": "code",
   "execution_count": 2,
   "id": "70db8b69",
   "metadata": {},
   "outputs": [
    {
     "data": {
      "text/plain": [
       "capricorn      271\n",
       "sagittarius    228\n",
       "aquarius       225\n",
       "scorpio        219\n",
       "virgo          212\n",
       "leo            211\n",
       "pisces         209\n",
       "libra          204\n",
       "taurus         188\n",
       "cancer         188\n",
       "gemini         183\n",
       "aries          161\n",
       "Name: zodiac, dtype: int64"
      ]
     },
     "execution_count": 2,
     "metadata": {},
     "output_type": "execute_result"
    }
   ],
   "source": [
    "#finding out mode (or most reoccuring value)\n",
    "train.zodiac.value_counts()"
   ]
  },
  {
   "cell_type": "code",
   "execution_count": 3,
   "id": "aad06afe",
   "metadata": {},
   "outputs": [
    {
     "data": {
      "text/html": [
       "<div>\n",
       "<style scoped>\n",
       "    .dataframe tbody tr th:only-of-type {\n",
       "        vertical-align: middle;\n",
       "    }\n",
       "\n",
       "    .dataframe tbody tr th {\n",
       "        vertical-align: top;\n",
       "    }\n",
       "\n",
       "    .dataframe thead th {\n",
       "        text-align: right;\n",
       "    }\n",
       "</style>\n",
       "<table border=\"1\" class=\"dataframe\">\n",
       "  <thead>\n",
       "    <tr style=\"text-align: right;\">\n",
       "      <th></th>\n",
       "      <th>zodiac</th>\n",
       "      <th>race</th>\n",
       "      <th>age</th>\n",
       "      <th>sex</th>\n",
       "      <th>sexornt</th>\n",
       "      <th>marital</th>\n",
       "      <th>res16</th>\n",
       "      <th>reg16</th>\n",
       "      <th>degree</th>\n",
       "      <th>income</th>\n",
       "      <th>...</th>\n",
       "      <th>socommun</th>\n",
       "      <th>socfrend</th>\n",
       "      <th>satsoc</th>\n",
       "      <th>class</th>\n",
       "      <th>satfin</th>\n",
       "      <th>quallife</th>\n",
       "      <th>partners</th>\n",
       "      <th>partnrs5</th>\n",
       "      <th>baseline_prediction</th>\n",
       "      <th>actual</th>\n",
       "    </tr>\n",
       "  </thead>\n",
       "  <tbody>\n",
       "    <tr>\n",
       "      <th>238</th>\n",
       "      <td>libra</td>\n",
       "      <td>white</td>\n",
       "      <td>42.00</td>\n",
       "      <td>female</td>\n",
       "      <td>heterosexual or straight</td>\n",
       "      <td>married</td>\n",
       "      <td>in open country but not on a farm</td>\n",
       "      <td>east north central</td>\n",
       "      <td>graduate</td>\n",
       "      <td>$25,000 or more</td>\n",
       "      <td>...</td>\n",
       "      <td>never</td>\n",
       "      <td>about once a year</td>\n",
       "      <td>fair</td>\n",
       "      <td>middle class</td>\n",
       "      <td>more or less satisfied</td>\n",
       "      <td>good</td>\n",
       "      <td>1 partner</td>\n",
       "      <td>1 partner</td>\n",
       "      <td>capricorn</td>\n",
       "      <td>libra</td>\n",
       "    </tr>\n",
       "  </tbody>\n",
       "</table>\n",
       "<p>1 rows × 68 columns</p>\n",
       "</div>"
      ],
      "text/plain": [
       "    zodiac   race                  age     sex                   sexornt  \\\n",
       "238  libra  white                42.00  female  heterosexual or straight   \n",
       "\n",
       "     marital                              res16               reg16    degree  \\\n",
       "238  married  in open country but not on a farm  east north central  graduate   \n",
       "\n",
       "              income  ... socommun           socfrend satsoc         class  \\\n",
       "238  $25,000 or more  ...    never  about once a year   fair  middle class   \n",
       "\n",
       "                     satfin quallife   partners   partnrs5  \\\n",
       "238  more or less satisfied     good  1 partner  1 partner   \n",
       "\n",
       "    baseline_prediction actual  \n",
       "238           capricorn  libra  \n",
       "\n",
       "[1 rows x 68 columns]"
      ]
     },
     "execution_count": 3,
     "metadata": {},
     "output_type": "execute_result"
    }
   ],
   "source": [
    "#creating baseline predictions\n",
    "train['baseline_prediction'] = train.zodiac.value_counts().index[0]\n",
    "validate['baseline_prediction'] = validate.zodiac.value_counts().index[0]\n",
    "train['actual']=train.zodiac\n",
    "validate['actual']=validate.zodiac\n",
    "train.head(1)"
   ]
  },
  {
   "cell_type": "code",
   "execution_count": 4,
   "id": "7a5c00b6",
   "metadata": {},
   "outputs": [
    {
     "name": "stdout",
     "output_type": "stream",
     "text": [
      "baseline accuracy: 10.84%\n"
     ]
    }
   ],
   "source": [
    "#creating baseline model accuracy:\n",
    "baseline_accuracy = (train.baseline_prediction == train.actual).mean()\n",
    "print(f'baseline accuracy: {baseline_accuracy:.2%}')"
   ]
  },
  {
   "cell_type": "markdown",
   "id": "37252353",
   "metadata": {},
   "source": [
    "_________________________________________________"
   ]
  },
  {
   "cell_type": "markdown",
   "id": "f25ba377",
   "metadata": {},
   "source": [
    "## Main drivers found when it comes to predicting a person's Sun sign are:\n",
    "- workhard\n",
    "- hlthmntl\n",
    "- socrel\n",
    "- decevidc"
   ]
  },
  {
   "cell_type": "markdown",
   "id": "15d1212e",
   "metadata": {},
   "source": [
    "### Notes: I will be encoding creating a get_dummies function on each of these columns so that I can then run these through the odeling phase."
   ]
  },
  {
   "cell_type": "code",
   "execution_count": 5,
   "id": "1cf1f355",
   "metadata": {},
   "outputs": [],
   "source": [
    "#get_dummies for driver columns:\n",
    "dummy_df = pd.get_dummies(train[['workhard','hlthmntl','socrel','decevidc']], dummy_na=False, drop_first= False, dtype=int)\n",
    "train = pd.concat([train, dummy_df], axis=1)"
   ]
  },
  {
   "cell_type": "code",
   "execution_count": 6,
   "id": "280dac1b",
   "metadata": {},
   "outputs": [
    {
     "data": {
      "text/plain": [
       "Index(['zodiac', 'race', 'age', 'sex', 'sexornt', 'marital', 'res16', 'reg16',\n",
       "       'degree', 'income', 'wrkslf', 'satjob', 'occ10', 'partyid', 'if16who',\n",
       "       'polviews', 'gunlaw', 'grassv', 'relig', 'postlifev', 'postlifenv',\n",
       "       'sprtprsn', 'sprtconnct', 'sprtlrgr', 'sprtpurp', 'happy', 'life',\n",
       "       'obey', 'popular', 'thnkself', 'workhard', 'helpoth', 'grtwrks',\n",
       "       'freemind', 'decevidc', 'advfmsci', 'mditate1', 'health', 'hlthphys',\n",
       "       'hlthmntl', 'enjoynat', 'eatmeat', 'recycle', 'nobuygrn', 'fairv',\n",
       "       'fairnv', 'helpfulv', 'helpfulnv', 'trustv', 'trustnv', 'conmedic',\n",
       "       'contv', 'conpress', 'consci', 'conjudge', 'conlegis', 'socbar',\n",
       "       'socrel', 'socommun', 'socfrend', 'satsoc', 'class', 'satfin',\n",
       "       'quallife', 'partners', 'partnrs5', 'baseline_prediction', 'actual'],\n",
       "      dtype='object')"
      ]
     },
     "execution_count": 6,
     "metadata": {},
     "output_type": "execute_result"
    }
   ],
   "source": [
    "validate.columns"
   ]
  },
  {
   "cell_type": "code",
   "execution_count": 7,
   "id": "66d9f114",
   "metadata": {},
   "outputs": [],
   "source": [
    "dummy_df2 = pd.get_dummies(validate[['workhard','hlthmntl','socrel','decevidc']], dummy_na=False, drop_first= False)\n",
    "validate = pd.concat([validate, dummy_df2], axis=1)"
   ]
  },
  {
   "cell_type": "code",
   "execution_count": 8,
   "id": "2f560565",
   "metadata": {},
   "outputs": [],
   "source": [
    "dummy_df3 = pd.get_dummies(test[['workhard','hlthmntl','socrel','decevidc']], dummy_na=False, drop_first= False, dtype=int)\n",
    "test = pd.concat([test, dummy_df3], axis=1)"
   ]
  },
  {
   "cell_type": "code",
   "execution_count": 9,
   "id": "30cd3874",
   "metadata": {},
   "outputs": [
    {
     "data": {
      "text/plain": [
       "Index(['zodiac', 'race', 'age', 'sex', 'sexornt', 'marital', 'res16', 'reg16',\n",
       "       'degree', 'income', 'wrkslf', 'satjob', 'occ10', 'partyid', 'if16who',\n",
       "       'polviews', 'gunlaw', 'grassv', 'relig', 'postlifev', 'postlifenv',\n",
       "       'sprtprsn', 'sprtconnct', 'sprtlrgr', 'sprtpurp', 'happy', 'life',\n",
       "       'obey', 'popular', 'thnkself', 'workhard', 'helpoth', 'grtwrks',\n",
       "       'freemind', 'decevidc', 'advfmsci', 'mditate1', 'health', 'hlthphys',\n",
       "       'hlthmntl', 'enjoynat', 'eatmeat', 'recycle', 'nobuygrn', 'fairv',\n",
       "       'fairnv', 'helpfulv', 'helpfulnv', 'trustv', 'trustnv', 'conmedic',\n",
       "       'contv', 'conpress', 'consci', 'conjudge', 'conlegis', 'socbar',\n",
       "       'socrel', 'socommun', 'socfrend', 'satsoc', 'class', 'satfin',\n",
       "       'quallife', 'partners', 'partnrs5', 'baseline_prediction', 'actual',\n",
       "       'workhard_fifth', 'workhard_first', 'workhard_fourth',\n",
       "       'workhard_second', 'workhard_third', 'workhard_unknown',\n",
       "       'hlthmntl_excellent', 'hlthmntl_fair', 'hlthmntl_good', 'hlthmntl_poor',\n",
       "       'hlthmntl_unknown', 'hlthmntl_very good', 'socrel_about once a month',\n",
       "       'socrel_about once a year', 'socrel_almost daily', 'socrel_never',\n",
       "       'socrel_once or twice a week', 'socrel_several times a month',\n",
       "       'socrel_several times a year', 'socrel_unknown',\n",
       "       'decevidc_1.  strongly agree', 'decevidc_2.  agree',\n",
       "       'decevidc_3.  neither agree nor disagree', 'decevidc_4.  disagree, or',\n",
       "       'decevidc_5.  strongly disagree?', 'decevidc_unknown'],\n",
       "      dtype='object')"
      ]
     },
     "execution_count": 9,
     "metadata": {},
     "output_type": "execute_result"
    }
   ],
   "source": [
    "train.columns"
   ]
  },
  {
   "cell_type": "code",
   "execution_count": 10,
   "id": "098751ea",
   "metadata": {},
   "outputs": [],
   "source": [
    "# create X & y version of train, where y is a series with just the target variable and X are all the driver features. \n",
    "\n",
    "X_train = train.drop(columns=['zodiac', 'race', 'age', 'sex', 'sexornt', 'marital', 'res16', 'reg16',\n",
    "       'degree', 'income', 'wrkslf', 'satjob', 'occ10', 'partyid', 'if16who',\n",
    "       'polviews', 'gunlaw', 'grassv', 'relig', 'postlifev', 'postlifenv',\n",
    "       'sprtprsn', 'sprtconnct', 'sprtlrgr', 'sprtpurp', 'happy', 'life',\n",
    "       'obey', 'popular', 'thnkself', 'workhard', 'helpoth', 'grtwrks',\n",
    "       'freemind', 'decevidc', 'advfmsci', 'mditate1', 'health', 'hlthphys',\n",
    "       'hlthmntl', 'enjoynat', 'eatmeat', 'recycle', 'nobuygrn', 'fairv',\n",
    "       'fairnv', 'helpfulv', 'helpfulnv', 'trustv', 'trustnv', 'conmedic',\n",
    "       'contv', 'conpress', 'consci', 'conjudge', 'conlegis', 'socbar',\n",
    "       'socrel', 'socommun', 'socfrend', 'satsoc', 'class', 'satfin',\n",
    "       'quallife', 'partners', 'partnrs5', 'baseline_prediction', 'actual','workhard_fifth'])\n",
    "y_train = train.zodiac\n",
    "\n",
    "X_validate = validate.drop(columns=['zodiac', 'race', 'age', 'sex', 'sexornt', 'marital', 'res16', 'reg16',\n",
    "       'degree', 'income', 'wrkslf', 'satjob', 'occ10', 'partyid', 'if16who',\n",
    "       'polviews', 'gunlaw', 'grassv', 'relig', 'postlifev', 'postlifenv',\n",
    "       'sprtprsn', 'sprtconnct', 'sprtlrgr', 'sprtpurp', 'happy', 'life',\n",
    "       'obey', 'popular', 'thnkself', 'workhard', 'helpoth', 'grtwrks',\n",
    "       'freemind', 'decevidc', 'advfmsci', 'mditate1', 'health', 'hlthphys',\n",
    "       'hlthmntl', 'enjoynat', 'eatmeat', 'recycle', 'nobuygrn', 'fairv',\n",
    "       'fairnv', 'helpfulv', 'helpfulnv', 'trustv', 'trustnv', 'conmedic',\n",
    "       'contv', 'conpress', 'consci', 'conjudge', 'conlegis', 'socbar',\n",
    "       'socrel', 'socommun', 'socfrend', 'satsoc', 'class', 'satfin',\n",
    "       'quallife', 'partners', 'partnrs5', 'baseline_prediction', 'actual'])\n",
    "y_validate = validate.zodiac\n",
    "\n",
    "X_test = test.drop(columns=['zodiac', 'race', 'age', 'sex', 'sexornt', 'marital', 'res16', 'reg16',\n",
    "       'degree', 'income', 'wrkslf', 'satjob', 'occ10', 'partyid', 'if16who',\n",
    "       'polviews', 'gunlaw', 'grassv', 'relig', 'postlifev', 'postlifenv',\n",
    "       'sprtprsn', 'sprtconnct', 'sprtlrgr', 'sprtpurp', 'happy', 'life',\n",
    "       'obey', 'popular', 'thnkself', 'workhard', 'helpoth', 'grtwrks',\n",
    "       'freemind', 'decevidc', 'advfmsci', 'mditate1', 'health', 'hlthphys',\n",
    "       'hlthmntl', 'enjoynat', 'eatmeat', 'recycle', 'nobuygrn', 'fairv',\n",
    "       'fairnv', 'helpfulv', 'helpfulnv', 'trustv', 'trustnv', 'conmedic',\n",
    "       'contv', 'conpress', 'consci', 'conjudge', 'conlegis', 'socbar',\n",
    "       'socrel', 'socommun', 'socfrend', 'satsoc', 'class', 'satfin',\n",
    "       'quallife', 'partners', 'partnrs5','workhard_fifth'])\n",
    "y_test = test.zodiac"
   ]
  },
  {
   "cell_type": "code",
   "execution_count": 11,
   "id": "339d26fc",
   "metadata": {},
   "outputs": [
    {
     "data": {
      "text/html": [
       "<div>\n",
       "<style scoped>\n",
       "    .dataframe tbody tr th:only-of-type {\n",
       "        vertical-align: middle;\n",
       "    }\n",
       "\n",
       "    .dataframe tbody tr th {\n",
       "        vertical-align: top;\n",
       "    }\n",
       "\n",
       "    .dataframe thead th {\n",
       "        text-align: right;\n",
       "    }\n",
       "</style>\n",
       "<table border=\"1\" class=\"dataframe\">\n",
       "  <thead>\n",
       "    <tr style=\"text-align: right;\">\n",
       "      <th></th>\n",
       "      <th>workhard_first</th>\n",
       "      <th>workhard_fourth</th>\n",
       "      <th>workhard_second</th>\n",
       "      <th>workhard_third</th>\n",
       "      <th>workhard_unknown</th>\n",
       "      <th>hlthmntl_excellent</th>\n",
       "      <th>hlthmntl_fair</th>\n",
       "      <th>hlthmntl_good</th>\n",
       "      <th>hlthmntl_poor</th>\n",
       "      <th>hlthmntl_unknown</th>\n",
       "      <th>...</th>\n",
       "      <th>socrel_once or twice a week</th>\n",
       "      <th>socrel_several times a month</th>\n",
       "      <th>socrel_several times a year</th>\n",
       "      <th>socrel_unknown</th>\n",
       "      <th>decevidc_1.  strongly agree</th>\n",
       "      <th>decevidc_2.  agree</th>\n",
       "      <th>decevidc_3.  neither agree nor disagree</th>\n",
       "      <th>decevidc_4.  disagree, or</th>\n",
       "      <th>decevidc_5.  strongly disagree?</th>\n",
       "      <th>decevidc_unknown</th>\n",
       "    </tr>\n",
       "  </thead>\n",
       "  <tbody>\n",
       "    <tr>\n",
       "      <th>2209</th>\n",
       "      <td>0</td>\n",
       "      <td>0</td>\n",
       "      <td>0</td>\n",
       "      <td>0</td>\n",
       "      <td>1</td>\n",
       "      <td>0</td>\n",
       "      <td>0</td>\n",
       "      <td>0</td>\n",
       "      <td>0</td>\n",
       "      <td>0</td>\n",
       "      <td>...</td>\n",
       "      <td>0</td>\n",
       "      <td>0</td>\n",
       "      <td>0</td>\n",
       "      <td>0</td>\n",
       "      <td>0</td>\n",
       "      <td>0</td>\n",
       "      <td>1</td>\n",
       "      <td>0</td>\n",
       "      <td>0</td>\n",
       "      <td>0</td>\n",
       "    </tr>\n",
       "    <tr>\n",
       "      <th>299</th>\n",
       "      <td>1</td>\n",
       "      <td>0</td>\n",
       "      <td>0</td>\n",
       "      <td>0</td>\n",
       "      <td>0</td>\n",
       "      <td>0</td>\n",
       "      <td>0</td>\n",
       "      <td>1</td>\n",
       "      <td>0</td>\n",
       "      <td>0</td>\n",
       "      <td>...</td>\n",
       "      <td>0</td>\n",
       "      <td>0</td>\n",
       "      <td>0</td>\n",
       "      <td>1</td>\n",
       "      <td>0</td>\n",
       "      <td>1</td>\n",
       "      <td>0</td>\n",
       "      <td>0</td>\n",
       "      <td>0</td>\n",
       "      <td>0</td>\n",
       "    </tr>\n",
       "    <tr>\n",
       "      <th>2174</th>\n",
       "      <td>1</td>\n",
       "      <td>0</td>\n",
       "      <td>0</td>\n",
       "      <td>0</td>\n",
       "      <td>0</td>\n",
       "      <td>0</td>\n",
       "      <td>0</td>\n",
       "      <td>1</td>\n",
       "      <td>0</td>\n",
       "      <td>0</td>\n",
       "      <td>...</td>\n",
       "      <td>0</td>\n",
       "      <td>0</td>\n",
       "      <td>0</td>\n",
       "      <td>1</td>\n",
       "      <td>0</td>\n",
       "      <td>1</td>\n",
       "      <td>0</td>\n",
       "      <td>0</td>\n",
       "      <td>0</td>\n",
       "      <td>0</td>\n",
       "    </tr>\n",
       "    <tr>\n",
       "      <th>3018</th>\n",
       "      <td>0</td>\n",
       "      <td>0</td>\n",
       "      <td>0</td>\n",
       "      <td>0</td>\n",
       "      <td>1</td>\n",
       "      <td>0</td>\n",
       "      <td>0</td>\n",
       "      <td>1</td>\n",
       "      <td>0</td>\n",
       "      <td>0</td>\n",
       "      <td>...</td>\n",
       "      <td>0</td>\n",
       "      <td>1</td>\n",
       "      <td>0</td>\n",
       "      <td>0</td>\n",
       "      <td>0</td>\n",
       "      <td>1</td>\n",
       "      <td>0</td>\n",
       "      <td>0</td>\n",
       "      <td>0</td>\n",
       "      <td>0</td>\n",
       "    </tr>\n",
       "    <tr>\n",
       "      <th>1374</th>\n",
       "      <td>0</td>\n",
       "      <td>0</td>\n",
       "      <td>0</td>\n",
       "      <td>0</td>\n",
       "      <td>1</td>\n",
       "      <td>0</td>\n",
       "      <td>1</td>\n",
       "      <td>0</td>\n",
       "      <td>0</td>\n",
       "      <td>0</td>\n",
       "      <td>...</td>\n",
       "      <td>0</td>\n",
       "      <td>0</td>\n",
       "      <td>0</td>\n",
       "      <td>0</td>\n",
       "      <td>0</td>\n",
       "      <td>0</td>\n",
       "      <td>1</td>\n",
       "      <td>0</td>\n",
       "      <td>0</td>\n",
       "      <td>0</td>\n",
       "    </tr>\n",
       "  </tbody>\n",
       "</table>\n",
       "<p>5 rows × 25 columns</p>\n",
       "</div>"
      ],
      "text/plain": [
       "      workhard_first  workhard_fourth  workhard_second  workhard_third  \\\n",
       "2209               0                0                0               0   \n",
       "299                1                0                0               0   \n",
       "2174               1                0                0               0   \n",
       "3018               0                0                0               0   \n",
       "1374               0                0                0               0   \n",
       "\n",
       "      workhard_unknown  hlthmntl_excellent  hlthmntl_fair  hlthmntl_good  \\\n",
       "2209                 1                   0              0              0   \n",
       "299                  0                   0              0              1   \n",
       "2174                 0                   0              0              1   \n",
       "3018                 1                   0              0              1   \n",
       "1374                 1                   0              1              0   \n",
       "\n",
       "      hlthmntl_poor  hlthmntl_unknown  ...  socrel_once or twice a week  \\\n",
       "2209              0                 0  ...                            0   \n",
       "299               0                 0  ...                            0   \n",
       "2174              0                 0  ...                            0   \n",
       "3018              0                 0  ...                            0   \n",
       "1374              0                 0  ...                            0   \n",
       "\n",
       "      socrel_several times a month  socrel_several times a year  \\\n",
       "2209                             0                            0   \n",
       "299                              0                            0   \n",
       "2174                             0                            0   \n",
       "3018                             1                            0   \n",
       "1374                             0                            0   \n",
       "\n",
       "      socrel_unknown  decevidc_1.  strongly agree  decevidc_2.  agree  \\\n",
       "2209               0                            0                   0   \n",
       "299                1                            0                   1   \n",
       "2174               1                            0                   1   \n",
       "3018               0                            0                   1   \n",
       "1374               0                            0                   0   \n",
       "\n",
       "      decevidc_3.  neither agree nor disagree  decevidc_4.  disagree, or  \\\n",
       "2209                                        1                          0   \n",
       "299                                         0                          0   \n",
       "2174                                        0                          0   \n",
       "3018                                        0                          0   \n",
       "1374                                        1                          0   \n",
       "\n",
       "      decevidc_5.  strongly disagree?  decevidc_unknown  \n",
       "2209                                0                 0  \n",
       "299                                 0                 0  \n",
       "2174                                0                 0  \n",
       "3018                                0                 0  \n",
       "1374                                0                 0  \n",
       "\n",
       "[5 rows x 25 columns]"
      ]
     },
     "execution_count": 11,
     "metadata": {},
     "output_type": "execute_result"
    }
   ],
   "source": [
    "X_validate.tail()"
   ]
  },
  {
   "cell_type": "markdown",
   "id": "5e6ee9e7",
   "metadata": {},
   "source": [
    "## Training the Model: Decision Tree"
   ]
  },
  {
   "cell_type": "code",
   "execution_count": 12,
   "id": "1fd6a052",
   "metadata": {},
   "outputs": [],
   "source": [
    "#creating the Decision tree model:\n",
    "\n",
    "clf = DecisionTreeClassifier(max_depth=3, random_state=123)\n",
    "# model.fit(X, y)\n",
    "clf = clf.fit(X_train, y_train)"
   ]
  },
  {
   "cell_type": "code",
   "execution_count": 13,
   "id": "c4a0d59c",
   "metadata": {},
   "outputs": [
    {
     "data": {
      "text/plain": [
       "[Text(362.7, 332.955, 'decevidc_1.  strongly agree <= 0.5\\ngini = 0.915\\nsamples = 2499\\nvalue = [225, 161, 188, 271, 183, 211, 204, 209, 228, 219\\n188, 212]\\nclass = capricorn'),\n",
       " Text(181.35, 237.825, 'socrel_several times a year <= 0.5\\ngini = 0.915\\nsamples = 1930\\nvalue = [178, 122, 137, 186, 135, 174, 158, 170, 176, 185\\n148, 161]\\nclass = capricorn'),\n",
       " Text(90.675, 142.695, 'hlthmntl_fair <= 0.5\\ngini = 0.914\\nsamples = 1622\\nvalue = [147, 97, 108, 170, 109, 140, 134, 155, 146, 165\\n116, 135]\\nclass = capricorn'),\n",
       " Text(45.3375, 47.565, 'gini = 0.914\\nsamples = 1429\\nvalue = [131, 77, 91, 156, 95, 125, 112, 131, 130, 148, 103\\n130]\\nclass = capricorn'),\n",
       " Text(136.0125, 47.565, 'gini = 0.91\\nsamples = 193\\nvalue = [16, 20, 17, 14, 14, 15, 22, 24, 16, 17, 13, 5]\\nclass = pisces'),\n",
       " Text(272.025, 142.695, 'hlthmntl_unknown <= 0.5\\ngini = 0.912\\nsamples = 308\\nvalue = [31, 25, 29, 16, 26, 34, 24, 15, 30, 20, 32, 26]\\nclass = leo'),\n",
       " Text(226.6875, 47.565, 'gini = 0.913\\nsamples = 285\\nvalue = [28, 23, 25, 14, 24, 31, 24, 15, 25, 20, 32, 24]\\nclass = taurus'),\n",
       " Text(317.3625, 47.565, 'gini = 0.858\\nsamples = 23\\nvalue = [3, 2, 4, 2, 2, 3, 0, 0, 5, 0, 0, 2]\\nclass = sagittarius'),\n",
       " Text(544.05, 237.825, 'socrel_about once a month <= 0.5\\ngini = 0.911\\nsamples = 569\\nvalue = [47, 39, 51, 85, 48, 37, 46, 39, 52, 34, 40, 51]\\nclass = capricorn'),\n",
       " Text(453.375, 142.695, 'socrel_several times a year <= 0.5\\ngini = 0.912\\nsamples = 519\\nvalue = [44, 39, 43, 74, 48, 34, 42, 38, 44, 31, 38, 44]\\nclass = capricorn'),\n",
       " Text(408.03749999999997, 47.565, 'gini = 0.911\\nsamples = 407\\nvalue = [41, 32, 28, 57, 38, 28, 36, 33, 36, 19, 25, 34]\\nclass = capricorn'),\n",
       " Text(498.7125, 47.565, 'gini = 0.901\\nsamples = 112\\nvalue = [3, 7, 15, 17, 10, 6, 6, 5, 8, 12, 13, 10]\\nclass = capricorn'),\n",
       " Text(634.725, 142.695, 'hlthmntl_good <= 0.5\\ngini = 0.862\\nsamples = 50\\nvalue = [3, 0, 8, 11, 0, 3, 4, 1, 8, 3, 2, 7]\\nclass = capricorn'),\n",
       " Text(589.3874999999999, 47.565, 'gini = 0.846\\nsamples = 38\\nvalue = [1, 0, 7, 9, 0, 3, 4, 0, 7, 3, 2, 2]\\nclass = capricorn'),\n",
       " Text(680.0625, 47.565, 'gini = 0.75\\nsamples = 12\\nvalue = [2, 0, 1, 2, 0, 0, 0, 1, 1, 0, 0, 5]\\nclass = virgo')]"
      ]
     },
     "execution_count": 13,
     "metadata": {},
     "output_type": "execute_result"
    },
    {
     "data": {
      "image/png": "[encoded data removed]",
      "text/plain": [
       "<Figure size 936x504 with 1 Axes>"
      ]
     },
     "metadata": {
      "needs_background": "light"
     },
     "output_type": "display_data"
    }
   ],
   "source": [
    "#plotting decision tree\n",
    "plt.figure(figsize=(13, 7))\n",
    "plot_tree(clf, feature_names=X_train.columns, class_names=clf.classes_, rounded=True)"
   ]
  },
  {
   "cell_type": "code",
   "execution_count": 14,
   "id": "033dbe87",
   "metadata": {},
   "outputs": [
    {
     "data": {
      "text/plain": [
       "array(['taurus', 'capricorn', 'capricorn', 'capricorn', 'capricorn'],\n",
       "      dtype=object)"
      ]
     },
     "execution_count": 14,
     "metadata": {},
     "output_type": "execute_result"
    }
   ],
   "source": [
    "# make prediction on train obeservations\n",
    "\n",
    "y_pred = clf.predict(X_train)\n",
    "y_pred[0:5]\n"
   ]
  },
  {
   "cell_type": "code",
   "execution_count": 15,
   "id": "d5153e37",
   "metadata": {},
   "outputs": [
    {
     "data": {
      "text/plain": [
       "array([[0.09824561, 0.08070175, 0.0877193 , 0.04912281, 0.08421053,\n",
       "        0.10877193, 0.08421053, 0.05263158, 0.0877193 , 0.07017544,\n",
       "        0.1122807 , 0.08421053],\n",
       "       [0.1007371 , 0.07862408, 0.06879607, 0.14004914, 0.09336609,\n",
       "        0.06879607, 0.08845209, 0.08108108, 0.08845209, 0.04668305,\n",
       "        0.06142506, 0.08353808],\n",
       "       [0.0916725 , 0.05388383, 0.0636809 , 0.10916725, 0.06648006,\n",
       "        0.08747376, 0.07837649, 0.0916725 , 0.09097271, 0.10356893,\n",
       "        0.07207838, 0.09097271],\n",
       "       [0.0916725 , 0.05388383, 0.0636809 , 0.10916725, 0.06648006,\n",
       "        0.08747376, 0.07837649, 0.0916725 , 0.09097271, 0.10356893,\n",
       "        0.07207838, 0.09097271],\n",
       "       [0.0916725 , 0.05388383, 0.0636809 , 0.10916725, 0.06648006,\n",
       "        0.08747376, 0.07837649, 0.0916725 , 0.09097271, 0.10356893,\n",
       "        0.07207838, 0.09097271]])"
      ]
     },
     "execution_count": 15,
     "metadata": {},
     "output_type": "execute_result"
    }
   ],
   "source": [
    "y_pred_proba = clf.predict_proba(X_train)\n",
    "y_pred_proba[0:5]\n"
   ]
  },
  {
   "cell_type": "code",
   "execution_count": 16,
   "id": "cb2e5c74",
   "metadata": {},
   "outputs": [
    {
     "name": "stdout",
     "output_type": "stream",
     "text": [
      "Accuracy of Decision Tree classifier on training set: 0.12\n"
     ]
    }
   ],
   "source": [
    "print('Accuracy of Decision Tree classifier on training set: {:.2f}'\n",
    "      .format(clf.score(X_train, y_train)))"
   ]
  },
  {
   "cell_type": "markdown",
   "id": "fbb923ac",
   "metadata": {},
   "source": [
    "## Classification Report of Decision Tree Model:"
   ]
  },
  {
   "cell_type": "code",
   "execution_count": 17,
   "id": "9edba445",
   "metadata": {},
   "outputs": [
    {
     "name": "stdout",
     "output_type": "stream",
     "text": [
      "              precision    recall  f1-score   support\n",
      "\n",
      "    aquarius       0.00      0.00      0.00       225\n",
      "       aries       0.00      0.00      0.00       161\n",
      "      cancer       0.00      0.00      0.00       188\n",
      "   capricorn       0.12      0.88      0.21       271\n",
      "      gemini       0.00      0.00      0.00       183\n",
      "         leo       0.00      0.00      0.00       211\n",
      "       libra       0.00      0.00      0.00       204\n",
      "      pisces       0.12      0.11      0.12       209\n",
      " sagittarius       0.22      0.02      0.04       228\n",
      "     scorpio       0.00      0.00      0.00       219\n",
      "      taurus       0.11      0.17      0.14       188\n",
      "       virgo       0.42      0.02      0.04       212\n",
      "\n",
      "    accuracy                           0.12      2499\n",
      "   macro avg       0.08      0.10      0.05      2499\n",
      "weighted avg       0.09      0.12      0.05      2499\n",
      "\n"
     ]
    }
   ],
   "source": [
    "print(classification_report(y_train, y_pred))"
   ]
  },
  {
   "cell_type": "markdown",
   "id": "c92a7ec2",
   "metadata": {},
   "source": [
    "## Takeaways:\n",
    "The Classification Report of the Decision Tree model is showing very low predictor accuracy scores.\n",
    "> Key Takeaways from report:\n",
    "- Precision score: Low numbers show that there were alot of false positives.\n",
    "- F1 score: really not close to 1.0 to show that this model is worth pursuing. "
   ]
  },
  {
   "cell_type": "code",
   "execution_count": 18,
   "id": "fc9d15dd",
   "metadata": {},
   "outputs": [
    {
     "data": {
      "text/plain": [
       "2867    sagittarius\n",
       "2815         pisces\n",
       "2340         pisces\n",
       "1964        scorpio\n",
       "436       capricorn\n",
       "Name: zodiac, dtype: object"
      ]
     },
     "execution_count": 18,
     "metadata": {},
     "output_type": "execute_result"
    }
   ],
   "source": [
    "#using validation dataset to see if accuracy score changes...\n",
    "y_validate.head()"
   ]
  },
  {
   "cell_type": "code",
   "execution_count": 19,
   "id": "6a476e3b",
   "metadata": {},
   "outputs": [
    {
     "name": "stdout",
     "output_type": "stream",
     "text": [
      "Accuracy of Decision Tree classifier on validate set: 0.09\n"
     ]
    }
   ],
   "source": [
    "print('Accuracy of Decision Tree classifier on validate set: {:.2f}'\n",
    "     .format(clf.score(X_validate, y_validate)))"
   ]
  },
  {
   "cell_type": "code",
   "execution_count": 20,
   "id": "81924ff9",
   "metadata": {},
   "outputs": [
    {
     "name": "stdout",
     "output_type": "stream",
     "text": [
      "              precision    recall  f1-score   support\n",
      "\n",
      "    aquarius       0.00      0.00      0.00        61\n",
      "       aries       0.00      0.00      0.00        40\n",
      "      cancer       0.00      0.00      0.00        37\n",
      "   capricorn       0.10      0.80      0.18        61\n",
      "      gemini       0.00      0.00      0.00        36\n",
      "         leo       0.00      0.00      0.00        49\n",
      "       libra       0.00      0.00      0.00        61\n",
      "      pisces       0.06      0.08      0.07        36\n",
      " sagittarius       0.00      0.00      0.00        61\n",
      "     scorpio       0.00      0.00      0.00        67\n",
      "      taurus       0.05      0.08      0.06        48\n",
      "       virgo       0.00      0.00      0.00        68\n",
      "\n",
      "    accuracy                           0.09       625\n",
      "   macro avg       0.02      0.08      0.03       625\n",
      "weighted avg       0.02      0.09      0.03       625\n",
      "\n"
     ]
    }
   ],
   "source": [
    "# Produce y_predictions that come from the X_validate\n",
    "y_pred = clf.predict(X_validate)\n",
    "\n",
    "# Compare actual y values (from validate) to predicted y_values from the model run on X_validate\n",
    "print(classification_report(y_validate, y_pred))\n"
   ]
  },
  {
   "cell_type": "markdown",
   "id": "f4703769",
   "metadata": {},
   "source": [
    "### Really not great accuracy scores of prediction. "
   ]
  },
  {
   "cell_type": "markdown",
   "id": "20ac91ea",
   "metadata": {},
   "source": [
    "__________________________________________________"
   ]
  },
  {
   "cell_type": "markdown",
   "id": "fc6b47e8",
   "metadata": {},
   "source": [
    "## Training the Model: Random Forest\n",
    "\n",
    "Creating fresh splits and X & y datasets:"
   ]
  },
  {
   "cell_type": "code",
   "execution_count": 21,
   "id": "1f8a5621",
   "metadata": {},
   "outputs": [
    {
     "name": "stdout",
     "output_type": "stream",
     "text": [
      "Train: 2499 rows, 66 cols\n",
      "Validate: 625 rows, 66 cols\n",
      "Test: 552 rows, 66 cols\n"
     ]
    }
   ],
   "source": [
    "# create X & y version of train, where y is a series with just the target variable and X are all the driver features. \n",
    "train, validate, test = wrangle.split(df)\n",
    "\n",
    "#get_dummies for driver columns:\n",
    "dummy_rf = pd.get_dummies(train[['workhard','hlthmntl','socrel','decevidc']], dummy_na=False, drop_first= False, dtype=int)\n",
    "train = pd.concat([train, dummy_rf], axis=1)\n",
    "\n",
    "dummy_rf2 = pd.get_dummies(validate[['workhard','hlthmntl','socrel','decevidc']], dummy_na=False, drop_first= False)\n",
    "validate = pd.concat([validate, dummy_rf2], axis=1)\n",
    "\n",
    "dummy_rf3 = pd.get_dummies(test[['workhard','hlthmntl','socrel','decevidc']], dummy_na=False, drop_first= False, dtype=int)\n",
    "test = pd.concat([test, dummy_rf3], axis=1)\n",
    "\n",
    "X_train2 = train.drop(columns=['zodiac', 'race', 'age', 'sex', 'sexornt', 'marital', 'res16', 'reg16',\n",
    "       'degree', 'income', 'wrkslf', 'satjob', 'occ10', 'partyid', 'if16who',\n",
    "       'polviews', 'gunlaw', 'grassv', 'relig', 'postlifev', 'postlifenv',\n",
    "       'sprtprsn', 'sprtconnct', 'sprtlrgr', 'sprtpurp', 'happy', 'life',\n",
    "       'obey', 'popular', 'thnkself', 'workhard', 'helpoth', 'grtwrks',\n",
    "       'freemind', 'decevidc', 'advfmsci', 'mditate1', 'health', 'hlthphys',\n",
    "       'hlthmntl', 'enjoynat', 'eatmeat', 'recycle', 'nobuygrn', 'fairv',\n",
    "       'fairnv', 'helpfulv', 'helpfulnv', 'trustv', 'trustnv', 'conmedic',\n",
    "       'contv', 'conpress', 'consci', 'conjudge', 'conlegis', 'socbar',\n",
    "       'socrel', 'socommun', 'socfrend', 'satsoc', 'class', 'satfin',\n",
    "       'quallife', 'partners', 'partnrs5','workhard_fifth'])\n",
    "y_train2 = train.zodiac\n",
    "\n",
    "X_validate2 = validate.drop(columns=['zodiac', 'race', 'age', 'sex', 'sexornt', 'marital', 'res16', 'reg16',\n",
    "       'degree', 'income', 'wrkslf', 'satjob', 'occ10', 'partyid', 'if16who',\n",
    "       'polviews', 'gunlaw', 'grassv', 'relig', 'postlifev', 'postlifenv',\n",
    "       'sprtprsn', 'sprtconnct', 'sprtlrgr', 'sprtpurp', 'happy', 'life',\n",
    "       'obey', 'popular', 'thnkself', 'workhard', 'helpoth', 'grtwrks',\n",
    "       'freemind', 'decevidc', 'advfmsci', 'mditate1', 'health', 'hlthphys',\n",
    "       'hlthmntl', 'enjoynat', 'eatmeat', 'recycle', 'nobuygrn', 'fairv',\n",
    "       'fairnv', 'helpfulv', 'helpfulnv', 'trustv', 'trustnv', 'conmedic',\n",
    "       'contv', 'conpress', 'consci', 'conjudge', 'conlegis', 'socbar',\n",
    "       'socrel', 'socommun', 'socfrend', 'satsoc', 'class', 'satfin',\n",
    "       'quallife', 'partners', 'partnrs5'])\n",
    "y_validate2 = validate.zodiac\n",
    "\n",
    "X_test2 = test.drop(columns=['zodiac', 'race', 'age', 'sex', 'sexornt', 'marital', 'res16', 'reg16',\n",
    "       'degree', 'income', 'wrkslf', 'satjob', 'occ10', 'partyid', 'if16who',\n",
    "       'polviews', 'gunlaw', 'grassv', 'relig', 'postlifev', 'postlifenv',\n",
    "       'sprtprsn', 'sprtconnct', 'sprtlrgr', 'sprtpurp', 'happy', 'life',\n",
    "       'obey', 'popular', 'thnkself', 'workhard', 'helpoth', 'grtwrks',\n",
    "       'freemind', 'decevidc', 'advfmsci', 'mditate1', 'health', 'hlthphys',\n",
    "       'hlthmntl', 'enjoynat', 'eatmeat', 'recycle', 'nobuygrn', 'fairv',\n",
    "       'fairnv', 'helpfulv', 'helpfulnv', 'trustv', 'trustnv', 'conmedic',\n",
    "       'contv', 'conpress', 'consci', 'conjudge', 'conlegis', 'socbar',\n",
    "       'socrel', 'socommun', 'socfrend', 'satsoc', 'class', 'satfin',\n",
    "       'quallife', 'partners', 'partnrs5','workhard_fifth'])\n",
    "y_test2 = test.zodiac"
   ]
  },
  {
   "cell_type": "code",
   "execution_count": 22,
   "id": "f4950494",
   "metadata": {},
   "outputs": [],
   "source": [
    "#creating the Random Forest classifier\n",
    "rf = RandomForestClassifier(bootstrap=True, \n",
    "                            class_weight=None, \n",
    "                            criterion='gini',\n",
    "                            min_samples_leaf=3,\n",
    "                            n_estimators=100,\n",
    "                            max_depth=3, \n",
    "                            random_state=123)"
   ]
  },
  {
   "cell_type": "code",
   "execution_count": 23,
   "id": "0e9565fe",
   "metadata": {},
   "outputs": [
    {
     "data": {
      "text/plain": [
       "RandomForestClassifier(max_depth=3, min_samples_leaf=3, random_state=123)"
      ]
     },
     "execution_count": 23,
     "metadata": {},
     "output_type": "execute_result"
    }
   ],
   "source": [
    "#fitting the RF model to dataset:\n",
    "rf.fit(X_train2, y_train2)"
   ]
  },
  {
   "cell_type": "code",
   "execution_count": 24,
   "id": "d6fd4a33",
   "metadata": {},
   "outputs": [
    {
     "name": "stdout",
     "output_type": "stream",
     "text": [
      "[0.07116764 0.04920672 0.03867475 0.03383198 0.03240704 0.03401353\n",
      " 0.08400456 0.03274989 0.02430548 0.03355474 0.02605857 0.03859852\n",
      " 0.01801092 0.02318412 0.02223273 0.01873657 0.05995164 0.0728812\n",
      " 0.04065375 0.09209262 0.04498138 0.03015394 0.02761773 0.00773629\n",
      " 0.04319368]\n"
     ]
    }
   ],
   "source": [
    "#evaluating the importance of each feature of df:\n",
    "print(rf.feature_importances_)"
   ]
  },
  {
   "cell_type": "code",
   "execution_count": 25,
   "id": "cb9dcf22",
   "metadata": {},
   "outputs": [],
   "source": [
    "#Making predictions\n",
    "y_pred = rf.predict(X_train2)"
   ]
  },
  {
   "cell_type": "code",
   "execution_count": 26,
   "id": "9eeed4c2",
   "metadata": {},
   "outputs": [],
   "source": [
    "#creating estimated probability of zodiac prediction model:\n",
    "y_pred_proba = rf.predict_proba(X_train2)"
   ]
  },
  {
   "cell_type": "markdown",
   "id": "ac038258",
   "metadata": {},
   "source": [
    "#### Evaluating RF model:"
   ]
  },
  {
   "cell_type": "code",
   "execution_count": 27,
   "id": "0e99f953",
   "metadata": {},
   "outputs": [
    {
     "name": "stdout",
     "output_type": "stream",
     "text": [
      "Accuracy of random forest classifier on training set: 0.14\n"
     ]
    }
   ],
   "source": [
    "#Evaluating the model:\n",
    "print('Accuracy of random forest classifier on training set: {:.2f}'\n",
    "     .format(rf.score(X_train2, y_train2)))\n"
   ]
  },
  {
   "cell_type": "markdown",
   "id": "82d7940f",
   "metadata": {},
   "source": [
    "#### Classification Report:"
   ]
  },
  {
   "cell_type": "code",
   "execution_count": 28,
   "id": "a188741c",
   "metadata": {},
   "outputs": [
    {
     "name": "stdout",
     "output_type": "stream",
     "text": [
      "              precision    recall  f1-score   support\n",
      "\n",
      "    aquarius       0.33      0.07      0.12       225\n",
      "       aries       0.00      0.00      0.00       161\n",
      "      cancer       0.30      0.03      0.06       188\n",
      "   capricorn       0.12      0.89      0.22       271\n",
      "      gemini       0.00      0.00      0.00       183\n",
      "         leo       0.12      0.02      0.04       211\n",
      "       libra       0.17      0.06      0.09       204\n",
      "      pisces       0.26      0.09      0.13       209\n",
      " sagittarius       0.15      0.08      0.11       228\n",
      "     scorpio       0.27      0.10      0.15       219\n",
      "      taurus       0.27      0.02      0.04       188\n",
      "       virgo       0.13      0.05      0.07       212\n",
      "\n",
      "    accuracy                           0.14      2499\n",
      "   macro avg       0.18      0.12      0.08      2499\n",
      "weighted avg       0.18      0.14      0.09      2499\n",
      "\n"
     ]
    }
   ],
   "source": [
    "print(classification_report(y_train2, y_pred))"
   ]
  },
  {
   "cell_type": "markdown",
   "id": "d4178306",
   "metadata": {},
   "source": [
    "### Takeaways:\n",
    "- This model performs much better than the Decision Tree model, however precision and f1 scores are still really low."
   ]
  },
  {
   "cell_type": "markdown",
   "id": "d5b79757",
   "metadata": {},
   "source": [
    "#### Validating RF model:"
   ]
  },
  {
   "cell_type": "code",
   "execution_count": 29,
   "id": "2d7e8479",
   "metadata": {},
   "outputs": [
    {
     "name": "stdout",
     "output_type": "stream",
     "text": [
      "Accuracy of random forest classifier on test set: 0.11\n"
     ]
    }
   ],
   "source": [
    "print('Accuracy of random forest classifier on test set: {:.2f}'\n",
    "     .format(rf.score(X_validate2, y_validate2)))"
   ]
  },
  {
   "cell_type": "markdown",
   "id": "c0e98246",
   "metadata": {},
   "source": [
    "### Not great but still better than baseline and decision tree model."
   ]
  },
  {
   "cell_type": "markdown",
   "id": "d6ade7d8",
   "metadata": {},
   "source": [
    "__________________________________________________________________"
   ]
  },
  {
   "cell_type": "markdown",
   "id": "6cd83471",
   "metadata": {},
   "source": [
    "## Training the Model: KNNeighbors w/ 3n_neighbors\n",
    "\n",
    "Creating fresh splits and X & y datasets:"
   ]
  },
  {
   "cell_type": "code",
   "execution_count": 30,
   "id": "19faeeb2",
   "metadata": {},
   "outputs": [
    {
     "name": "stdout",
     "output_type": "stream",
     "text": [
      "Train: 2499 rows, 66 cols\n",
      "Validate: 625 rows, 66 cols\n",
      "Test: 552 rows, 66 cols\n"
     ]
    }
   ],
   "source": [
    "# create X & y version of train, where y is a series with just the target variable and X are all the driver features. \n",
    "train, validate, test = wrangle.split(df)\n",
    "\n",
    "#get_dummies for driver columns:\n",
    "dummy_knn = pd.get_dummies(train[['workhard','hlthmntl','socrel','decevidc']], dummy_na=False, drop_first= False, dtype=int)\n",
    "train = pd.concat([train, dummy_knn], axis=1)\n",
    "\n",
    "dummy_knn1 = pd.get_dummies(validate[['workhard','hlthmntl','socrel','decevidc']], dummy_na=False, drop_first= False)\n",
    "validate = pd.concat([validate, dummy_knn1], axis=1)\n",
    "\n",
    "dummy_knn2 = pd.get_dummies(test[['workhard','hlthmntl','socrel','decevidc']], dummy_na=False, drop_first= False, dtype=int)\n",
    "test = pd.concat([test, dummy_knn2], axis=1)\n",
    "\n",
    "X_train3 = train.drop(columns=['zodiac', 'race', 'age', 'sex', 'sexornt', 'marital', 'res16', 'reg16',\n",
    "       'degree', 'income', 'wrkslf', 'satjob', 'occ10', 'partyid', 'if16who',\n",
    "       'polviews', 'gunlaw', 'grassv', 'relig', 'postlifev', 'postlifenv',\n",
    "       'sprtprsn', 'sprtconnct', 'sprtlrgr', 'sprtpurp', 'happy', 'life',\n",
    "       'obey', 'popular', 'thnkself', 'workhard', 'helpoth', 'grtwrks',\n",
    "       'freemind', 'decevidc', 'advfmsci', 'mditate1', 'health', 'hlthphys',\n",
    "       'hlthmntl', 'enjoynat', 'eatmeat', 'recycle', 'nobuygrn', 'fairv',\n",
    "       'fairnv', 'helpfulv', 'helpfulnv', 'trustv', 'trustnv', 'conmedic',\n",
    "       'contv', 'conpress', 'consci', 'conjudge', 'conlegis', 'socbar',\n",
    "       'socrel', 'socommun', 'socfrend', 'satsoc', 'class', 'satfin',\n",
    "       'quallife', 'partners', 'partnrs5','workhard_fifth'])\n",
    "y_train3 = train.zodiac\n",
    "\n",
    "X_validate3 = validate.drop(columns=['zodiac', 'race', 'age', 'sex', 'sexornt', 'marital', 'res16', 'reg16',\n",
    "       'degree', 'income', 'wrkslf', 'satjob', 'occ10', 'partyid', 'if16who',\n",
    "       'polviews', 'gunlaw', 'grassv', 'relig', 'postlifev', 'postlifenv',\n",
    "       'sprtprsn', 'sprtconnct', 'sprtlrgr', 'sprtpurp', 'happy', 'life',\n",
    "       'obey', 'popular', 'thnkself', 'workhard', 'helpoth', 'grtwrks',\n",
    "       'freemind', 'decevidc', 'advfmsci', 'mditate1', 'health', 'hlthphys',\n",
    "       'hlthmntl', 'enjoynat', 'eatmeat', 'recycle', 'nobuygrn', 'fairv',\n",
    "       'fairnv', 'helpfulv', 'helpfulnv', 'trustv', 'trustnv', 'conmedic',\n",
    "       'contv', 'conpress', 'consci', 'conjudge', 'conlegis', 'socbar',\n",
    "       'socrel', 'socommun', 'socfrend', 'satsoc', 'class', 'satfin',\n",
    "       'quallife', 'partners', 'partnrs5'])\n",
    "y_validate3 = validate.zodiac\n",
    "\n",
    "X_test3 = test.drop(columns=['zodiac', 'race', 'age', 'sex', 'sexornt', 'marital', 'res16', 'reg16',\n",
    "       'degree', 'income', 'wrkslf', 'satjob', 'occ10', 'partyid', 'if16who',\n",
    "       'polviews', 'gunlaw', 'grassv', 'relig', 'postlifev', 'postlifenv',\n",
    "       'sprtprsn', 'sprtconnct', 'sprtlrgr', 'sprtpurp', 'happy', 'life',\n",
    "       'obey', 'popular', 'thnkself', 'workhard', 'helpoth', 'grtwrks',\n",
    "       'freemind', 'decevidc', 'advfmsci', 'mditate1', 'health', 'hlthphys',\n",
    "       'hlthmntl', 'enjoynat', 'eatmeat', 'recycle', 'nobuygrn', 'fairv',\n",
    "       'fairnv', 'helpfulv', 'helpfulnv', 'trustv', 'trustnv', 'conmedic',\n",
    "       'contv', 'conpress', 'consci', 'conjudge', 'conlegis', 'socbar',\n",
    "       'socrel', 'socommun', 'socfrend', 'satsoc', 'class', 'satfin',\n",
    "       'quallife', 'partners', 'partnrs5','workhard_fifth'])\n",
    "y_test3 = test.zodiac"
   ]
  },
  {
   "cell_type": "markdown",
   "id": "54731cdb",
   "metadata": {},
   "source": [
    "#### Creating KNN model:"
   ]
  },
  {
   "cell_type": "code",
   "execution_count": 31,
   "id": "64c9185f",
   "metadata": {},
   "outputs": [],
   "source": [
    "# weights = ['uniform', 'density']\n",
    "knn = KNeighborsClassifier(n_neighbors=5, weights='uniform')"
   ]
  },
  {
   "cell_type": "markdown",
   "id": "74bbd037",
   "metadata": {},
   "source": [
    "#### Fitting model:"
   ]
  },
  {
   "cell_type": "code",
   "execution_count": 32,
   "id": "6d646966",
   "metadata": {},
   "outputs": [
    {
     "data": {
      "text/plain": [
       "KNeighborsClassifier()"
      ]
     },
     "execution_count": 32,
     "metadata": {},
     "output_type": "execute_result"
    }
   ],
   "source": [
    "knn.fit(X_train3, y_train3)"
   ]
  },
  {
   "cell_type": "markdown",
   "id": "b13c117f",
   "metadata": {},
   "source": [
    "#### Making predictions & estimating probability:"
   ]
  },
  {
   "cell_type": "code",
   "execution_count": 34,
   "id": "0cc13fcd",
   "metadata": {},
   "outputs": [],
   "source": [
    "y_pred = knn.predict(X_train3)\n",
    "y_pred_proba = knn.predict_proba(X_train3)\n"
   ]
  },
  {
   "cell_type": "markdown",
   "id": "a15a186f",
   "metadata": {},
   "source": [
    "#### Evaluating Model:"
   ]
  },
  {
   "cell_type": "code",
   "execution_count": 35,
   "id": "0265ac0e",
   "metadata": {},
   "outputs": [
    {
     "name": "stdout",
     "output_type": "stream",
     "text": [
      "Accuracy of KNN classifier on training set: 0.25\n"
     ]
    }
   ],
   "source": [
    "print('Accuracy of KNN classifier on training set: {:.2f}'\n",
    "     .format(knn.score(X_train3, y_train3)))"
   ]
  },
  {
   "cell_type": "markdown",
   "id": "c6742ec4",
   "metadata": {},
   "source": [
    "#### Classification Report:"
   ]
  },
  {
   "cell_type": "code",
   "execution_count": 36,
   "id": "1ef02df6",
   "metadata": {},
   "outputs": [
    {
     "name": "stdout",
     "output_type": "stream",
     "text": [
      "              precision    recall  f1-score   support\n",
      "\n",
      "    aquarius       0.20      0.55      0.29       225\n",
      "       aries       0.16      0.42      0.23       161\n",
      "      cancer       0.24      0.32      0.28       188\n",
      "   capricorn       0.29      0.36      0.32       271\n",
      "      gemini       0.25      0.22      0.24       183\n",
      "         leo       0.31      0.18      0.23       211\n",
      "       libra       0.30      0.18      0.22       204\n",
      "      pisces       0.33      0.12      0.18       209\n",
      " sagittarius       0.32      0.14      0.20       228\n",
      "     scorpio       0.38      0.21      0.27       219\n",
      "      taurus       0.39      0.11      0.17       188\n",
      "       virgo       0.34      0.15      0.21       212\n",
      "\n",
      "    accuracy                           0.25      2499\n",
      "   macro avg       0.29      0.25      0.24      2499\n",
      "weighted avg       0.30      0.25      0.24      2499\n",
      "\n"
     ]
    }
   ],
   "source": [
    "print(classification_report(y_train3, y_pred))\n"
   ]
  },
  {
   "cell_type": "markdown",
   "id": "8ef4111e",
   "metadata": {},
   "source": [
    "#### Validating model to check accuracy there:"
   ]
  },
  {
   "cell_type": "code",
   "execution_count": 37,
   "id": "348b97cf",
   "metadata": {},
   "outputs": [
    {
     "name": "stdout",
     "output_type": "stream",
     "text": [
      "Accuracy of KNN classifier on test set: 0.07\n"
     ]
    }
   ],
   "source": [
    "print('Accuracy of KNN classifier on test set: {:.2f}'\n",
    "     .format(knn.score(X_validate3, y_validate3)))\n"
   ]
  },
  {
   "cell_type": "markdown",
   "id": "8a966499",
   "metadata": {},
   "source": [
    "## Takeaway:\n",
    "- With the low validation score, it looks like despite the higher KNN initial training of the model, this might not be the best choice."
   ]
  },
  {
   "cell_type": "markdown",
   "id": "9968ab94",
   "metadata": {},
   "source": [
    "________________________________________________________"
   ]
  },
  {
   "cell_type": "markdown",
   "id": "6a9fdcab",
   "metadata": {},
   "source": [
    "## Training the Model: KNNeighbors w/ 10n_neighbors\n",
    "\n",
    "Creating fresh splits and X & y datasets:"
   ]
  },
  {
   "cell_type": "code",
   "execution_count": 43,
   "id": "c9db4568",
   "metadata": {},
   "outputs": [
    {
     "name": "stdout",
     "output_type": "stream",
     "text": [
      "Train: 2499 rows, 66 cols\n",
      "Validate: 625 rows, 66 cols\n",
      "Test: 552 rows, 66 cols\n"
     ]
    }
   ],
   "source": [
    "# create X & y version of train, where y is a series with just the target variable and X are all the driver features. \n",
    "train, validate, test = wrangle.split(df)\n",
    "\n",
    "#get_dummies for driver columns:\n",
    "dummy_k1 = pd.get_dummies(train[['workhard','hlthmntl','socrel','decevidc']], dummy_na=False, drop_first= False, dtype=int)\n",
    "train = pd.concat([train, dummy_k1], axis=1)\n",
    "\n",
    "dummy_k12 = pd.get_dummies(validate[['workhard','hlthmntl','socrel','decevidc']], dummy_na=False, drop_first= False)\n",
    "validate = pd.concat([validate, dummy_k12], axis=1)\n",
    "\n",
    "dummy_k13 = pd.get_dummies(test[['workhard','hlthmntl','socrel','decevidc']], dummy_na=False, drop_first= False, dtype=int)\n",
    "test = pd.concat([test, dummy_k13], axis=1)\n",
    "\n",
    "X_train4 = train.drop(columns=['zodiac', 'race', 'age', 'sex', 'sexornt', 'marital', 'res16', 'reg16',\n",
    "       'degree', 'income', 'wrkslf', 'satjob', 'occ10', 'partyid', 'if16who',\n",
    "       'polviews', 'gunlaw', 'grassv', 'relig', 'postlifev', 'postlifenv',\n",
    "       'sprtprsn', 'sprtconnct', 'sprtlrgr', 'sprtpurp', 'happy', 'life',\n",
    "       'obey', 'popular', 'thnkself', 'workhard', 'helpoth', 'grtwrks',\n",
    "       'freemind', 'decevidc', 'advfmsci', 'mditate1', 'health', 'hlthphys',\n",
    "       'hlthmntl', 'enjoynat', 'eatmeat', 'recycle', 'nobuygrn', 'fairv',\n",
    "       'fairnv', 'helpfulv', 'helpfulnv', 'trustv', 'trustnv', 'conmedic',\n",
    "       'contv', 'conpress', 'consci', 'conjudge', 'conlegis', 'socbar',\n",
    "       'socrel', 'socommun', 'socfrend', 'satsoc', 'class', 'satfin',\n",
    "       'quallife', 'partners', 'partnrs5','workhard_fifth'])\n",
    "y_train4 = train.zodiac\n",
    "\n",
    "X_validate4 = validate.drop(columns=['zodiac', 'race', 'age', 'sex', 'sexornt', 'marital', 'res16', 'reg16',\n",
    "       'degree', 'income', 'wrkslf', 'satjob', 'occ10', 'partyid', 'if16who',\n",
    "       'polviews', 'gunlaw', 'grassv', 'relig', 'postlifev', 'postlifenv',\n",
    "       'sprtprsn', 'sprtconnct', 'sprtlrgr', 'sprtpurp', 'happy', 'life',\n",
    "       'obey', 'popular', 'thnkself', 'workhard', 'helpoth', 'grtwrks',\n",
    "       'freemind', 'decevidc', 'advfmsci', 'mditate1', 'health', 'hlthphys',\n",
    "       'hlthmntl', 'enjoynat', 'eatmeat', 'recycle', 'nobuygrn', 'fairv',\n",
    "       'fairnv', 'helpfulv', 'helpfulnv', 'trustv', 'trustnv', 'conmedic',\n",
    "       'contv', 'conpress', 'consci', 'conjudge', 'conlegis', 'socbar',\n",
    "       'socrel', 'socommun', 'socfrend', 'satsoc', 'class', 'satfin',\n",
    "       'quallife', 'partners', 'partnrs5'])\n",
    "y_validate4 = validate.zodiac\n",
    "\n",
    "X_test4 = test.drop(columns=['zodiac', 'race', 'age', 'sex', 'sexornt', 'marital', 'res16', 'reg16',\n",
    "       'degree', 'income', 'wrkslf', 'satjob', 'occ10', 'partyid', 'if16who',\n",
    "       'polviews', 'gunlaw', 'grassv', 'relig', 'postlifev', 'postlifenv',\n",
    "       'sprtprsn', 'sprtconnct', 'sprtlrgr', 'sprtpurp', 'happy', 'life',\n",
    "       'obey', 'popular', 'thnkself', 'workhard', 'helpoth', 'grtwrks',\n",
    "       'freemind', 'decevidc', 'advfmsci', 'mditate1', 'health', 'hlthphys',\n",
    "       'hlthmntl', 'enjoynat', 'eatmeat', 'recycle', 'nobuygrn', 'fairv',\n",
    "       'fairnv', 'helpfulv', 'helpfulnv', 'trustv', 'trustnv', 'conmedic',\n",
    "       'contv', 'conpress', 'consci', 'conjudge', 'conlegis', 'socbar',\n",
    "       'socrel', 'socommun', 'socfrend', 'satsoc', 'class', 'satfin',\n",
    "       'quallife', 'partners', 'partnrs5','workhard_fifth'])\n",
    "y_test4 = test.zodiac"
   ]
  },
  {
   "cell_type": "code",
   "execution_count": 44,
   "id": "a409e97b",
   "metadata": {},
   "outputs": [],
   "source": [
    "# weights = ['uniform', 'density']\n",
    "knn = KNeighborsClassifier(n_neighbors=10, weights='uniform')\n",
    "\n",
    "#Fitting model:\n",
    "knn.fit(X_train4, y_train4)\n",
    "\n",
    "#Making predictions & estimating probability:\n",
    "y_pred = knn.predict(X_train4)\n",
    "y_pred_proba = knn.predict_proba(X_train4)\n"
   ]
  },
  {
   "cell_type": "code",
   "execution_count": 45,
   "id": "84f6bb6d",
   "metadata": {},
   "outputs": [
    {
     "name": "stdout",
     "output_type": "stream",
     "text": [
      "Accuracy of KNN classifier on training set: 0.23\n"
     ]
    }
   ],
   "source": [
    "#Evaluating Model:\n",
    "print('Accuracy of KNN classifier on training set: {:.2f}'\n",
    "     .format(knn.score(X_train4, y_train4)))\n"
   ]
  },
  {
   "cell_type": "markdown",
   "id": "e7ea22d0",
   "metadata": {},
   "source": [
    "#### Classification Report:"
   ]
  },
  {
   "cell_type": "code",
   "execution_count": 46,
   "id": "a52be9b8",
   "metadata": {},
   "outputs": [
    {
     "name": "stdout",
     "output_type": "stream",
     "text": [
      "              precision    recall  f1-score   support\n",
      "\n",
      "    aquarius       0.19      0.38      0.26       225\n",
      "       aries       0.24      0.29      0.26       161\n",
      "      cancer       0.22      0.32      0.26       188\n",
      "   capricorn       0.25      0.43      0.31       271\n",
      "      gemini       0.17      0.14      0.15       183\n",
      "         leo       0.26      0.22      0.24       211\n",
      "       libra       0.28      0.19      0.23       204\n",
      "      pisces       0.20      0.21      0.21       209\n",
      " sagittarius       0.28      0.11      0.16       228\n",
      "     scorpio       0.32      0.20      0.24       219\n",
      "      taurus       0.31      0.14      0.20       188\n",
      "       virgo       0.22      0.13      0.17       212\n",
      "\n",
      "    accuracy                           0.23      2499\n",
      "   macro avg       0.25      0.23      0.22      2499\n",
      "weighted avg       0.25      0.23      0.23      2499\n",
      "\n"
     ]
    }
   ],
   "source": [
    "\n",
    "print(classification_report(y_train4, y_pred))\n"
   ]
  },
  {
   "cell_type": "markdown",
   "id": "c3780e65",
   "metadata": {},
   "source": [
    "#### Validation of KNN10:"
   ]
  },
  {
   "cell_type": "code",
   "execution_count": 47,
   "id": "82f295d4",
   "metadata": {},
   "outputs": [
    {
     "name": "stdout",
     "output_type": "stream",
     "text": [
      "Accuracy of KNN classifier on test set: 0.09\n"
     ]
    }
   ],
   "source": [
    "print('Accuracy of KNN classifier on test set: {:.2f}'\n",
    "     .format(knn.score(X_validate4, y_validate3)))\n"
   ]
  },
  {
   "cell_type": "markdown",
   "id": "cd52dce9",
   "metadata": {},
   "source": [
    "__________________________________________________________"
   ]
  },
  {
   "cell_type": "code",
   "execution_count": null,
   "id": "1c8c6162",
   "metadata": {},
   "outputs": [],
   "source": []
  }
 ],
 "metadata": {
  "kernelspec": {
   "display_name": "Python 3 (ipykernel)",
   "language": "python",
   "name": "python3"
  },
  "language_info": {
   "codemirror_mode": {
    "name": "ipython",
    "version": 3
   },
   "file_extension": ".py",
   "mimetype": "text/x-python",
   "name": "python",
   "nbconvert_exporter": "python",
   "pygments_lexer": "ipython3",
   "version": "3.9.7"
  }
 },
 "nbformat": 4,
 "nbformat_minor": 5
}
