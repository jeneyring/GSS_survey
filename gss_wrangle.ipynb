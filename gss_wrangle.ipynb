{
 "cells": [
  {
   "cell_type": "code",
   "execution_count": 1,
   "id": "abfeb158",
   "metadata": {},
   "outputs": [],
   "source": [
    "import pandas as pd\n",
    "import numpy as np\n",
    "\n"
   ]
  },
  {
   "cell_type": "markdown",
   "id": "df2e6d71",
   "metadata": {},
   "source": [
    "# GSS 2021 SURVEY: \n",
    "## <i> CAN PARTICIPANT RESPONSES ACTUALLY SHOW WHAT ZODIAC SIGN A PERSON IS?\n",
    "    \n",
    "> Introduction: \n",
    "    Since 1972, the General Social Survey (GSS) has been conducted annually in the United States of contemporary American Society--through the lens of adult survey participants.\n",
    "    \n",
    "    The GSSurvey asks US adults questions related to current demographics, opinions, religious/spiritual beliefs, political and life view points, social class opinions, as well even recording peoples zodiac signs.\n",
    "    \n",
    "    As many viewpoints on astrology overall seem to be changing, oftentimes in terms of self-identity and decision factors, this project is taking a look at astrology/zodiac signs to determine if the responses of the US adult partipants of the GSS actually correlates to the astrological signs they provided. \n",
    "    \n",
    "    "
   ]
  },
  {
   "cell_type": "code",
   "execution_count": 2,
   "id": "9ca868a7",
   "metadata": {},
   "outputs": [],
   "source": [
    "df = pd.read_stata('gss2021.dta')"
   ]
  },
  {
   "cell_type": "code",
   "execution_count": 3,
   "id": "49347ef6",
   "metadata": {},
   "outputs": [
    {
     "data": {
      "text/html": [
       "<div>\n",
       "<style scoped>\n",
       "    .dataframe tbody tr th:only-of-type {\n",
       "        vertical-align: middle;\n",
       "    }\n",
       "\n",
       "    .dataframe tbody tr th {\n",
       "        vertical-align: top;\n",
       "    }\n",
       "\n",
       "    .dataframe thead th {\n",
       "        text-align: right;\n",
       "    }\n",
       "</style>\n",
       "<table border=\"1\" class=\"dataframe\">\n",
       "  <thead>\n",
       "    <tr style=\"text-align: right;\">\n",
       "      <th></th>\n",
       "      <th>year</th>\n",
       "      <th>id</th>\n",
       "      <th>wrkstat</th>\n",
       "      <th>wrkslf</th>\n",
       "      <th>wrkgovt</th>\n",
       "      <th>occ10</th>\n",
       "      <th>prestg10</th>\n",
       "      <th>indus10</th>\n",
       "      <th>marital</th>\n",
       "      <th>martype</th>\n",
       "      <th>...</th>\n",
       "      <th>relitennv</th>\n",
       "      <th>biblenv</th>\n",
       "      <th>postlifenv</th>\n",
       "      <th>kidssolnv</th>\n",
       "      <th>uscitznnv</th>\n",
       "      <th>fucitznnv</th>\n",
       "      <th>fepolnv</th>\n",
       "      <th>scibnftsnv</th>\n",
       "      <th>abanyg</th>\n",
       "      <th>fileversion</th>\n",
       "    </tr>\n",
       "  </thead>\n",
       "  <tbody>\n",
       "    <tr>\n",
       "      <th>0</th>\n",
       "      <td>2021</td>\n",
       "      <td>1</td>\n",
       "      <td>working full time</td>\n",
       "      <td>someone else</td>\n",
       "      <td>NaN</td>\n",
       "      <td>receptionists and information clerks</td>\n",
       "      <td>38.0</td>\n",
       "      <td>offices of dentists</td>\n",
       "      <td>married</td>\n",
       "      <td>NaN</td>\n",
       "      <td>...</td>\n",
       "      <td>not very strong</td>\n",
       "      <td>inspired word</td>\n",
       "      <td>no</td>\n",
       "      <td>somewhat worse</td>\n",
       "      <td>NaN</td>\n",
       "      <td>NaN</td>\n",
       "      <td>NaN</td>\n",
       "      <td>2.0</td>\n",
       "      <td>no</td>\n",
       "      <td>7221.2</td>\n",
       "    </tr>\n",
       "    <tr>\n",
       "      <th>1</th>\n",
       "      <td>2021</td>\n",
       "      <td>2</td>\n",
       "      <td>working full time</td>\n",
       "      <td>someone else</td>\n",
       "      <td>NaN</td>\n",
       "      <td>advertising and promotions managers</td>\n",
       "      <td>57.0</td>\n",
       "      <td>advertising and related services</td>\n",
       "      <td>divorced</td>\n",
       "      <td>NaN</td>\n",
       "      <td>...</td>\n",
       "      <td>no religion</td>\n",
       "      <td>NaN</td>\n",
       "      <td>NaN</td>\n",
       "      <td>NaN</td>\n",
       "      <td>NaN</td>\n",
       "      <td>NaN</td>\n",
       "      <td>NaN</td>\n",
       "      <td>NaN</td>\n",
       "      <td>NaN</td>\n",
       "      <td>7221.2</td>\n",
       "    </tr>\n",
       "    <tr>\n",
       "      <th>2</th>\n",
       "      <td>2021</td>\n",
       "      <td>3</td>\n",
       "      <td>working part time</td>\n",
       "      <td>someone else</td>\n",
       "      <td>NaN</td>\n",
       "      <td>miscellaneous assemblers and fabricators</td>\n",
       "      <td>35.0</td>\n",
       "      <td>furniture and home furnishings stores</td>\n",
       "      <td>never married</td>\n",
       "      <td>NaN</td>\n",
       "      <td>...</td>\n",
       "      <td>NaN</td>\n",
       "      <td>NaN</td>\n",
       "      <td>NaN</td>\n",
       "      <td>NaN</td>\n",
       "      <td>NaN</td>\n",
       "      <td>NaN</td>\n",
       "      <td>disagree</td>\n",
       "      <td>NaN</td>\n",
       "      <td>yes</td>\n",
       "      <td>7221.2</td>\n",
       "    </tr>\n",
       "    <tr>\n",
       "      <th>3</th>\n",
       "      <td>2021</td>\n",
       "      <td>4</td>\n",
       "      <td>working part time</td>\n",
       "      <td>self-employed</td>\n",
       "      <td>NaN</td>\n",
       "      <td>childcare workers</td>\n",
       "      <td>35.0</td>\n",
       "      <td>child day care services</td>\n",
       "      <td>widowed</td>\n",
       "      <td>NaN</td>\n",
       "      <td>...</td>\n",
       "      <td>NaN</td>\n",
       "      <td>NaN</td>\n",
       "      <td>NaN</td>\n",
       "      <td>NaN</td>\n",
       "      <td>NaN</td>\n",
       "      <td>NaN</td>\n",
       "      <td>NaN</td>\n",
       "      <td>NaN</td>\n",
       "      <td>NaN</td>\n",
       "      <td>7221.2</td>\n",
       "    </tr>\n",
       "    <tr>\n",
       "      <th>4</th>\n",
       "      <td>2021</td>\n",
       "      <td>6</td>\n",
       "      <td>working full time</td>\n",
       "      <td>someone else</td>\n",
       "      <td>NaN</td>\n",
       "      <td>insurance claims and policy processing clerks</td>\n",
       "      <td>38.0</td>\n",
       "      <td>insurance carriers and related activities</td>\n",
       "      <td>never married</td>\n",
       "      <td>NaN</td>\n",
       "      <td>...</td>\n",
       "      <td>not very strong</td>\n",
       "      <td>inspired word</td>\n",
       "      <td>yes</td>\n",
       "      <td>NaN</td>\n",
       "      <td>a u.s. citizen</td>\n",
       "      <td>NaN</td>\n",
       "      <td>disagree</td>\n",
       "      <td>NaN</td>\n",
       "      <td>yes</td>\n",
       "      <td>7221.2</td>\n",
       "    </tr>\n",
       "  </tbody>\n",
       "</table>\n",
       "<p>5 rows × 713 columns</p>\n",
       "</div>"
      ],
      "text/plain": [
       "   year  id            wrkstat         wrkslf wrkgovt  \\\n",
       "0  2021   1  working full time   someone else     NaN   \n",
       "1  2021   2  working full time   someone else     NaN   \n",
       "2  2021   3  working part time   someone else     NaN   \n",
       "3  2021   4  working part time  self-employed     NaN   \n",
       "4  2021   6  working full time   someone else     NaN   \n",
       "\n",
       "                                           occ10  prestg10  \\\n",
       "0           receptionists and information clerks      38.0   \n",
       "1            advertising and promotions managers      57.0   \n",
       "2       miscellaneous assemblers and fabricators      35.0   \n",
       "3                              childcare workers      35.0   \n",
       "4  insurance claims and policy processing clerks      38.0   \n",
       "\n",
       "                                     indus10        marital martype  ...  \\\n",
       "0                        offices of dentists        married     NaN  ...   \n",
       "1           advertising and related services       divorced     NaN  ...   \n",
       "2      furniture and home furnishings stores  never married     NaN  ...   \n",
       "3                    child day care services        widowed     NaN  ...   \n",
       "4  insurance carriers and related activities  never married     NaN  ...   \n",
       "\n",
       "         relitennv        biblenv postlifenv       kidssolnv       uscitznnv  \\\n",
       "0  not very strong  inspired word         no  somewhat worse             NaN   \n",
       "1      no religion            NaN        NaN             NaN             NaN   \n",
       "2              NaN            NaN        NaN             NaN             NaN   \n",
       "3              NaN            NaN        NaN             NaN             NaN   \n",
       "4  not very strong  inspired word        yes             NaN  a u.s. citizen   \n",
       "\n",
       "  fucitznnv   fepolnv scibnftsnv  abanyg fileversion  \n",
       "0       NaN       NaN        2.0      no      7221.2  \n",
       "1       NaN       NaN        NaN     NaN      7221.2  \n",
       "2       NaN  disagree        NaN     yes      7221.2  \n",
       "3       NaN       NaN        NaN     NaN      7221.2  \n",
       "4       NaN  disagree        NaN     yes      7221.2  \n",
       "\n",
       "[5 rows x 713 columns]"
      ]
     },
     "execution_count": 3,
     "metadata": {},
     "output_type": "execute_result"
    }
   ],
   "source": [
    "df.head()"
   ]
  },
  {
   "cell_type": "markdown",
   "id": "de995f3c",
   "metadata": {},
   "source": [
    "### Notes: I went through the survey and found that these will be the columns I am wanting to keep:\n",
    "> #### Target Variable: ZODIAC\n",
    "\n",
    "> Demographic Variabales:\n",
    "- born, race, ethnic, age, sex, sexbirth, sexnow, sexornt, hompop, marital, martype\n",
    "\n",
    "> Growing up Variables:\n",
    "- paocc10, maocc10, res16, reg16, reli16\n",
    "\n",
    "> Education variables:\n",
    "- edu, degree, major1, coldeg1\n",
    "\n",
    "> Career Variables:\n",
    "- hrs1, hrs2, income, wrkslf, indust, satjob, isco08, occ10\n",
    "\n",
    "> Politics Variables:\n",
    "- partyid, if16who, polviews, gunlaw, grassv\n",
    "\n",
    "> Religious and Spirituality variables:\n",
    "- relidesc, relig, cofund, postlifev, postlifenv, sprtprsn, relexp, sprtconnct, sprtlrgr, sprtpurp\n",
    "\n",
    "> Life View variables:\n",
    "- happy, happycohab, life, obey, popular, thnkself, workhard, helpoth, grtwrks, freemind, decevidc, advfmsci\n",
    "\n",
    "> Health variables:\n",
    "- mditate1, health, hlthphys, hlthmntl, enjoynat, plantrp, eatmeat, recycle, nobuygrn\n",
    "\n",
    "> View of others:\n",
    "- fairv, fairnv, helpfulv, helpfulnv, trustv, trustnv, conmedic, contv, conpress, consci, conjudge, conmilitary, conlegis\n",
    "\n",
    "> Social variables:\n",
    "- socbar, socrel, socommun, socfrend, satsoc, class, satfin, quallife, partners, partnrs5\n"
   ]
  },
  {
   "cell_type": "markdown",
   "id": "02d4822c",
   "metadata": {},
   "source": [
    "### My analysis is to see if the above survey responses to the questions can actually closely predict what zodiac sign each respondant is. \n",
    "\n",
    "I wanted to try this out as I would say that I am moderately unconvinced that Astrology can be a classifier for a person, but I think it would be interesting to test this theory. "
   ]
  },
  {
   "cell_type": "code",
   "execution_count": 4,
   "id": "cec4026d",
   "metadata": {},
   "outputs": [],
   "source": [
    "df  = df[['zodiac','born', 'race', \n",
    "          'ethnic', 'age', 'sex', 'sexornt', \n",
    "          'marital', 'martype','paocc10', 'maocc10', 'res16', \n",
    "          'reg16', 'degree',  \n",
    "          'income', 'wrkslf', 'satjob', 'occ10','partyid', \n",
    "          'if16who', 'polviews', 'gunlaw', 'grassv','relidesc', 'relig', \n",
    "          'postlifev', 'postlifenv', 'sprtprsn', 'sprtconnct', 'sprtlrgr', \n",
    "          'sprtpurp','happy', 'life', 'obey', 'popular', 'thnkself', \n",
    "          'workhard', 'helpoth', 'grtwrks', 'freemind', 'decevidc', 'advfmsci',\n",
    "         'mditate1', 'health', 'hlthphys', 'hlthmntl', 'enjoynat',  \n",
    "          'eatmeat', 'recycle', 'nobuygrn','fairv', 'fairnv', 'helpfulv', \n",
    "          'helpfulnv', 'trustv', 'trustnv', 'conmedic', 'contv', 'conpress', \n",
    "          'consci', 'conjudge', 'conlegis', 'socbar', \n",
    "          'socrel', 'socommun', 'socfrend', 'satsoc', 'class', 'satfin', \n",
    "          'quallife', 'partners', 'partnrs5'\n",
    "        ]]"
   ]
  },
  {
   "cell_type": "code",
   "execution_count": 5,
   "id": "d286814e",
   "metadata": {},
   "outputs": [
    {
     "data": {
      "text/plain": [
       "Index(['zodiac', 'born', 'race', 'ethnic', 'age', 'sex', 'sexornt', 'marital',\n",
       "       'martype', 'paocc10', 'maocc10', 'res16', 'reg16', 'degree', 'income',\n",
       "       'wrkslf', 'satjob', 'occ10', 'partyid', 'if16who', 'polviews', 'gunlaw',\n",
       "       'grassv', 'relidesc', 'relig', 'postlifev', 'postlifenv', 'sprtprsn',\n",
       "       'sprtconnct', 'sprtlrgr', 'sprtpurp', 'happy', 'life', 'obey',\n",
       "       'popular', 'thnkself', 'workhard', 'helpoth', 'grtwrks', 'freemind',\n",
       "       'decevidc', 'advfmsci', 'mditate1', 'health', 'hlthphys', 'hlthmntl',\n",
       "       'enjoynat', 'eatmeat', 'recycle', 'nobuygrn', 'fairv', 'fairnv',\n",
       "       'helpfulv', 'helpfulnv', 'trustv', 'trustnv', 'conmedic', 'contv',\n",
       "       'conpress', 'consci', 'conjudge', 'conlegis', 'socbar', 'socrel',\n",
       "       'socommun', 'socfrend', 'satsoc', 'class', 'satfin', 'quallife',\n",
       "       'partners', 'partnrs5'],\n",
       "      dtype='object')"
      ]
     },
     "execution_count": 5,
     "metadata": {},
     "output_type": "execute_result"
    }
   ],
   "source": [
    "df.columns"
   ]
  },
  {
   "cell_type": "code",
   "execution_count": 6,
   "id": "59316e1c",
   "metadata": {},
   "outputs": [
    {
     "data": {
      "text/html": [
       "<div>\n",
       "<style scoped>\n",
       "    .dataframe tbody tr th:only-of-type {\n",
       "        vertical-align: middle;\n",
       "    }\n",
       "\n",
       "    .dataframe tbody tr th {\n",
       "        vertical-align: top;\n",
       "    }\n",
       "\n",
       "    .dataframe thead th {\n",
       "        text-align: right;\n",
       "    }\n",
       "</style>\n",
       "<table border=\"1\" class=\"dataframe\">\n",
       "  <thead>\n",
       "    <tr style=\"text-align: right;\">\n",
       "      <th></th>\n",
       "      <th>zodiac</th>\n",
       "      <th>born</th>\n",
       "      <th>race</th>\n",
       "      <th>ethnic</th>\n",
       "      <th>age</th>\n",
       "      <th>sex</th>\n",
       "      <th>sexornt</th>\n",
       "      <th>marital</th>\n",
       "      <th>martype</th>\n",
       "      <th>paocc10</th>\n",
       "      <th>...</th>\n",
       "      <th>socbar</th>\n",
       "      <th>socrel</th>\n",
       "      <th>socommun</th>\n",
       "      <th>socfrend</th>\n",
       "      <th>satsoc</th>\n",
       "      <th>class</th>\n",
       "      <th>satfin</th>\n",
       "      <th>quallife</th>\n",
       "      <th>partners</th>\n",
       "      <th>partnrs5</th>\n",
       "    </tr>\n",
       "  </thead>\n",
       "  <tbody>\n",
       "    <tr>\n",
       "      <th>0</th>\n",
       "      <td>pisces</td>\n",
       "      <td>yes</td>\n",
       "      <td>white</td>\n",
       "      <td>italy</td>\n",
       "      <td>65.0</td>\n",
       "      <td>female</td>\n",
       "      <td>heterosexual or straight</td>\n",
       "      <td>married</td>\n",
       "      <td>NaN</td>\n",
       "      <td>dredge, excavating, and loading machine operators</td>\n",
       "      <td>...</td>\n",
       "      <td>NaN</td>\n",
       "      <td>NaN</td>\n",
       "      <td>NaN</td>\n",
       "      <td>NaN</td>\n",
       "      <td>fair</td>\n",
       "      <td>middle class</td>\n",
       "      <td>more or less satisfied</td>\n",
       "      <td>good</td>\n",
       "      <td>1 partner</td>\n",
       "      <td>1 partner</td>\n",
       "    </tr>\n",
       "    <tr>\n",
       "      <th>1</th>\n",
       "      <td>pisces</td>\n",
       "      <td>yes</td>\n",
       "      <td>white</td>\n",
       "      <td>england and wales</td>\n",
       "      <td>60.0</td>\n",
       "      <td>male</td>\n",
       "      <td>NaN</td>\n",
       "      <td>divorced</td>\n",
       "      <td>NaN</td>\n",
       "      <td>chief executives</td>\n",
       "      <td>...</td>\n",
       "      <td>several times a month</td>\n",
       "      <td>several times a year</td>\n",
       "      <td>once or twice a week</td>\n",
       "      <td>several times a month</td>\n",
       "      <td>very good</td>\n",
       "      <td>upper class</td>\n",
       "      <td>pretty well satisfied</td>\n",
       "      <td>excellent</td>\n",
       "      <td>NaN</td>\n",
       "      <td>NaN</td>\n",
       "    </tr>\n",
       "    <tr>\n",
       "      <th>2</th>\n",
       "      <td>NaN</td>\n",
       "      <td>NaN</td>\n",
       "      <td>white</td>\n",
       "      <td>england and wales</td>\n",
       "      <td>NaN</td>\n",
       "      <td>NaN</td>\n",
       "      <td>NaN</td>\n",
       "      <td>never married</td>\n",
       "      <td>NaN</td>\n",
       "      <td>designers</td>\n",
       "      <td>...</td>\n",
       "      <td>several times a month</td>\n",
       "      <td>several times a month</td>\n",
       "      <td>about once a month</td>\n",
       "      <td>several times a month</td>\n",
       "      <td>NaN</td>\n",
       "      <td>middle class</td>\n",
       "      <td>not satisfied at all</td>\n",
       "      <td>NaN</td>\n",
       "      <td>NaN</td>\n",
       "      <td>NaN</td>\n",
       "    </tr>\n",
       "    <tr>\n",
       "      <th>3</th>\n",
       "      <td>NaN</td>\n",
       "      <td>NaN</td>\n",
       "      <td>white</td>\n",
       "      <td>ireland</td>\n",
       "      <td>NaN</td>\n",
       "      <td>NaN</td>\n",
       "      <td>NaN</td>\n",
       "      <td>widowed</td>\n",
       "      <td>NaN</td>\n",
       "      <td>firefighters</td>\n",
       "      <td>...</td>\n",
       "      <td>about once a year</td>\n",
       "      <td>about once a month</td>\n",
       "      <td>about once a month</td>\n",
       "      <td>about once a year</td>\n",
       "      <td>NaN</td>\n",
       "      <td>working class</td>\n",
       "      <td>not satisfied at all</td>\n",
       "      <td>NaN</td>\n",
       "      <td>NaN</td>\n",
       "      <td>NaN</td>\n",
       "    </tr>\n",
       "    <tr>\n",
       "      <th>4</th>\n",
       "      <td>NaN</td>\n",
       "      <td>no</td>\n",
       "      <td>black</td>\n",
       "      <td>804.0</td>\n",
       "      <td>NaN</td>\n",
       "      <td>female</td>\n",
       "      <td>NaN</td>\n",
       "      <td>never married</td>\n",
       "      <td>NaN</td>\n",
       "      <td>driver/sales workers and truck drivers</td>\n",
       "      <td>...</td>\n",
       "      <td>several times a month</td>\n",
       "      <td>about once a month</td>\n",
       "      <td>about once a year</td>\n",
       "      <td>several times a month</td>\n",
       "      <td>good</td>\n",
       "      <td>working class</td>\n",
       "      <td>not satisfied at all</td>\n",
       "      <td>very good</td>\n",
       "      <td>NaN</td>\n",
       "      <td>NaN</td>\n",
       "    </tr>\n",
       "  </tbody>\n",
       "</table>\n",
       "<p>5 rows × 72 columns</p>\n",
       "</div>"
      ],
      "text/plain": [
       "   zodiac born   race             ethnic   age     sex  \\\n",
       "0  pisces  yes  white              italy  65.0  female   \n",
       "1  pisces  yes  white  england and wales  60.0    male   \n",
       "2     NaN  NaN  white  england and wales   NaN     NaN   \n",
       "3     NaN  NaN  white            ireland   NaN     NaN   \n",
       "4     NaN   no  black              804.0   NaN  female   \n",
       "\n",
       "                    sexornt        marital martype  \\\n",
       "0  heterosexual or straight        married     NaN   \n",
       "1                       NaN       divorced     NaN   \n",
       "2                       NaN  never married     NaN   \n",
       "3                       NaN        widowed     NaN   \n",
       "4                       NaN  never married     NaN   \n",
       "\n",
       "                                             paocc10  ...  \\\n",
       "0  dredge, excavating, and loading machine operators  ...   \n",
       "1                                   chief executives  ...   \n",
       "2                                          designers  ...   \n",
       "3                                       firefighters  ...   \n",
       "4             driver/sales workers and truck drivers  ...   \n",
       "\n",
       "                  socbar                 socrel              socommun  \\\n",
       "0                    NaN                    NaN                   NaN   \n",
       "1  several times a month   several times a year  once or twice a week   \n",
       "2  several times a month  several times a month    about once a month   \n",
       "3      about once a year     about once a month    about once a month   \n",
       "4  several times a month     about once a month     about once a year   \n",
       "\n",
       "                socfrend     satsoc          class                  satfin  \\\n",
       "0                    NaN       fair   middle class  more or less satisfied   \n",
       "1  several times a month  very good    upper class   pretty well satisfied   \n",
       "2  several times a month        NaN   middle class    not satisfied at all   \n",
       "3      about once a year        NaN  working class    not satisfied at all   \n",
       "4  several times a month       good  working class    not satisfied at all   \n",
       "\n",
       "    quallife   partners   partnrs5  \n",
       "0       good  1 partner  1 partner  \n",
       "1  excellent        NaN        NaN  \n",
       "2        NaN        NaN        NaN  \n",
       "3        NaN        NaN        NaN  \n",
       "4  very good        NaN        NaN  \n",
       "\n",
       "[5 rows x 72 columns]"
      ]
     },
     "execution_count": 6,
     "metadata": {},
     "output_type": "execute_result"
    }
   ],
   "source": [
    "df.head(5)"
   ]
  },
  {
   "cell_type": "code",
   "execution_count": 7,
   "id": "808a8e5c",
   "metadata": {},
   "outputs": [
    {
     "data": {
      "text/plain": [
       "(4032, 72)"
      ]
     },
     "execution_count": 7,
     "metadata": {},
     "output_type": "execute_result"
    }
   ],
   "source": [
    "df.shape"
   ]
  },
  {
   "cell_type": "code",
   "execution_count": 8,
   "id": "4b9134af",
   "metadata": {},
   "outputs": [
    {
     "data": {
      "text/plain": [
       "zodiac      category\n",
       "born        category\n",
       "race        category\n",
       "ethnic      category\n",
       "age         category\n",
       "              ...   \n",
       "class       category\n",
       "satfin      category\n",
       "quallife    category\n",
       "partners    category\n",
       "partnrs5    category\n",
       "Length: 72, dtype: object"
      ]
     },
     "execution_count": 8,
     "metadata": {},
     "output_type": "execute_result"
    }
   ],
   "source": [
    "df.dtypes"
   ]
  },
  {
   "cell_type": "code",
   "execution_count": 9,
   "id": "c8555696",
   "metadata": {},
   "outputs": [
    {
     "data": {
      "text/plain": [
       "capricorn      390\n",
       "scorpio        346\n",
       "sagittarius    339\n",
       "aquarius       330\n",
       "virgo          327\n",
       "libra          319\n",
       "leo            305\n",
       "taurus         281\n",
       "pisces         279\n",
       "cancer         270\n",
       "gemini         253\n",
       "aries          237\n",
       "Name: zodiac, dtype: int64"
      ]
     },
     "execution_count": 9,
     "metadata": {},
     "output_type": "execute_result"
    }
   ],
   "source": [
    "df.zodiac.value_counts()"
   ]
  },
  {
   "cell_type": "code",
   "execution_count": 10,
   "id": "56b9cdbd",
   "metadata": {},
   "outputs": [
    {
     "data": {
      "text/plain": [
       "356"
      ]
     },
     "execution_count": 10,
     "metadata": {},
     "output_type": "execute_result"
    }
   ],
   "source": [
    "#finding nulls in target variable...\n",
    "df.zodiac.isnull().sum()\n",
    "#respondants possibly not knowing, or caring..might be a good way to test?"
   ]
  },
  {
   "cell_type": "code",
   "execution_count": 11,
   "id": "a88e159c",
   "metadata": {},
   "outputs": [
    {
     "data": {
      "text/plain": [
       "zodiac       356\n",
       "born          72\n",
       "race          54\n",
       "ethnic       438\n",
       "age          333\n",
       "            ... \n",
       "class         14\n",
       "satfin        16\n",
       "quallife     400\n",
       "partners    1719\n",
       "partnrs5    1718\n",
       "Length: 72, dtype: int64"
      ]
     },
     "execution_count": 11,
     "metadata": {},
     "output_type": "execute_result"
    }
   ],
   "source": [
    "#finding nulls in other columns...\n",
    "df.isnull().sum()"
   ]
  },
  {
   "cell_type": "code",
   "execution_count": 12,
   "id": "f3801166",
   "metadata": {},
   "outputs": [
    {
     "data": {
      "text/plain": [
       "1 partner                   1416\n",
       "no partners                  336\n",
       "2 partners                   151\n",
       "5-10 partners                109\n",
       "3 partners                    83\n",
       "1 or more, (unspecified)      83\n",
       "4 partners                    64\n",
       "11-20 partners                40\n",
       "21-100 partners               25\n",
       "more than 100 partners         7\n",
       "Name: partnrs5, dtype: int64"
      ]
     },
     "execution_count": 12,
     "metadata": {},
     "output_type": "execute_result"
    }
   ],
   "source": [
    "#checking out the possible 'why' of nulls..\n",
    "df.partnrs5.value_counts()\n",
    "#possibly due to respondants not wanting to say...."
   ]
  },
  {
   "cell_type": "code",
   "execution_count": 13,
   "id": "0fa7feb7",
   "metadata": {},
   "outputs": [
    {
     "data": {
      "text/plain": [
       "very good    1449\n",
       "good         1243\n",
       "excellent     477\n",
       "fair          399\n",
       "poor           64\n",
       "Name: quallife, dtype: int64"
      ]
     },
     "execution_count": 13,
     "metadata": {},
     "output_type": "execute_result"
    }
   ],
   "source": [
    "df.quallife.value_counts()"
   ]
  },
  {
   "cell_type": "code",
   "execution_count": 14,
   "id": "1cd4bd8e",
   "metadata": {},
   "outputs": [
    {
     "data": {
      "text/plain": [
       "england and wales    599\n",
       "germany              507\n",
       "ireland              380\n",
       "italy                186\n",
       "mexico               179\n",
       "                    ... \n",
       "504.0                  1\n",
       "405.0                  1\n",
       "601.0                  1\n",
       "408.0                  1\n",
       "509.0                  1\n",
       "Name: ethnic, Length: 86, dtype: int64"
      ]
     },
     "execution_count": 14,
     "metadata": {},
     "output_type": "execute_result"
    }
   ],
   "source": [
    "df.ethnic.value_counts()"
   ]
  },
  {
   "cell_type": "code",
   "execution_count": 15,
   "id": "8ecbf212",
   "metadata": {},
   "outputs": [
    {
     "data": {
      "text/plain": [
       "67.0    89\n",
       "33.0    82\n",
       "59.0    81\n",
       "57.0    79\n",
       "63.0    77\n",
       "        ..\n",
       "19.0    14\n",
       "86.0    14\n",
       "87.0     5\n",
       "88.0     5\n",
       "18.0     4\n",
       "Name: age, Length: 72, dtype: int64"
      ]
     },
     "execution_count": 15,
     "metadata": {},
     "output_type": "execute_result"
    }
   ],
   "source": [
    "df.age.value_counts()"
   ]
  },
  {
   "cell_type": "markdown",
   "id": "b2c24776",
   "metadata": {},
   "source": [
    "### TAKEAWAY: I was considering possibly filling out 'unsure' and 'no response' for certain nulls, but I may just take them out by percentage basis as each nulled column is different and probably for different reasons"
   ]
  },
  {
   "cell_type": "code",
   "execution_count": 16,
   "id": "bdd51606",
   "metadata": {},
   "outputs": [
    {
     "data": {
      "text/plain": [
       "0"
      ]
     },
     "execution_count": 16,
     "metadata": {},
     "output_type": "execute_result"
    }
   ],
   "source": [
    "#First, I will just drop the nulls in the target variable column, as these won't help determine classifying the target\n",
    "df = df.dropna(axis=0, subset=['zodiac'])\n",
    "df.zodiac.isnull().sum()"
   ]
  },
  {
   "cell_type": "code",
   "execution_count": 17,
   "id": "437bd467",
   "metadata": {},
   "outputs": [
    {
     "ename": "ValueError",
     "evalue": "Cannot setitem on a Categorical with a new category, set the categories first",
     "output_type": "error",
     "traceback": [
      "\u001b[0;31m---------------------------------------------------------------------------\u001b[0m",
      "\u001b[0;31mValueError\u001b[0m                                Traceback (most recent call last)",
      "\u001b[0;32m/var/folders/d3/11nygz6126ndxvtrp12687680000gn/T/ipykernel_80478/2164471141.py\u001b[0m in \u001b[0;36m<module>\u001b[0;34m\u001b[0m\n\u001b[1;32m      1\u001b[0m \u001b[0;31m#Because the partners and partnrs5 columns are missing 1/3 of their responses, and could be possibly due to age/demographic, I will fill these with 'no_response'\u001b[0m\u001b[0;34m\u001b[0m\u001b[0;34m\u001b[0m\u001b[0m\n\u001b[0;32m----> 2\u001b[0;31m \u001b[0mdf\u001b[0m\u001b[0;34m.\u001b[0m\u001b[0mpartners\u001b[0m \u001b[0;34m=\u001b[0m \u001b[0mdf\u001b[0m\u001b[0;34m.\u001b[0m\u001b[0mpartners\u001b[0m\u001b[0;34m.\u001b[0m\u001b[0mfillna\u001b[0m\u001b[0;34m(\u001b[0m\u001b[0;34m'no_response'\u001b[0m\u001b[0;34m)\u001b[0m\u001b[0;34m\u001b[0m\u001b[0;34m\u001b[0m\u001b[0m\n\u001b[0m\u001b[1;32m      3\u001b[0m \u001b[0;31m#ok. I need to set a category up for these columns...\u001b[0m\u001b[0;34m\u001b[0m\u001b[0;34m\u001b[0m\u001b[0m\n",
      "\u001b[0;32m/usr/local/anaconda3/lib/python3.9/site-packages/pandas/util/_decorators.py\u001b[0m in \u001b[0;36mwrapper\u001b[0;34m(*args, **kwargs)\u001b[0m\n\u001b[1;32m    309\u001b[0m                     \u001b[0mstacklevel\u001b[0m\u001b[0;34m=\u001b[0m\u001b[0mstacklevel\u001b[0m\u001b[0;34m,\u001b[0m\u001b[0;34m\u001b[0m\u001b[0;34m\u001b[0m\u001b[0m\n\u001b[1;32m    310\u001b[0m                 )\n\u001b[0;32m--> 311\u001b[0;31m             \u001b[0;32mreturn\u001b[0m \u001b[0mfunc\u001b[0m\u001b[0;34m(\u001b[0m\u001b[0;34m*\u001b[0m\u001b[0margs\u001b[0m\u001b[0;34m,\u001b[0m \u001b[0;34m**\u001b[0m\u001b[0mkwargs\u001b[0m\u001b[0;34m)\u001b[0m\u001b[0;34m\u001b[0m\u001b[0;34m\u001b[0m\u001b[0m\n\u001b[0m\u001b[1;32m    312\u001b[0m \u001b[0;34m\u001b[0m\u001b[0m\n\u001b[1;32m    313\u001b[0m         \u001b[0;32mreturn\u001b[0m \u001b[0mwrapper\u001b[0m\u001b[0;34m\u001b[0m\u001b[0;34m\u001b[0m\u001b[0m\n",
      "\u001b[0;32m/usr/local/anaconda3/lib/python3.9/site-packages/pandas/core/series.py\u001b[0m in \u001b[0;36mfillna\u001b[0;34m(self, value, method, axis, inplace, limit, downcast)\u001b[0m\n\u001b[1;32m   4814\u001b[0m         \u001b[0mdowncast\u001b[0m\u001b[0;34m=\u001b[0m\u001b[0;32mNone\u001b[0m\u001b[0;34m,\u001b[0m\u001b[0;34m\u001b[0m\u001b[0;34m\u001b[0m\u001b[0m\n\u001b[1;32m   4815\u001b[0m     ) -> Series | None:\n\u001b[0;32m-> 4816\u001b[0;31m         return super().fillna(\n\u001b[0m\u001b[1;32m   4817\u001b[0m             \u001b[0mvalue\u001b[0m\u001b[0;34m=\u001b[0m\u001b[0mvalue\u001b[0m\u001b[0;34m,\u001b[0m\u001b[0;34m\u001b[0m\u001b[0;34m\u001b[0m\u001b[0m\n\u001b[1;32m   4818\u001b[0m             \u001b[0mmethod\u001b[0m\u001b[0;34m=\u001b[0m\u001b[0mmethod\u001b[0m\u001b[0;34m,\u001b[0m\u001b[0;34m\u001b[0m\u001b[0;34m\u001b[0m\u001b[0m\n",
      "\u001b[0;32m/usr/local/anaconda3/lib/python3.9/site-packages/pandas/core/generic.py\u001b[0m in \u001b[0;36mfillna\u001b[0;34m(self, value, method, axis, inplace, limit, downcast)\u001b[0m\n\u001b[1;32m   6357\u001b[0m                     )\n\u001b[1;32m   6358\u001b[0m \u001b[0;34m\u001b[0m\u001b[0m\n\u001b[0;32m-> 6359\u001b[0;31m                 new_data = self._mgr.fillna(\n\u001b[0m\u001b[1;32m   6360\u001b[0m                     \u001b[0mvalue\u001b[0m\u001b[0;34m=\u001b[0m\u001b[0mvalue\u001b[0m\u001b[0;34m,\u001b[0m \u001b[0mlimit\u001b[0m\u001b[0;34m=\u001b[0m\u001b[0mlimit\u001b[0m\u001b[0;34m,\u001b[0m \u001b[0minplace\u001b[0m\u001b[0;34m=\u001b[0m\u001b[0minplace\u001b[0m\u001b[0;34m,\u001b[0m \u001b[0mdowncast\u001b[0m\u001b[0;34m=\u001b[0m\u001b[0mdowncast\u001b[0m\u001b[0;34m\u001b[0m\u001b[0;34m\u001b[0m\u001b[0m\n\u001b[1;32m   6361\u001b[0m                 )\n",
      "\u001b[0;32m/usr/local/anaconda3/lib/python3.9/site-packages/pandas/core/internals/managers.py\u001b[0m in \u001b[0;36mfillna\u001b[0;34m(self, value, limit, inplace, downcast)\u001b[0m\n\u001b[1;32m    408\u001b[0m \u001b[0;34m\u001b[0m\u001b[0m\n\u001b[1;32m    409\u001b[0m     \u001b[0;32mdef\u001b[0m \u001b[0mfillna\u001b[0m\u001b[0;34m(\u001b[0m\u001b[0mself\u001b[0m\u001b[0;34m:\u001b[0m \u001b[0mT\u001b[0m\u001b[0;34m,\u001b[0m \u001b[0mvalue\u001b[0m\u001b[0;34m,\u001b[0m \u001b[0mlimit\u001b[0m\u001b[0;34m,\u001b[0m \u001b[0minplace\u001b[0m\u001b[0;34m:\u001b[0m \u001b[0mbool\u001b[0m\u001b[0;34m,\u001b[0m \u001b[0mdowncast\u001b[0m\u001b[0;34m)\u001b[0m \u001b[0;34m->\u001b[0m \u001b[0mT\u001b[0m\u001b[0;34m:\u001b[0m\u001b[0;34m\u001b[0m\u001b[0;34m\u001b[0m\u001b[0m\n\u001b[0;32m--> 410\u001b[0;31m         return self.apply(\n\u001b[0m\u001b[1;32m    411\u001b[0m             \u001b[0;34m\"fillna\"\u001b[0m\u001b[0;34m,\u001b[0m \u001b[0mvalue\u001b[0m\u001b[0;34m=\u001b[0m\u001b[0mvalue\u001b[0m\u001b[0;34m,\u001b[0m \u001b[0mlimit\u001b[0m\u001b[0;34m=\u001b[0m\u001b[0mlimit\u001b[0m\u001b[0;34m,\u001b[0m \u001b[0minplace\u001b[0m\u001b[0;34m=\u001b[0m\u001b[0minplace\u001b[0m\u001b[0;34m,\u001b[0m \u001b[0mdowncast\u001b[0m\u001b[0;34m=\u001b[0m\u001b[0mdowncast\u001b[0m\u001b[0;34m\u001b[0m\u001b[0;34m\u001b[0m\u001b[0m\n\u001b[1;32m    412\u001b[0m         )\n",
      "\u001b[0;32m/usr/local/anaconda3/lib/python3.9/site-packages/pandas/core/internals/managers.py\u001b[0m in \u001b[0;36mapply\u001b[0;34m(self, f, align_keys, ignore_failures, **kwargs)\u001b[0m\n\u001b[1;32m    325\u001b[0m                     \u001b[0mapplied\u001b[0m \u001b[0;34m=\u001b[0m \u001b[0mb\u001b[0m\u001b[0;34m.\u001b[0m\u001b[0mapply\u001b[0m\u001b[0;34m(\u001b[0m\u001b[0mf\u001b[0m\u001b[0;34m,\u001b[0m \u001b[0;34m**\u001b[0m\u001b[0mkwargs\u001b[0m\u001b[0;34m)\u001b[0m\u001b[0;34m\u001b[0m\u001b[0;34m\u001b[0m\u001b[0m\n\u001b[1;32m    326\u001b[0m                 \u001b[0;32melse\u001b[0m\u001b[0;34m:\u001b[0m\u001b[0;34m\u001b[0m\u001b[0;34m\u001b[0m\u001b[0m\n\u001b[0;32m--> 327\u001b[0;31m                     \u001b[0mapplied\u001b[0m \u001b[0;34m=\u001b[0m \u001b[0mgetattr\u001b[0m\u001b[0;34m(\u001b[0m\u001b[0mb\u001b[0m\u001b[0;34m,\u001b[0m \u001b[0mf\u001b[0m\u001b[0;34m)\u001b[0m\u001b[0;34m(\u001b[0m\u001b[0;34m**\u001b[0m\u001b[0mkwargs\u001b[0m\u001b[0;34m)\u001b[0m\u001b[0;34m\u001b[0m\u001b[0;34m\u001b[0m\u001b[0m\n\u001b[0m\u001b[1;32m    328\u001b[0m             \u001b[0;32mexcept\u001b[0m \u001b[0;34m(\u001b[0m\u001b[0mTypeError\u001b[0m\u001b[0;34m,\u001b[0m \u001b[0mNotImplementedError\u001b[0m\u001b[0;34m)\u001b[0m\u001b[0;34m:\u001b[0m\u001b[0;34m\u001b[0m\u001b[0;34m\u001b[0m\u001b[0m\n\u001b[1;32m    329\u001b[0m                 \u001b[0;32mif\u001b[0m \u001b[0;32mnot\u001b[0m \u001b[0mignore_failures\u001b[0m\u001b[0;34m:\u001b[0m\u001b[0;34m\u001b[0m\u001b[0;34m\u001b[0m\u001b[0m\n",
      "\u001b[0;32m/usr/local/anaconda3/lib/python3.9/site-packages/pandas/core/internals/blocks.py\u001b[0m in \u001b[0;36mfillna\u001b[0;34m(self, value, limit, inplace, downcast)\u001b[0m\n\u001b[1;32m   1570\u001b[0m         \u001b[0mself\u001b[0m\u001b[0;34m,\u001b[0m \u001b[0mvalue\u001b[0m\u001b[0;34m,\u001b[0m \u001b[0mlimit\u001b[0m\u001b[0;34m=\u001b[0m\u001b[0;32mNone\u001b[0m\u001b[0;34m,\u001b[0m \u001b[0minplace\u001b[0m\u001b[0;34m:\u001b[0m \u001b[0mbool\u001b[0m \u001b[0;34m=\u001b[0m \u001b[0;32mFalse\u001b[0m\u001b[0;34m,\u001b[0m \u001b[0mdowncast\u001b[0m\u001b[0;34m=\u001b[0m\u001b[0;32mNone\u001b[0m\u001b[0;34m\u001b[0m\u001b[0;34m\u001b[0m\u001b[0m\n\u001b[1;32m   1571\u001b[0m     ) -> list[Block]:\n\u001b[0;32m-> 1572\u001b[0;31m         \u001b[0mvalues\u001b[0m \u001b[0;34m=\u001b[0m \u001b[0mself\u001b[0m\u001b[0;34m.\u001b[0m\u001b[0mvalues\u001b[0m\u001b[0;34m.\u001b[0m\u001b[0mfillna\u001b[0m\u001b[0;34m(\u001b[0m\u001b[0mvalue\u001b[0m\u001b[0;34m=\u001b[0m\u001b[0mvalue\u001b[0m\u001b[0;34m,\u001b[0m \u001b[0mlimit\u001b[0m\u001b[0;34m=\u001b[0m\u001b[0mlimit\u001b[0m\u001b[0;34m)\u001b[0m\u001b[0;34m\u001b[0m\u001b[0;34m\u001b[0m\u001b[0m\n\u001b[0m\u001b[1;32m   1573\u001b[0m         \u001b[0;32mreturn\u001b[0m \u001b[0;34m[\u001b[0m\u001b[0mself\u001b[0m\u001b[0;34m.\u001b[0m\u001b[0mmake_block_same_class\u001b[0m\u001b[0;34m(\u001b[0m\u001b[0mvalues\u001b[0m\u001b[0;34m=\u001b[0m\u001b[0mvalues\u001b[0m\u001b[0;34m)\u001b[0m\u001b[0;34m]\u001b[0m\u001b[0;34m\u001b[0m\u001b[0;34m\u001b[0m\u001b[0m\n\u001b[1;32m   1574\u001b[0m \u001b[0;34m\u001b[0m\u001b[0m\n",
      "\u001b[0;32m/usr/local/anaconda3/lib/python3.9/site-packages/pandas/core/arrays/_mixins.py\u001b[0m in \u001b[0;36mfillna\u001b[0;34m(self, value, method, limit)\u001b[0m\n\u001b[1;32m    240\u001b[0m                 \u001b[0;31m# fill with value\u001b[0m\u001b[0;34m\u001b[0m\u001b[0;34m\u001b[0m\u001b[0m\n\u001b[1;32m    241\u001b[0m                 \u001b[0mnew_values\u001b[0m \u001b[0;34m=\u001b[0m \u001b[0mself\u001b[0m\u001b[0;34m.\u001b[0m\u001b[0mcopy\u001b[0m\u001b[0;34m(\u001b[0m\u001b[0;34m)\u001b[0m\u001b[0;34m\u001b[0m\u001b[0;34m\u001b[0m\u001b[0m\n\u001b[0;32m--> 242\u001b[0;31m                 \u001b[0mnew_values\u001b[0m\u001b[0;34m[\u001b[0m\u001b[0mmask\u001b[0m\u001b[0;34m]\u001b[0m \u001b[0;34m=\u001b[0m \u001b[0mvalue\u001b[0m\u001b[0;34m\u001b[0m\u001b[0;34m\u001b[0m\u001b[0m\n\u001b[0m\u001b[1;32m    243\u001b[0m         \u001b[0;32melse\u001b[0m\u001b[0;34m:\u001b[0m\u001b[0;34m\u001b[0m\u001b[0;34m\u001b[0m\u001b[0m\n\u001b[1;32m    244\u001b[0m             \u001b[0;31m# We validate the fill_value even if there is nothing to fill\u001b[0m\u001b[0;34m\u001b[0m\u001b[0;34m\u001b[0m\u001b[0m\n",
      "\u001b[0;32m/usr/local/anaconda3/lib/python3.9/site-packages/pandas/core/arrays/_mixins.py\u001b[0m in \u001b[0;36m__setitem__\u001b[0;34m(self, key, value)\u001b[0m\n\u001b[1;32m    180\u001b[0m     \u001b[0;32mdef\u001b[0m \u001b[0m__setitem__\u001b[0m\u001b[0;34m(\u001b[0m\u001b[0mself\u001b[0m\u001b[0;34m,\u001b[0m \u001b[0mkey\u001b[0m\u001b[0;34m,\u001b[0m \u001b[0mvalue\u001b[0m\u001b[0;34m)\u001b[0m\u001b[0;34m:\u001b[0m\u001b[0;34m\u001b[0m\u001b[0;34m\u001b[0m\u001b[0m\n\u001b[1;32m    181\u001b[0m         \u001b[0mkey\u001b[0m \u001b[0;34m=\u001b[0m \u001b[0mcheck_array_indexer\u001b[0m\u001b[0;34m(\u001b[0m\u001b[0mself\u001b[0m\u001b[0;34m,\u001b[0m \u001b[0mkey\u001b[0m\u001b[0;34m)\u001b[0m\u001b[0;34m\u001b[0m\u001b[0;34m\u001b[0m\u001b[0m\n\u001b[0;32m--> 182\u001b[0;31m         \u001b[0mvalue\u001b[0m \u001b[0;34m=\u001b[0m \u001b[0mself\u001b[0m\u001b[0;34m.\u001b[0m\u001b[0m_validate_setitem_value\u001b[0m\u001b[0;34m(\u001b[0m\u001b[0mvalue\u001b[0m\u001b[0;34m)\u001b[0m\u001b[0;34m\u001b[0m\u001b[0;34m\u001b[0m\u001b[0m\n\u001b[0m\u001b[1;32m    183\u001b[0m         \u001b[0mself\u001b[0m\u001b[0;34m.\u001b[0m\u001b[0m_ndarray\u001b[0m\u001b[0;34m[\u001b[0m\u001b[0mkey\u001b[0m\u001b[0;34m]\u001b[0m \u001b[0;34m=\u001b[0m \u001b[0mvalue\u001b[0m\u001b[0;34m\u001b[0m\u001b[0;34m\u001b[0m\u001b[0m\n\u001b[1;32m    184\u001b[0m \u001b[0;34m\u001b[0m\u001b[0m\n",
      "\u001b[0;32m/usr/local/anaconda3/lib/python3.9/site-packages/pandas/core/arrays/categorical.py\u001b[0m in \u001b[0;36m_validate_setitem_value\u001b[0;34m(self, value)\u001b[0m\n\u001b[1;32m   2042\u001b[0m         \u001b[0;31m# something to np.nan\u001b[0m\u001b[0;34m\u001b[0m\u001b[0;34m\u001b[0m\u001b[0m\n\u001b[1;32m   2043\u001b[0m         \u001b[0;32mif\u001b[0m \u001b[0mlen\u001b[0m\u001b[0;34m(\u001b[0m\u001b[0mto_add\u001b[0m\u001b[0;34m)\u001b[0m \u001b[0;32mand\u001b[0m \u001b[0;32mnot\u001b[0m \u001b[0misna\u001b[0m\u001b[0;34m(\u001b[0m\u001b[0mto_add\u001b[0m\u001b[0;34m)\u001b[0m\u001b[0;34m.\u001b[0m\u001b[0mall\u001b[0m\u001b[0;34m(\u001b[0m\u001b[0;34m)\u001b[0m\u001b[0;34m:\u001b[0m\u001b[0;34m\u001b[0m\u001b[0;34m\u001b[0m\u001b[0m\n\u001b[0;32m-> 2044\u001b[0;31m             raise ValueError(\n\u001b[0m\u001b[1;32m   2045\u001b[0m                 \u001b[0;34m\"Cannot setitem on a Categorical with a new \"\u001b[0m\u001b[0;34m\u001b[0m\u001b[0;34m\u001b[0m\u001b[0m\n\u001b[1;32m   2046\u001b[0m                 \u001b[0;34m\"category, set the categories first\"\u001b[0m\u001b[0;34m\u001b[0m\u001b[0;34m\u001b[0m\u001b[0m\n",
      "\u001b[0;31mValueError\u001b[0m: Cannot setitem on a Categorical with a new category, set the categories first"
     ]
    }
   ],
   "source": [
    "#Because the partners and partnrs5 columns are missing 1/3 of their responses, and could be possibly due to age/demographic, I will fill these with 'no_response'\n",
    "df.partners = df.partners.fillna('no_response')\n",
    "#ok. I need to set a category up for these columns..."
   ]
  },
  {
   "cell_type": "code",
   "execution_count": 18,
   "id": "42faf07a",
   "metadata": {},
   "outputs": [
    {
     "data": {
      "text/plain": [
       "1 partner                   1427\n",
       "no partners                  560\n",
       "2 partners                    82\n",
       "3 partners                    42\n",
       "5-10 partners                 40\n",
       "4 partners                    27\n",
       "1 or more, (unspecified)       5\n",
       "11-20 partners                 4\n",
       "more than 100 partners         4\n",
       "21-100 partners                2\n",
       "Name: partners, dtype: int64"
      ]
     },
     "execution_count": 18,
     "metadata": {},
     "output_type": "execute_result"
    }
   ],
   "source": [
    "df.partners.value_counts()"
   ]
  },
  {
   "cell_type": "code",
   "execution_count": 19,
   "id": "61ee993e",
   "metadata": {},
   "outputs": [
    {
     "data": {
      "text/plain": [
       "CategoricalDtype(categories=['no partners', '1 partner', '2 partners', '3 partners',\n",
       "                  '4 partners', '5-10 partners', '11-20 partners',\n",
       "                  '21-100 partners', 'more than 100 partners',\n",
       "                  '1 or more, (unspecified)'],\n",
       ", ordered=True)"
      ]
     },
     "execution_count": 19,
     "metadata": {},
     "output_type": "execute_result"
    }
   ],
   "source": [
    "df.partners.dtypes"
   ]
  },
  {
   "cell_type": "code",
   "execution_count": 27,
   "id": "ad1108b0",
   "metadata": {},
   "outputs": [],
   "source": [
    "#changing the dtype to an object so that I can fill the nulls\n",
    "def partner_type(df):\n",
    "    df['partners'] = df['partners'].astype(object)\n",
    "    df['partners'] = df['partners'].fillna('no response')\n",
    "    return df"
   ]
  },
  {
   "cell_type": "code",
   "execution_count": 28,
   "id": "802e9410",
   "metadata": {},
   "outputs": [],
   "source": [
    "#filling nulls\n",
    "df= partner_type(df)"
   ]
  },
  {
   "cell_type": "code",
   "execution_count": 29,
   "id": "de0c4307",
   "metadata": {},
   "outputs": [],
   "source": [
    "#same thing for partnrs5\n",
    "def partner_five(df):\n",
    "    df['partnrs5'] = df['partnrs5'].astype(object)\n",
    "    df['partnrs5'] = df['partnrs5'].fillna('no response')\n",
    "    return df"
   ]
  },
  {
   "cell_type": "code",
   "execution_count": 30,
   "id": "7ce6d0dd",
   "metadata": {},
   "outputs": [
    {
     "data": {
      "text/html": [
       "<div>\n",
       "<style scoped>\n",
       "    .dataframe tbody tr th:only-of-type {\n",
       "        vertical-align: middle;\n",
       "    }\n",
       "\n",
       "    .dataframe tbody tr th {\n",
       "        vertical-align: top;\n",
       "    }\n",
       "\n",
       "    .dataframe thead th {\n",
       "        text-align: right;\n",
       "    }\n",
       "</style>\n",
       "<table border=\"1\" class=\"dataframe\">\n",
       "  <thead>\n",
       "    <tr style=\"text-align: right;\">\n",
       "      <th></th>\n",
       "      <th>zodiac</th>\n",
       "      <th>born</th>\n",
       "      <th>race</th>\n",
       "      <th>ethnic</th>\n",
       "      <th>age</th>\n",
       "      <th>sex</th>\n",
       "      <th>sexornt</th>\n",
       "      <th>marital</th>\n",
       "      <th>martype</th>\n",
       "      <th>paocc10</th>\n",
       "      <th>...</th>\n",
       "      <th>socbar</th>\n",
       "      <th>socrel</th>\n",
       "      <th>socommun</th>\n",
       "      <th>socfrend</th>\n",
       "      <th>satsoc</th>\n",
       "      <th>class</th>\n",
       "      <th>satfin</th>\n",
       "      <th>quallife</th>\n",
       "      <th>partners</th>\n",
       "      <th>partnrs5</th>\n",
       "    </tr>\n",
       "  </thead>\n",
       "  <tbody>\n",
       "    <tr>\n",
       "      <th>0</th>\n",
       "      <td>pisces</td>\n",
       "      <td>yes</td>\n",
       "      <td>white</td>\n",
       "      <td>italy</td>\n",
       "      <td>65.0</td>\n",
       "      <td>female</td>\n",
       "      <td>heterosexual or straight</td>\n",
       "      <td>married</td>\n",
       "      <td>NaN</td>\n",
       "      <td>dredge, excavating, and loading machine operators</td>\n",
       "      <td>...</td>\n",
       "      <td>NaN</td>\n",
       "      <td>NaN</td>\n",
       "      <td>NaN</td>\n",
       "      <td>NaN</td>\n",
       "      <td>fair</td>\n",
       "      <td>middle class</td>\n",
       "      <td>more or less satisfied</td>\n",
       "      <td>good</td>\n",
       "      <td>1 partner</td>\n",
       "      <td>1 partner</td>\n",
       "    </tr>\n",
       "    <tr>\n",
       "      <th>1</th>\n",
       "      <td>pisces</td>\n",
       "      <td>yes</td>\n",
       "      <td>white</td>\n",
       "      <td>england and wales</td>\n",
       "      <td>60.0</td>\n",
       "      <td>male</td>\n",
       "      <td>NaN</td>\n",
       "      <td>divorced</td>\n",
       "      <td>NaN</td>\n",
       "      <td>chief executives</td>\n",
       "      <td>...</td>\n",
       "      <td>several times a month</td>\n",
       "      <td>several times a year</td>\n",
       "      <td>once or twice a week</td>\n",
       "      <td>several times a month</td>\n",
       "      <td>very good</td>\n",
       "      <td>upper class</td>\n",
       "      <td>pretty well satisfied</td>\n",
       "      <td>excellent</td>\n",
       "      <td>no response</td>\n",
       "      <td>no response</td>\n",
       "    </tr>\n",
       "    <tr>\n",
       "      <th>5</th>\n",
       "      <td>aries</td>\n",
       "      <td>yes</td>\n",
       "      <td>black</td>\n",
       "      <td>299.0</td>\n",
       "      <td>33.0</td>\n",
       "      <td>female</td>\n",
       "      <td>NaN</td>\n",
       "      <td>never married</td>\n",
       "      <td>NaN</td>\n",
       "      <td>retail salespersons</td>\n",
       "      <td>...</td>\n",
       "      <td>about once a month</td>\n",
       "      <td>about once a month</td>\n",
       "      <td>about once a month</td>\n",
       "      <td>about once a month</td>\n",
       "      <td>good</td>\n",
       "      <td>middle class</td>\n",
       "      <td>pretty well satisfied</td>\n",
       "      <td>good</td>\n",
       "      <td>no response</td>\n",
       "      <td>no response</td>\n",
       "    </tr>\n",
       "    <tr>\n",
       "      <th>6</th>\n",
       "      <td>scorpio</td>\n",
       "      <td>no</td>\n",
       "      <td>white</td>\n",
       "      <td>505.0</td>\n",
       "      <td>20.0</td>\n",
       "      <td>male</td>\n",
       "      <td>heterosexual or straight</td>\n",
       "      <td>never married</td>\n",
       "      <td>NaN</td>\n",
       "      <td>electrical, electronics, and electromechanical...</td>\n",
       "      <td>...</td>\n",
       "      <td>never</td>\n",
       "      <td>almost daily</td>\n",
       "      <td>once or twice a week</td>\n",
       "      <td>about once a month</td>\n",
       "      <td>good</td>\n",
       "      <td>middle class</td>\n",
       "      <td>not satisfied at all</td>\n",
       "      <td>very good</td>\n",
       "      <td>1 partner</td>\n",
       "      <td>1 partner</td>\n",
       "    </tr>\n",
       "    <tr>\n",
       "      <th>8</th>\n",
       "      <td>pisces</td>\n",
       "      <td>yes</td>\n",
       "      <td>white</td>\n",
       "      <td>poland</td>\n",
       "      <td>76.0</td>\n",
       "      <td>male</td>\n",
       "      <td>heterosexual or straight</td>\n",
       "      <td>married</td>\n",
       "      <td>marriage between a man and a woman</td>\n",
       "      <td>NaN</td>\n",
       "      <td>...</td>\n",
       "      <td>about once a year</td>\n",
       "      <td>about once a year</td>\n",
       "      <td>about once a month</td>\n",
       "      <td>about once a month</td>\n",
       "      <td>good</td>\n",
       "      <td>working class</td>\n",
       "      <td>not satisfied at all</td>\n",
       "      <td>good</td>\n",
       "      <td>1 partner</td>\n",
       "      <td>1 partner</td>\n",
       "    </tr>\n",
       "  </tbody>\n",
       "</table>\n",
       "<p>5 rows × 72 columns</p>\n",
       "</div>"
      ],
      "text/plain": [
       "    zodiac born   race             ethnic   age     sex  \\\n",
       "0   pisces  yes  white              italy  65.0  female   \n",
       "1   pisces  yes  white  england and wales  60.0    male   \n",
       "5    aries  yes  black              299.0  33.0  female   \n",
       "6  scorpio   no  white              505.0  20.0    male   \n",
       "8   pisces  yes  white             poland  76.0    male   \n",
       "\n",
       "                    sexornt        marital  \\\n",
       "0  heterosexual or straight        married   \n",
       "1                       NaN       divorced   \n",
       "5                       NaN  never married   \n",
       "6  heterosexual or straight  never married   \n",
       "8  heterosexual or straight        married   \n",
       "\n",
       "                              martype  \\\n",
       "0                                 NaN   \n",
       "1                                 NaN   \n",
       "5                                 NaN   \n",
       "6                                 NaN   \n",
       "8  marriage between a man and a woman   \n",
       "\n",
       "                                             paocc10  ...  \\\n",
       "0  dredge, excavating, and loading machine operators  ...   \n",
       "1                                   chief executives  ...   \n",
       "5                                retail salespersons  ...   \n",
       "6  electrical, electronics, and electromechanical...  ...   \n",
       "8                                                NaN  ...   \n",
       "\n",
       "                  socbar                socrel              socommun  \\\n",
       "0                    NaN                   NaN                   NaN   \n",
       "1  several times a month  several times a year  once or twice a week   \n",
       "5     about once a month    about once a month    about once a month   \n",
       "6                  never          almost daily  once or twice a week   \n",
       "8      about once a year     about once a year    about once a month   \n",
       "\n",
       "                socfrend     satsoc          class                  satfin  \\\n",
       "0                    NaN       fair   middle class  more or less satisfied   \n",
       "1  several times a month  very good    upper class   pretty well satisfied   \n",
       "5     about once a month       good   middle class   pretty well satisfied   \n",
       "6     about once a month       good   middle class    not satisfied at all   \n",
       "8     about once a month       good  working class    not satisfied at all   \n",
       "\n",
       "    quallife     partners     partnrs5  \n",
       "0       good    1 partner    1 partner  \n",
       "1  excellent  no response  no response  \n",
       "5       good  no response  no response  \n",
       "6  very good    1 partner    1 partner  \n",
       "8       good    1 partner    1 partner  \n",
       "\n",
       "[5 rows x 72 columns]"
      ]
     },
     "execution_count": 30,
     "metadata": {},
     "output_type": "execute_result"
    }
   ],
   "source": [
    "df = partner_five(df)\n",
    "df.head()"
   ]
  },
  {
   "cell_type": "code",
   "execution_count": 24,
   "id": "37b799ef",
   "metadata": {},
   "outputs": [
    {
     "data": {
      "text/plain": [
       "dtype('O')"
      ]
     },
     "execution_count": 24,
     "metadata": {},
     "output_type": "execute_result"
    }
   ],
   "source": [
    "df.partners.dtype"
   ]
  },
  {
   "cell_type": "code",
   "execution_count": null,
   "id": "0220d64a",
   "metadata": {},
   "outputs": [],
   "source": []
  }
 ],
 "metadata": {
  "kernelspec": {
   "display_name": "Python 3 (ipykernel)",
   "language": "python",
   "name": "python3"
  },
  "language_info": {
   "codemirror_mode": {
    "name": "ipython",
    "version": 3
   },
   "file_extension": ".py",
   "mimetype": "text/x-python",
   "name": "python",
   "nbconvert_exporter": "python",
   "pygments_lexer": "ipython3",
   "version": "3.9.7"
  }
 },
 "nbformat": 4,
 "nbformat_minor": 5
}
