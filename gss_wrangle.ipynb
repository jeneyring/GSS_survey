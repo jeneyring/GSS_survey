{
 "cells": [
  {
   "cell_type": "code",
   "execution_count": 1,
   "id": "2201df7a",
   "metadata": {},
   "outputs": [],
   "source": [
    "#imports to prepare environment\n",
    "\n",
    "# ignore warnings\n",
    "import warnings\n",
    "warnings.filterwarnings(\"ignore\")\n",
    "\n",
    "# Wrangling\n",
    "import pandas as pd\n",
    "import numpy as np\n",
    "from sklearn.model_selection import train_test_split\n",
    "\n",
    "# Statistical Tests\n",
    "import scipy.stats as stats\n",
    "\n",
    "# Visualizing\n",
    "import matplotlib.pyplot as plt\n",
    "from matplotlib import cm\n",
    "import seaborn as sns\n",
    "from sklearn.model_selection import learning_curve\n",
    "\n",
    "pd.options.display.float_format = '{:20,.2f}'.format\n"
   ]
  },
  {
   "cell_type": "markdown",
   "id": "c7ce7619",
   "metadata": {},
   "source": [
    "# GSS 2021 SURVEY: \n",
    "## <i> CAN PARTICIPANT RESPONSES ACTUALLY SHOW WHAT ZODIAC SIGN A PERSON IS?\n",
    "    \n",
    "> Introduction: \n",
    "    Since 1972, the General Social Survey (GSS) has been conducted annually in the United States of contemporary American Society--through the lens of adult survey participants.\n",
    "    \n",
    "    The GSSurvey asks US adults questions related to current demographics, opinions, religious/spiritual beliefs, political and life view points, social class opinions, as well even recording peoples zodiac signs.\n",
    "    \n",
    "    As many viewpoints on astrology overall seem to be changing, oftentimes in terms of self-identity and decision factors, this project is taking a look at astrology/zodiac signs to determine if the responses of the US adult partipants of the GSS actually correlates to the astrological signs they provided. \n",
    "    \n",
    "    "
   ]
  },
  {
   "cell_type": "code",
   "execution_count": 2,
   "id": "c9cb2edb",
   "metadata": {},
   "outputs": [],
   "source": [
    "#reading in the GSS 2021 data using stata file\n",
    "df = pd.read_stata('gss2021.dta')"
   ]
  },
  {
   "cell_type": "code",
   "execution_count": 3,
   "id": "75111ee2",
   "metadata": {},
   "outputs": [
    {
     "data": {
      "text/html": [
       "<div>\n",
       "<style scoped>\n",
       "    .dataframe tbody tr th:only-of-type {\n",
       "        vertical-align: middle;\n",
       "    }\n",
       "\n",
       "    .dataframe tbody tr th {\n",
       "        vertical-align: top;\n",
       "    }\n",
       "\n",
       "    .dataframe thead th {\n",
       "        text-align: right;\n",
       "    }\n",
       "</style>\n",
       "<table border=\"1\" class=\"dataframe\">\n",
       "  <thead>\n",
       "    <tr style=\"text-align: right;\">\n",
       "      <th></th>\n",
       "      <th>year</th>\n",
       "      <th>id</th>\n",
       "      <th>wrkstat</th>\n",
       "      <th>wrkslf</th>\n",
       "      <th>wrkgovt</th>\n",
       "      <th>occ10</th>\n",
       "      <th>prestg10</th>\n",
       "      <th>indus10</th>\n",
       "      <th>marital</th>\n",
       "      <th>martype</th>\n",
       "      <th>...</th>\n",
       "      <th>relitennv</th>\n",
       "      <th>biblenv</th>\n",
       "      <th>postlifenv</th>\n",
       "      <th>kidssolnv</th>\n",
       "      <th>uscitznnv</th>\n",
       "      <th>fucitznnv</th>\n",
       "      <th>fepolnv</th>\n",
       "      <th>scibnftsnv</th>\n",
       "      <th>abanyg</th>\n",
       "      <th>fileversion</th>\n",
       "    </tr>\n",
       "  </thead>\n",
       "  <tbody>\n",
       "    <tr>\n",
       "      <th>0</th>\n",
       "      <td>2021</td>\n",
       "      <td>1</td>\n",
       "      <td>working full time</td>\n",
       "      <td>someone else</td>\n",
       "      <td>NaN</td>\n",
       "      <td>receptionists and information clerks</td>\n",
       "      <td>38.00</td>\n",
       "      <td>offices of dentists</td>\n",
       "      <td>married</td>\n",
       "      <td>NaN</td>\n",
       "      <td>...</td>\n",
       "      <td>not very strong</td>\n",
       "      <td>inspired word</td>\n",
       "      <td>no</td>\n",
       "      <td>somewhat worse</td>\n",
       "      <td>NaN</td>\n",
       "      <td>NaN</td>\n",
       "      <td>NaN</td>\n",
       "      <td>2.00</td>\n",
       "      <td>no</td>\n",
       "      <td>7,221.20</td>\n",
       "    </tr>\n",
       "    <tr>\n",
       "      <th>1</th>\n",
       "      <td>2021</td>\n",
       "      <td>2</td>\n",
       "      <td>working full time</td>\n",
       "      <td>someone else</td>\n",
       "      <td>NaN</td>\n",
       "      <td>advertising and promotions managers</td>\n",
       "      <td>57.00</td>\n",
       "      <td>advertising and related services</td>\n",
       "      <td>divorced</td>\n",
       "      <td>NaN</td>\n",
       "      <td>...</td>\n",
       "      <td>no religion</td>\n",
       "      <td>NaN</td>\n",
       "      <td>NaN</td>\n",
       "      <td>NaN</td>\n",
       "      <td>NaN</td>\n",
       "      <td>NaN</td>\n",
       "      <td>NaN</td>\n",
       "      <td>NaN</td>\n",
       "      <td>NaN</td>\n",
       "      <td>7,221.20</td>\n",
       "    </tr>\n",
       "    <tr>\n",
       "      <th>2</th>\n",
       "      <td>2021</td>\n",
       "      <td>3</td>\n",
       "      <td>working part time</td>\n",
       "      <td>someone else</td>\n",
       "      <td>NaN</td>\n",
       "      <td>miscellaneous assemblers and fabricators</td>\n",
       "      <td>35.00</td>\n",
       "      <td>furniture and home furnishings stores</td>\n",
       "      <td>never married</td>\n",
       "      <td>NaN</td>\n",
       "      <td>...</td>\n",
       "      <td>NaN</td>\n",
       "      <td>NaN</td>\n",
       "      <td>NaN</td>\n",
       "      <td>NaN</td>\n",
       "      <td>NaN</td>\n",
       "      <td>NaN</td>\n",
       "      <td>disagree</td>\n",
       "      <td>NaN</td>\n",
       "      <td>yes</td>\n",
       "      <td>7,221.20</td>\n",
       "    </tr>\n",
       "    <tr>\n",
       "      <th>3</th>\n",
       "      <td>2021</td>\n",
       "      <td>4</td>\n",
       "      <td>working part time</td>\n",
       "      <td>self-employed</td>\n",
       "      <td>NaN</td>\n",
       "      <td>childcare workers</td>\n",
       "      <td>35.00</td>\n",
       "      <td>child day care services</td>\n",
       "      <td>widowed</td>\n",
       "      <td>NaN</td>\n",
       "      <td>...</td>\n",
       "      <td>NaN</td>\n",
       "      <td>NaN</td>\n",
       "      <td>NaN</td>\n",
       "      <td>NaN</td>\n",
       "      <td>NaN</td>\n",
       "      <td>NaN</td>\n",
       "      <td>NaN</td>\n",
       "      <td>NaN</td>\n",
       "      <td>NaN</td>\n",
       "      <td>7,221.20</td>\n",
       "    </tr>\n",
       "    <tr>\n",
       "      <th>4</th>\n",
       "      <td>2021</td>\n",
       "      <td>6</td>\n",
       "      <td>working full time</td>\n",
       "      <td>someone else</td>\n",
       "      <td>NaN</td>\n",
       "      <td>insurance claims and policy processing clerks</td>\n",
       "      <td>38.00</td>\n",
       "      <td>insurance carriers and related activities</td>\n",
       "      <td>never married</td>\n",
       "      <td>NaN</td>\n",
       "      <td>...</td>\n",
       "      <td>not very strong</td>\n",
       "      <td>inspired word</td>\n",
       "      <td>yes</td>\n",
       "      <td>NaN</td>\n",
       "      <td>a u.s. citizen</td>\n",
       "      <td>NaN</td>\n",
       "      <td>disagree</td>\n",
       "      <td>NaN</td>\n",
       "      <td>yes</td>\n",
       "      <td>7,221.20</td>\n",
       "    </tr>\n",
       "  </tbody>\n",
       "</table>\n",
       "<p>5 rows × 713 columns</p>\n",
       "</div>"
      ],
      "text/plain": [
       "   year  id            wrkstat         wrkslf wrkgovt  \\\n",
       "0  2021   1  working full time   someone else     NaN   \n",
       "1  2021   2  working full time   someone else     NaN   \n",
       "2  2021   3  working part time   someone else     NaN   \n",
       "3  2021   4  working part time  self-employed     NaN   \n",
       "4  2021   6  working full time   someone else     NaN   \n",
       "\n",
       "                                           occ10             prestg10  \\\n",
       "0           receptionists and information clerks                38.00   \n",
       "1            advertising and promotions managers                57.00   \n",
       "2       miscellaneous assemblers and fabricators                35.00   \n",
       "3                              childcare workers                35.00   \n",
       "4  insurance claims and policy processing clerks                38.00   \n",
       "\n",
       "                                     indus10        marital martype  ...  \\\n",
       "0                        offices of dentists        married     NaN  ...   \n",
       "1           advertising and related services       divorced     NaN  ...   \n",
       "2      furniture and home furnishings stores  never married     NaN  ...   \n",
       "3                    child day care services        widowed     NaN  ...   \n",
       "4  insurance carriers and related activities  never married     NaN  ...   \n",
       "\n",
       "         relitennv        biblenv postlifenv       kidssolnv       uscitznnv  \\\n",
       "0  not very strong  inspired word         no  somewhat worse             NaN   \n",
       "1      no religion            NaN        NaN             NaN             NaN   \n",
       "2              NaN            NaN        NaN             NaN             NaN   \n",
       "3              NaN            NaN        NaN             NaN             NaN   \n",
       "4  not very strong  inspired word        yes             NaN  a u.s. citizen   \n",
       "\n",
       "  fucitznnv   fepolnv           scibnftsnv  abanyg          fileversion  \n",
       "0       NaN       NaN                 2.00      no             7,221.20  \n",
       "1       NaN       NaN                  NaN     NaN             7,221.20  \n",
       "2       NaN  disagree                  NaN     yes             7,221.20  \n",
       "3       NaN       NaN                  NaN     NaN             7,221.20  \n",
       "4       NaN  disagree                  NaN     yes             7,221.20  \n",
       "\n",
       "[5 rows x 713 columns]"
      ]
     },
     "execution_count": 3,
     "metadata": {},
     "output_type": "execute_result"
    }
   ],
   "source": [
    "df.head()"
   ]
  },
  {
   "cell_type": "markdown",
   "id": "3025389f",
   "metadata": {},
   "source": [
    "### Notes: I went through the survey and found that these will be the columns I am wanting to keep:\n",
    "> #### Target Variable: ZODIAC\n",
    "\n",
    "Demographic Variables:\n",
    " - born, race, ethnic, age, sex, sexbirth, sexnow, sexornt, hompop, marital, martype\n",
    "\n",
    "Growing up Variables:\n",
    " - paocc10, maocc10, res16, reg16, reli16\n",
    "\n",
    "Education variables:\n",
    "- edu, degree, major1, coldeg1\n",
    "\n",
    "Career Variables:\n",
    "- hrs1, hrs2, income, wrkslf, indust, satjob, isco08, occ10\n",
    "\n",
    "Politics Variables:\n",
    "- partyid, if16who, polviews, gunlaw, grassv\n",
    "\n",
    "Religious and Spirituality variables:\n",
    "- relidesc, relig, cofund, postlifev, postlifenv, sprtprsn, relexp, sprtconnct, sprtlrgr, sprtpurp\n",
    "\n",
    "Life View variables:\n",
    "- happy, happycohab, life, obey, popular, thnkself, workhard, helpoth, grtwrks, freemind, decevidc, advfmsci\n",
    "\n",
    "Health variables:\n",
    "- mditate1, health, hlthphys, hlthmntl, enjoynat, plantrp, eatmeat, recycle, nobuygrn\n",
    "\n",
    "View of others:\n",
    "- fairv, fairnv, helpfulv, helpfulnv, trustv, trustnv, conmedic, contv, conpress, consci, conjudge, conmilitary, conlegis\n",
    "\n",
    "Social variables:\n",
    "- socbar, socrel, socommun, socfrend, satsoc, class, satfin, quallife, partners, partnrs5\n"
   ]
  },
  {
   "cell_type": "markdown",
   "id": "11b71c3e",
   "metadata": {},
   "source": [
    "### My analysis is to see if the above survey responses to the questions can actually closely predict what zodiac sign each respondant is. \n",
    "\n",
    "I wanted to try this out as I would say that I am moderately unconvinced that Astrology can be a classifier for a person, but I think it would be interesting to test this theory. "
   ]
  },
  {
   "cell_type": "code",
   "execution_count": 4,
   "id": "9e63151f",
   "metadata": {},
   "outputs": [],
   "source": [
    "#pulling out only the columns I want to use for this exploration:\n",
    "df  = df[['zodiac', 'race', \n",
    "           'age', 'sex', 'sexornt', \n",
    "          'marital', 'res16', \n",
    "          'reg16', 'degree',  \n",
    "          'income', 'wrkslf', 'satjob', 'occ10','partyid', \n",
    "          'if16who', 'polviews', 'gunlaw', 'grassv', 'relig', \n",
    "          'postlifev', 'postlifenv', 'sprtprsn', 'sprtconnct', 'sprtlrgr', \n",
    "          'sprtpurp','happy', 'life', 'obey', 'popular', 'thnkself', \n",
    "          'workhard', 'helpoth', 'grtwrks', 'freemind', 'decevidc', 'advfmsci',\n",
    "         'mditate1', 'health', 'hlthphys', 'hlthmntl', 'enjoynat',  \n",
    "          'eatmeat', 'recycle', 'nobuygrn','fairv', 'fairnv', 'helpfulv', \n",
    "          'helpfulnv', 'trustv', 'trustnv', 'conmedic', 'contv', 'conpress', \n",
    "          'consci', 'conjudge', 'conlegis', 'socbar', \n",
    "          'socrel', 'socommun', 'socfrend', 'satsoc', 'class', 'satfin', \n",
    "          'quallife', 'partners', 'partnrs5'\n",
    "        ]]"
   ]
  },
  {
   "cell_type": "code",
   "execution_count": 5,
   "id": "286616ce",
   "metadata": {},
   "outputs": [
    {
     "data": {
      "text/html": [
       "<div>\n",
       "<style scoped>\n",
       "    .dataframe tbody tr th:only-of-type {\n",
       "        vertical-align: middle;\n",
       "    }\n",
       "\n",
       "    .dataframe tbody tr th {\n",
       "        vertical-align: top;\n",
       "    }\n",
       "\n",
       "    .dataframe thead th {\n",
       "        text-align: right;\n",
       "    }\n",
       "</style>\n",
       "<table border=\"1\" class=\"dataframe\">\n",
       "  <thead>\n",
       "    <tr style=\"text-align: right;\">\n",
       "      <th></th>\n",
       "      <th>zodiac</th>\n",
       "      <th>race</th>\n",
       "      <th>age</th>\n",
       "      <th>sex</th>\n",
       "      <th>sexornt</th>\n",
       "      <th>marital</th>\n",
       "      <th>res16</th>\n",
       "      <th>reg16</th>\n",
       "      <th>degree</th>\n",
       "      <th>income</th>\n",
       "      <th>...</th>\n",
       "      <th>socbar</th>\n",
       "      <th>socrel</th>\n",
       "      <th>socommun</th>\n",
       "      <th>socfrend</th>\n",
       "      <th>satsoc</th>\n",
       "      <th>class</th>\n",
       "      <th>satfin</th>\n",
       "      <th>quallife</th>\n",
       "      <th>partners</th>\n",
       "      <th>partnrs5</th>\n",
       "    </tr>\n",
       "  </thead>\n",
       "  <tbody>\n",
       "    <tr>\n",
       "      <th>0</th>\n",
       "      <td>pisces</td>\n",
       "      <td>white</td>\n",
       "      <td>65.00</td>\n",
       "      <td>female</td>\n",
       "      <td>heterosexual or straight</td>\n",
       "      <td>married</td>\n",
       "      <td>in a medium-size city (50,000-250,000)</td>\n",
       "      <td>new england</td>\n",
       "      <td>high school</td>\n",
       "      <td>NaN</td>\n",
       "      <td>...</td>\n",
       "      <td>NaN</td>\n",
       "      <td>NaN</td>\n",
       "      <td>NaN</td>\n",
       "      <td>NaN</td>\n",
       "      <td>fair</td>\n",
       "      <td>middle class</td>\n",
       "      <td>more or less satisfied</td>\n",
       "      <td>good</td>\n",
       "      <td>1 partner</td>\n",
       "      <td>1 partner</td>\n",
       "    </tr>\n",
       "    <tr>\n",
       "      <th>1</th>\n",
       "      <td>pisces</td>\n",
       "      <td>white</td>\n",
       "      <td>60.00</td>\n",
       "      <td>male</td>\n",
       "      <td>NaN</td>\n",
       "      <td>divorced</td>\n",
       "      <td>in a large city (over 250,000)</td>\n",
       "      <td>pacific</td>\n",
       "      <td>bachelor's</td>\n",
       "      <td>refused</td>\n",
       "      <td>...</td>\n",
       "      <td>several times a month</td>\n",
       "      <td>several times a year</td>\n",
       "      <td>once or twice a week</td>\n",
       "      <td>several times a month</td>\n",
       "      <td>very good</td>\n",
       "      <td>upper class</td>\n",
       "      <td>pretty well satisfied</td>\n",
       "      <td>excellent</td>\n",
       "      <td>NaN</td>\n",
       "      <td>NaN</td>\n",
       "    </tr>\n",
       "  </tbody>\n",
       "</table>\n",
       "<p>2 rows × 66 columns</p>\n",
       "</div>"
      ],
      "text/plain": [
       "   zodiac   race                  age     sex                   sexornt  \\\n",
       "0  pisces  white                65.00  female  heterosexual or straight   \n",
       "1  pisces  white                60.00    male                       NaN   \n",
       "\n",
       "    marital                                   res16        reg16       degree  \\\n",
       "0   married  in a medium-size city (50,000-250,000)  new england  high school   \n",
       "1  divorced          in a large city (over 250,000)      pacific   bachelor's   \n",
       "\n",
       "    income  ...                 socbar                socrel  \\\n",
       "0      NaN  ...                    NaN                   NaN   \n",
       "1  refused  ...  several times a month  several times a year   \n",
       "\n",
       "               socommun               socfrend     satsoc         class  \\\n",
       "0                   NaN                    NaN       fair  middle class   \n",
       "1  once or twice a week  several times a month  very good   upper class   \n",
       "\n",
       "                   satfin   quallife   partners   partnrs5  \n",
       "0  more or less satisfied       good  1 partner  1 partner  \n",
       "1   pretty well satisfied  excellent        NaN        NaN  \n",
       "\n",
       "[2 rows x 66 columns]"
      ]
     },
     "execution_count": 5,
     "metadata": {},
     "output_type": "execute_result"
    }
   ],
   "source": [
    "#taking a look\n",
    "df.head(2)"
   ]
  },
  {
   "cell_type": "code",
   "execution_count": 6,
   "id": "7e0a0b14",
   "metadata": {},
   "outputs": [
    {
     "data": {
      "text/plain": [
       "(4032, 66)"
      ]
     },
     "execution_count": 6,
     "metadata": {},
     "output_type": "execute_result"
    }
   ],
   "source": [
    "#finding the size of data left\n",
    "\n",
    "df.shape"
   ]
  },
  {
   "cell_type": "code",
   "execution_count": 7,
   "id": "75875173",
   "metadata": {},
   "outputs": [
    {
     "data": {
      "text/plain": [
       "zodiac      category\n",
       "race        category\n",
       "age         category\n",
       "sex         category\n",
       "sexornt     category\n",
       "              ...   \n",
       "class       category\n",
       "satfin      category\n",
       "quallife    category\n",
       "partners    category\n",
       "partnrs5    category\n",
       "Length: 66, dtype: object"
      ]
     },
     "execution_count": 7,
     "metadata": {},
     "output_type": "execute_result"
    }
   ],
   "source": [
    "#wonder what dtypes I will be working with:\n",
    "df.dtypes"
   ]
  },
  {
   "cell_type": "code",
   "execution_count": 8,
   "id": "819a51c2",
   "metadata": {},
   "outputs": [
    {
     "data": {
      "text/plain": [
       "capricorn      390\n",
       "scorpio        346\n",
       "sagittarius    339\n",
       "aquarius       330\n",
       "virgo          327\n",
       "libra          319\n",
       "leo            305\n",
       "taurus         281\n",
       "pisces         279\n",
       "cancer         270\n",
       "gemini         253\n",
       "aries          237\n",
       "Name: zodiac, dtype: int64"
      ]
     },
     "execution_count": 8,
     "metadata": {},
     "output_type": "execute_result"
    }
   ],
   "source": [
    "#count of the target variable\n",
    "df.zodiac.value_counts()"
   ]
  },
  {
   "cell_type": "code",
   "execution_count": 9,
   "id": "ed03bdc0",
   "metadata": {},
   "outputs": [
    {
     "data": {
      "text/plain": [
       "356"
      ]
     },
     "execution_count": 9,
     "metadata": {},
     "output_type": "execute_result"
    }
   ],
   "source": [
    "#finding nulls in target variable...\n",
    "df.zodiac.isnull().sum()\n",
    "#respondants possibly not knowing, or caring..might be a good way to test?"
   ]
  },
  {
   "cell_type": "code",
   "execution_count": 10,
   "id": "d62ed419",
   "metadata": {},
   "outputs": [
    {
     "data": {
      "text/plain": [
       "zodiac       356\n",
       "race          54\n",
       "age          333\n",
       "sex           92\n",
       "sexornt     1772\n",
       "            ... \n",
       "class         14\n",
       "satfin        16\n",
       "quallife     400\n",
       "partners    1719\n",
       "partnrs5    1718\n",
       "Length: 66, dtype: int64"
      ]
     },
     "execution_count": 10,
     "metadata": {},
     "output_type": "execute_result"
    }
   ],
   "source": [
    "#finding nulls in other columns...\n",
    "df.isnull().sum()"
   ]
  },
  {
   "cell_type": "code",
   "execution_count": 11,
   "id": "2ec56009",
   "metadata": {},
   "outputs": [
    {
     "data": {
      "text/plain": [
       "1 partner                   1416\n",
       "no partners                  336\n",
       "2 partners                   151\n",
       "5-10 partners                109\n",
       "3 partners                    83\n",
       "1 or more, (unspecified)      83\n",
       "4 partners                    64\n",
       "11-20 partners                40\n",
       "21-100 partners               25\n",
       "more than 100 partners         7\n",
       "Name: partnrs5, dtype: int64"
      ]
     },
     "execution_count": 11,
     "metadata": {},
     "output_type": "execute_result"
    }
   ],
   "source": [
    "#checking out the possible 'why' of nulls..\n",
    "df.partnrs5.value_counts()\n",
    "#possibly due to respondants not wanting to say...."
   ]
  },
  {
   "cell_type": "code",
   "execution_count": 12,
   "id": "1426b69f",
   "metadata": {},
   "outputs": [
    {
     "data": {
      "text/plain": [
       "very good    1449\n",
       "good         1243\n",
       "excellent     477\n",
       "fair          399\n",
       "poor           64\n",
       "Name: quallife, dtype: int64"
      ]
     },
     "execution_count": 12,
     "metadata": {},
     "output_type": "execute_result"
    }
   ],
   "source": [
    "df.quallife.value_counts()"
   ]
  },
  {
   "cell_type": "code",
   "execution_count": 13,
   "id": "8aabfa18",
   "metadata": {},
   "outputs": [],
   "source": [
    "#### Dropping columns:"
   ]
  },
  {
   "cell_type": "markdown",
   "id": "539177ba",
   "metadata": {},
   "source": [
    "### TAKEAWAY: I was considering possibly filling out 'unsure' and 'no response' for certain nulls, but I may just take them out by percentage basis as each nulled column is different and probably for different reasons"
   ]
  },
  {
   "cell_type": "code",
   "execution_count": 14,
   "id": "bba419f9",
   "metadata": {},
   "outputs": [
    {
     "data": {
      "text/plain": [
       "0"
      ]
     },
     "execution_count": 14,
     "metadata": {},
     "output_type": "execute_result"
    }
   ],
   "source": [
    "#First, I will just drop the nulls in the target variable column, as these won't help determine classifying the target\n",
    "df = df.dropna(axis=0, subset=['zodiac'])\n",
    "df.zodiac.isnull().sum()"
   ]
  },
  {
   "cell_type": "code",
   "execution_count": 15,
   "id": "5ac5abf7",
   "metadata": {},
   "outputs": [],
   "source": [
    "#Because the partners and partnrs5 columns are missing 1/3 of their responses, and could be possibly due to age/demographic, I will fill these with 'no_response'\n",
    "#df.partners = df.partners.fillna('no_response')\n",
    "#ok. I need to set a category up for these columns as this code came out with a Categorical Error"
   ]
  },
  {
   "cell_type": "code",
   "execution_count": 16,
   "id": "44b36dfa",
   "metadata": {},
   "outputs": [
    {
     "data": {
      "text/plain": [
       "1 partner                   1427\n",
       "no partners                  560\n",
       "2 partners                    82\n",
       "3 partners                    42\n",
       "5-10 partners                 40\n",
       "4 partners                    27\n",
       "1 or more, (unspecified)       5\n",
       "11-20 partners                 4\n",
       "more than 100 partners         4\n",
       "21-100 partners                2\n",
       "Name: partners, dtype: int64"
      ]
     },
     "execution_count": 16,
     "metadata": {},
     "output_type": "execute_result"
    }
   ],
   "source": [
    "df.partners.value_counts()"
   ]
  },
  {
   "cell_type": "code",
   "execution_count": 17,
   "id": "5c1ba149",
   "metadata": {},
   "outputs": [
    {
     "data": {
      "text/plain": [
       "CategoricalDtype(categories=['no partners', '1 partner', '2 partners', '3 partners',\n",
       "                  '4 partners', '5-10 partners', '11-20 partners',\n",
       "                  '21-100 partners', 'more than 100 partners',\n",
       "                  '1 or more, (unspecified)'],\n",
       ", ordered=True)"
      ]
     },
     "execution_count": 17,
     "metadata": {},
     "output_type": "execute_result"
    }
   ],
   "source": [
    "df.partners.dtypes"
   ]
  },
  {
   "cell_type": "code",
   "execution_count": 18,
   "id": "328539b8",
   "metadata": {},
   "outputs": [],
   "source": [
    "#changing the dtype to an object so that I can fill the nulls\n",
    "def partner_type(df):\n",
    "    df['partners'] = df['partners'].astype(object)\n",
    "    df['partners'] = df['partners'].fillna('no response')\n",
    "    return df"
   ]
  },
  {
   "cell_type": "code",
   "execution_count": 19,
   "id": "caa61f32",
   "metadata": {},
   "outputs": [],
   "source": [
    "#filling nulls\n",
    "df= partner_type(df)"
   ]
  },
  {
   "cell_type": "code",
   "execution_count": 20,
   "id": "f664e250",
   "metadata": {},
   "outputs": [],
   "source": [
    "#same thing for partnrs5\n",
    "def partner_five(df):\n",
    "    df['partnrs5'] = df['partnrs5'].astype(object)\n",
    "    df['partnrs5'] = df['partnrs5'].fillna('no response')\n",
    "    return df"
   ]
  },
  {
   "cell_type": "code",
   "execution_count": 21,
   "id": "868d7fa2",
   "metadata": {},
   "outputs": [
    {
     "data": {
      "text/html": [
       "<div>\n",
       "<style scoped>\n",
       "    .dataframe tbody tr th:only-of-type {\n",
       "        vertical-align: middle;\n",
       "    }\n",
       "\n",
       "    .dataframe tbody tr th {\n",
       "        vertical-align: top;\n",
       "    }\n",
       "\n",
       "    .dataframe thead th {\n",
       "        text-align: right;\n",
       "    }\n",
       "</style>\n",
       "<table border=\"1\" class=\"dataframe\">\n",
       "  <thead>\n",
       "    <tr style=\"text-align: right;\">\n",
       "      <th></th>\n",
       "      <th>zodiac</th>\n",
       "      <th>race</th>\n",
       "      <th>age</th>\n",
       "      <th>sex</th>\n",
       "      <th>sexornt</th>\n",
       "      <th>marital</th>\n",
       "      <th>res16</th>\n",
       "      <th>reg16</th>\n",
       "      <th>degree</th>\n",
       "      <th>income</th>\n",
       "      <th>...</th>\n",
       "      <th>socbar</th>\n",
       "      <th>socrel</th>\n",
       "      <th>socommun</th>\n",
       "      <th>socfrend</th>\n",
       "      <th>satsoc</th>\n",
       "      <th>class</th>\n",
       "      <th>satfin</th>\n",
       "      <th>quallife</th>\n",
       "      <th>partners</th>\n",
       "      <th>partnrs5</th>\n",
       "    </tr>\n",
       "  </thead>\n",
       "  <tbody>\n",
       "    <tr>\n",
       "      <th>0</th>\n",
       "      <td>pisces</td>\n",
       "      <td>white</td>\n",
       "      <td>65.00</td>\n",
       "      <td>female</td>\n",
       "      <td>heterosexual or straight</td>\n",
       "      <td>married</td>\n",
       "      <td>in a medium-size city (50,000-250,000)</td>\n",
       "      <td>new england</td>\n",
       "      <td>high school</td>\n",
       "      <td>NaN</td>\n",
       "      <td>...</td>\n",
       "      <td>NaN</td>\n",
       "      <td>NaN</td>\n",
       "      <td>NaN</td>\n",
       "      <td>NaN</td>\n",
       "      <td>fair</td>\n",
       "      <td>middle class</td>\n",
       "      <td>more or less satisfied</td>\n",
       "      <td>good</td>\n",
       "      <td>1 partner</td>\n",
       "      <td>1 partner</td>\n",
       "    </tr>\n",
       "    <tr>\n",
       "      <th>1</th>\n",
       "      <td>pisces</td>\n",
       "      <td>white</td>\n",
       "      <td>60.00</td>\n",
       "      <td>male</td>\n",
       "      <td>NaN</td>\n",
       "      <td>divorced</td>\n",
       "      <td>in a large city (over 250,000)</td>\n",
       "      <td>pacific</td>\n",
       "      <td>bachelor's</td>\n",
       "      <td>refused</td>\n",
       "      <td>...</td>\n",
       "      <td>several times a month</td>\n",
       "      <td>several times a year</td>\n",
       "      <td>once or twice a week</td>\n",
       "      <td>several times a month</td>\n",
       "      <td>very good</td>\n",
       "      <td>upper class</td>\n",
       "      <td>pretty well satisfied</td>\n",
       "      <td>excellent</td>\n",
       "      <td>no response</td>\n",
       "      <td>no response</td>\n",
       "    </tr>\n",
       "    <tr>\n",
       "      <th>5</th>\n",
       "      <td>aries</td>\n",
       "      <td>black</td>\n",
       "      <td>33.00</td>\n",
       "      <td>female</td>\n",
       "      <td>NaN</td>\n",
       "      <td>never married</td>\n",
       "      <td>in a small city or town (under 50,000)</td>\n",
       "      <td>new england</td>\n",
       "      <td>bachelor's</td>\n",
       "      <td>NaN</td>\n",
       "      <td>...</td>\n",
       "      <td>about once a month</td>\n",
       "      <td>about once a month</td>\n",
       "      <td>about once a month</td>\n",
       "      <td>about once a month</td>\n",
       "      <td>good</td>\n",
       "      <td>middle class</td>\n",
       "      <td>pretty well satisfied</td>\n",
       "      <td>good</td>\n",
       "      <td>no response</td>\n",
       "      <td>no response</td>\n",
       "    </tr>\n",
       "    <tr>\n",
       "      <th>6</th>\n",
       "      <td>scorpio</td>\n",
       "      <td>white</td>\n",
       "      <td>20.00</td>\n",
       "      <td>male</td>\n",
       "      <td>heterosexual or straight</td>\n",
       "      <td>never married</td>\n",
       "      <td>in a medium-size city (50,000-250,000)</td>\n",
       "      <td>middle atlantic</td>\n",
       "      <td>high school</td>\n",
       "      <td>$25,000 or more</td>\n",
       "      <td>...</td>\n",
       "      <td>never</td>\n",
       "      <td>almost daily</td>\n",
       "      <td>once or twice a week</td>\n",
       "      <td>about once a month</td>\n",
       "      <td>good</td>\n",
       "      <td>middle class</td>\n",
       "      <td>not satisfied at all</td>\n",
       "      <td>very good</td>\n",
       "      <td>1 partner</td>\n",
       "      <td>1 partner</td>\n",
       "    </tr>\n",
       "    <tr>\n",
       "      <th>8</th>\n",
       "      <td>pisces</td>\n",
       "      <td>white</td>\n",
       "      <td>76.00</td>\n",
       "      <td>male</td>\n",
       "      <td>heterosexual or straight</td>\n",
       "      <td>married</td>\n",
       "      <td>in a large city (over 250,000)</td>\n",
       "      <td>middle atlantic</td>\n",
       "      <td>high school</td>\n",
       "      <td>$25,000 or more</td>\n",
       "      <td>...</td>\n",
       "      <td>about once a year</td>\n",
       "      <td>about once a year</td>\n",
       "      <td>about once a month</td>\n",
       "      <td>about once a month</td>\n",
       "      <td>good</td>\n",
       "      <td>working class</td>\n",
       "      <td>not satisfied at all</td>\n",
       "      <td>good</td>\n",
       "      <td>1 partner</td>\n",
       "      <td>1 partner</td>\n",
       "    </tr>\n",
       "  </tbody>\n",
       "</table>\n",
       "<p>5 rows × 66 columns</p>\n",
       "</div>"
      ],
      "text/plain": [
       "    zodiac   race                  age     sex                   sexornt  \\\n",
       "0   pisces  white                65.00  female  heterosexual or straight   \n",
       "1   pisces  white                60.00    male                       NaN   \n",
       "5    aries  black                33.00  female                       NaN   \n",
       "6  scorpio  white                20.00    male  heterosexual or straight   \n",
       "8   pisces  white                76.00    male  heterosexual or straight   \n",
       "\n",
       "         marital                                   res16            reg16  \\\n",
       "0        married  in a medium-size city (50,000-250,000)      new england   \n",
       "1       divorced          in a large city (over 250,000)          pacific   \n",
       "5  never married  in a small city or town (under 50,000)      new england   \n",
       "6  never married  in a medium-size city (50,000-250,000)  middle atlantic   \n",
       "8        married          in a large city (over 250,000)  middle atlantic   \n",
       "\n",
       "        degree           income  ...                 socbar  \\\n",
       "0  high school              NaN  ...                    NaN   \n",
       "1   bachelor's          refused  ...  several times a month   \n",
       "5   bachelor's              NaN  ...     about once a month   \n",
       "6  high school  $25,000 or more  ...                  never   \n",
       "8  high school  $25,000 or more  ...      about once a year   \n",
       "\n",
       "                 socrel              socommun               socfrend  \\\n",
       "0                   NaN                   NaN                    NaN   \n",
       "1  several times a year  once or twice a week  several times a month   \n",
       "5    about once a month    about once a month     about once a month   \n",
       "6          almost daily  once or twice a week     about once a month   \n",
       "8     about once a year    about once a month     about once a month   \n",
       "\n",
       "      satsoc          class                  satfin   quallife     partners  \\\n",
       "0       fair   middle class  more or less satisfied       good    1 partner   \n",
       "1  very good    upper class   pretty well satisfied  excellent  no response   \n",
       "5       good   middle class   pretty well satisfied       good  no response   \n",
       "6       good   middle class    not satisfied at all  very good    1 partner   \n",
       "8       good  working class    not satisfied at all       good    1 partner   \n",
       "\n",
       "      partnrs5  \n",
       "0    1 partner  \n",
       "1  no response  \n",
       "5  no response  \n",
       "6    1 partner  \n",
       "8    1 partner  \n",
       "\n",
       "[5 rows x 66 columns]"
      ]
     },
     "execution_count": 21,
     "metadata": {},
     "output_type": "execute_result"
    }
   ],
   "source": [
    "df = partner_five(df)\n",
    "df.head()"
   ]
  },
  {
   "cell_type": "code",
   "execution_count": 22,
   "id": "9ba17ae2",
   "metadata": {},
   "outputs": [
    {
     "data": {
      "text/plain": [
       "dtype('O')"
      ]
     },
     "execution_count": 22,
     "metadata": {},
     "output_type": "execute_result"
    }
   ],
   "source": [
    "df.partners.dtype"
   ]
  },
  {
   "cell_type": "code",
   "execution_count": 23,
   "id": "a71efdcf",
   "metadata": {},
   "outputs": [
    {
     "data": {
      "text/plain": [
       "CategoricalDtype(categories=[         18.0,          19.0,          20.0,          21.0,\n",
       "                           22.0,          23.0,          24.0,          25.0,\n",
       "                           26.0,          27.0,          28.0,          29.0,\n",
       "                           30.0,          31.0,          32.0,          33.0,\n",
       "                           34.0,          35.0,          36.0,          37.0,\n",
       "                           38.0,          39.0,          40.0,          41.0,\n",
       "                           42.0,          43.0,          44.0,          45.0,\n",
       "                           46.0,          47.0,          48.0,          49.0,\n",
       "                           50.0,          51.0,          52.0,          53.0,\n",
       "                           54.0,          55.0,          56.0,          57.0,\n",
       "                           58.0,          59.0,          60.0,          61.0,\n",
       "                           62.0,          63.0,          64.0,          65.0,\n",
       "                           66.0,          67.0,          68.0,          69.0,\n",
       "                           70.0,          71.0,          72.0,          73.0,\n",
       "                           74.0,          75.0,          76.0,          77.0,\n",
       "                           78.0,          79.0,          80.0,          81.0,\n",
       "                           82.0,          83.0,          84.0,          85.0,\n",
       "                           86.0,          87.0,          88.0, '89 or older'],\n",
       ", ordered=True)"
      ]
     },
     "execution_count": 23,
     "metadata": {},
     "output_type": "execute_result"
    }
   ],
   "source": [
    "df.age.dtype"
   ]
  },
  {
   "cell_type": "markdown",
   "id": "73ac16e8",
   "metadata": {},
   "source": [
    "I want to change the age dtype to float, instead of object. First I need to changed the string values:"
   ]
  },
  {
   "cell_type": "code",
   "execution_count": 24,
   "id": "158285e2",
   "metadata": {},
   "outputs": [
    {
     "data": {
      "text/plain": [
       "67.0    87\n",
       "33.0    82\n",
       "59.0    81\n",
       "57.0    79\n",
       "42.0    77\n",
       "        ..\n",
       "19.0    14\n",
       "86.0    14\n",
       "87.0     5\n",
       "88.0     5\n",
       "18.0     4\n",
       "Name: age, Length: 72, dtype: int64"
      ]
     },
     "execution_count": 24,
     "metadata": {},
     "output_type": "execute_result"
    }
   ],
   "source": [
    "df.age.value_counts()"
   ]
  },
  {
   "cell_type": "code",
   "execution_count": 25,
   "id": "53e6db59",
   "metadata": {},
   "outputs": [
    {
     "data": {
      "text/plain": [
       "array([65.0, 60.0, 33.0, ..., 29.0, 68.0, 48.0], dtype=object)"
      ]
     },
     "execution_count": 25,
     "metadata": {},
     "output_type": "execute_result"
    }
   ],
   "source": [
    "np.where(df.age == \"'89 or older'\", '80.00', df.age)"
   ]
  },
  {
   "cell_type": "code",
   "execution_count": 26,
   "id": "b0b6b58f",
   "metadata": {},
   "outputs": [
    {
     "data": {
      "text/plain": [
       "array([65.0, 60.0, 33.0, ..., 29.0, 68.0, 48.0], dtype=object)"
      ]
     },
     "execution_count": 26,
     "metadata": {},
     "output_type": "execute_result"
    }
   ],
   "source": [
    "#changeing unknown to mean:\n",
    "np.where(df.age == 'unknown', df.age.mean, df.age)"
   ]
  },
  {
   "cell_type": "markdown",
   "id": "e55b063c",
   "metadata": {},
   "source": [
    "#### I know I want to use age within my charts and to also bin.\n",
    "When trying to wrangle this age column, I found I needed to fix and target one age variable that was oddly formatted. \n",
    "Even having used '89 or older' wasn't suffice and I got some help on sorting out that I needed to target the len of the age.str, find a column that had this age variable by using [0], and change it to match as 89.0. "
   ]
  },
  {
   "cell_type": "code",
   "execution_count": 27,
   "id": "833eecf6",
   "metadata": {},
   "outputs": [],
   "source": [
    "#creating a function to put df through:\n",
    "def age_change(df):\n",
    "    df.age = np.where(df.age == df[df.age.str.len()>5].age.values[0], '89.0', df.age)\n",
    "    df.age = np.where(df.age == 'unknown', df.age.mean, df.age)\n",
    "    return df"
   ]
  },
  {
   "cell_type": "code",
   "execution_count": 28,
   "id": "a84209f8",
   "metadata": {},
   "outputs": [],
   "source": [
    "df = age_change(df)"
   ]
  },
  {
   "cell_type": "code",
   "execution_count": 29,
   "id": "36a340b5",
   "metadata": {},
   "outputs": [
    {
     "data": {
      "text/plain": [
       "29"
      ]
     },
     "execution_count": 29,
     "metadata": {},
     "output_type": "execute_result"
    }
   ],
   "source": [
    "#seeing if there are any nulls\n",
    "df.age.isnull().sum()"
   ]
  },
  {
   "cell_type": "code",
   "execution_count": 30,
   "id": "dda502c5",
   "metadata": {},
   "outputs": [
    {
     "data": {
      "text/plain": [
       "0"
      ]
     },
     "execution_count": 30,
     "metadata": {},
     "output_type": "execute_result"
    }
   ],
   "source": [
    "#dropping nulls\n",
    "df = df.dropna(axis=0, subset=['age'])\n",
    "df.age.isnull().sum()"
   ]
  },
  {
   "cell_type": "code",
   "execution_count": 31,
   "id": "d3b7f728",
   "metadata": {},
   "outputs": [
    {
     "data": {
      "image/png": "[encoded data removed]",
      "text/plain": [
       "<Figure size 1080x360 with 1 Axes>"
      ]
     },
     "metadata": {
      "needs_background": "light"
     },
     "output_type": "display_data"
    }
   ],
   "source": [
    "plt.figure(figsize = (15,  5))\n",
    "sns.countplot(data = df, y = 'age')\n",
    "plt.title(f\"Participants Ages\", fontsize = 14)\n",
    "plt.tight_layout()\n",
    "plt.show()"
   ]
  },
  {
   "cell_type": "code",
   "execution_count": 32,
   "id": "ef0653d4",
   "metadata": {},
   "outputs": [
    {
     "data": {
      "text/plain": [
       "Index([  67.0,   33.0,   59.0,   57.0,   42.0,   61.0,   63.0,   62.0,   41.0,\n",
       "         37.0,   68.0,   70.0,   69.0,   60.0,   51.0,   34.0,   65.0,   74.0,\n",
       "         64.0,   53.0,   39.0,   40.0,   55.0,   29.0,   35.0,   46.0,   58.0,\n",
       "         44.0,   36.0,   30.0,   56.0,   28.0,   32.0,   38.0,   66.0,   75.0,\n",
       "         31.0,   43.0,   71.0,   47.0,   49.0,   54.0,   52.0,   72.0,   50.0,\n",
       "         45.0,   73.0,   48.0,   25.0,   26.0,   79.0,   24.0,   77.0,   27.0,\n",
       "         76.0,   78.0,   81.0,   22.0,   23.0,   80.0, '89.0',   21.0,   84.0,\n",
       "         20.0,   83.0,   82.0,   85.0,   19.0,   86.0,   87.0,   88.0,   18.0],\n",
       "      dtype='object')"
      ]
     },
     "execution_count": 32,
     "metadata": {},
     "output_type": "execute_result"
    }
   ],
   "source": [
    "df.age.value_counts().index"
   ]
  },
  {
   "cell_type": "markdown",
   "id": "102dfb8a",
   "metadata": {},
   "source": [
    "This was the code used to find and target one row that held that odd '89 or older'\n",
    "#df[df.age.str.len()>5].age.values[0]\n",
    "\n",
    "___________________________________________"
   ]
  },
  {
   "cell_type": "markdown",
   "id": "97750be2",
   "metadata": {},
   "source": [
    "#### Checking out dtypes:"
   ]
  },
  {
   "cell_type": "code",
   "execution_count": 33,
   "id": "9eb0ac77",
   "metadata": {},
   "outputs": [
    {
     "data": {
      "text/plain": [
       "zodiac      category\n",
       "race        category\n",
       "age           object\n",
       "sex         category\n",
       "sexornt     category\n",
       "              ...   \n",
       "class       category\n",
       "satfin      category\n",
       "quallife    category\n",
       "partners      object\n",
       "partnrs5      object\n",
       "Length: 66, dtype: object"
      ]
     },
     "execution_count": 33,
     "metadata": {},
     "output_type": "execute_result"
    }
   ],
   "source": [
    "df.dtypes"
   ]
  },
  {
   "cell_type": "code",
   "execution_count": 34,
   "id": "f482209a",
   "metadata": {},
   "outputs": [],
   "source": [
    "#changing all the dtypes to objects so easier to handle for now\n",
    "df = df.astype(object)"
   ]
  },
  {
   "cell_type": "code",
   "execution_count": 35,
   "id": "3e25383a",
   "metadata": {},
   "outputs": [
    {
     "data": {
      "text/plain": [
       "0                     65.00\n",
       "1                     60.00\n",
       "5                     33.00\n",
       "6                     20.00\n",
       "8                     76.00\n",
       "               ...         \n",
       "4026                  31.00\n",
       "4027                  21.00\n",
       "4028                  29.00\n",
       "4030                  68.00\n",
       "4031                  48.00\n",
       "Name: age, Length: 3647, dtype: float64"
      ]
     },
     "execution_count": 35,
     "metadata": {},
     "output_type": "execute_result"
    }
   ],
   "source": [
    "#turning age to floats. This is added in correct order in wrangle.py file\n",
    "df.age.astype(float)"
   ]
  },
  {
   "cell_type": "code",
   "execution_count": 36,
   "id": "40b63862",
   "metadata": {},
   "outputs": [
    {
     "data": {
      "text/plain": [
       "zodiac      object\n",
       "race        object\n",
       "age         object\n",
       "sex         object\n",
       "sexornt     object\n",
       "             ...  \n",
       "class       object\n",
       "satfin      object\n",
       "quallife    object\n",
       "partners    object\n",
       "partnrs5    object\n",
       "Length: 66, dtype: object"
      ]
     },
     "execution_count": 36,
     "metadata": {},
     "output_type": "execute_result"
    }
   ],
   "source": [
    "df.dtypes"
   ]
  },
  {
   "cell_type": "code",
   "execution_count": 39,
   "id": "8c49f1ea",
   "metadata": {},
   "outputs": [
    {
     "data": {
      "text/plain": [
       "(3647, 66)"
      ]
     },
     "execution_count": 39,
     "metadata": {},
     "output_type": "execute_result"
    }
   ],
   "source": [
    "df.shape"
   ]
  },
  {
   "cell_type": "code",
   "execution_count": 40,
   "id": "08c90d1d",
   "metadata": {},
   "outputs": [
    {
     "data": {
      "text/plain": [
       "heterosexual or straight       1955\n",
       "bisexual                         95\n",
       "gay, lesbian, or homosexual      74\n",
       "Name: sexornt, dtype: int64"
      ]
     },
     "execution_count": 40,
     "metadata": {},
     "output_type": "execute_result"
    }
   ],
   "source": [
    "df.sexornt.value_counts()"
   ]
  },
  {
   "cell_type": "code",
   "execution_count": 41,
   "id": "d2fcb7ed",
   "metadata": {},
   "outputs": [
    {
     "data": {
      "text/plain": [
       "zodiac         0\n",
       "race          47\n",
       "age            0\n",
       "sex           12\n",
       "sexornt     1523\n",
       "            ... \n",
       "class          7\n",
       "satfin        11\n",
       "quallife     253\n",
       "partners       0\n",
       "partnrs5       0\n",
       "Length: 66, dtype: int64"
      ]
     },
     "execution_count": 41,
     "metadata": {},
     "output_type": "execute_result"
    }
   ],
   "source": [
    "df.isnull().sum()"
   ]
  },
  {
   "cell_type": "code",
   "execution_count": 42,
   "id": "cf72808d",
   "metadata": {},
   "outputs": [],
   "source": [
    "#the rest of nulls will become unknowns...\n",
    "df=df.fillna('unknown')"
   ]
  },
  {
   "cell_type": "code",
   "execution_count": 43,
   "id": "2b99eace",
   "metadata": {},
   "outputs": [
    {
     "data": {
      "text/plain": [
       "zodiac      0\n",
       "race        0\n",
       "age         0\n",
       "sex         0\n",
       "sexornt     0\n",
       "           ..\n",
       "class       0\n",
       "satfin      0\n",
       "quallife    0\n",
       "partners    0\n",
       "partnrs5    0\n",
       "Length: 66, dtype: int64"
      ]
     },
     "execution_count": 43,
     "metadata": {},
     "output_type": "execute_result"
    }
   ],
   "source": [
    "df.isnull().sum()"
   ]
  },
  {
   "cell_type": "markdown",
   "id": "be7b4119",
   "metadata": {},
   "source": [
    "### NOTES: dtypes and Nulls are done! ✅ Let's Split...\n",
    "\n",
    "_______________________________________________"
   ]
  },
  {
   "cell_type": "markdown",
   "id": "facd922c",
   "metadata": {},
   "source": [
    "## Splitting Data into Train, Validate, Test:"
   ]
  },
  {
   "cell_type": "code",
   "execution_count": 44,
   "id": "b1b31629",
   "metadata": {},
   "outputs": [],
   "source": [
    "#split the data into train and test\n",
    "def split(df):\n",
    "    train_and_validate, test = train_test_split(df, random_state=13, test_size=.15)\n",
    "    train, validate = train_test_split(train_and_validate, random_state=13, test_size=.2)\n",
    "\n",
    "    print('Train: %d rows, %d cols' % train.shape)\n",
    "    print('Validate: %d rows, %d cols' % validate.shape)\n",
    "    print('Test: %d rows, %d cols' % test.shape)\n",
    "\n",
    "    return train, validate, test"
   ]
  },
  {
   "cell_type": "code",
   "execution_count": 45,
   "id": "4e9cdccd",
   "metadata": {},
   "outputs": [
    {
     "name": "stdout",
     "output_type": "stream",
     "text": [
      "Train: 2479 rows, 66 cols\n",
      "Validate: 620 rows, 66 cols\n",
      "Test: 548 rows, 66 cols\n"
     ]
    }
   ],
   "source": [
    "train, validate, test = split(df)"
   ]
  },
  {
   "cell_type": "code",
   "execution_count": 46,
   "id": "b8e1270d",
   "metadata": {},
   "outputs": [
    {
     "data": {
      "text/html": [
       "<div>\n",
       "<style scoped>\n",
       "    .dataframe tbody tr th:only-of-type {\n",
       "        vertical-align: middle;\n",
       "    }\n",
       "\n",
       "    .dataframe tbody tr th {\n",
       "        vertical-align: top;\n",
       "    }\n",
       "\n",
       "    .dataframe thead th {\n",
       "        text-align: right;\n",
       "    }\n",
       "</style>\n",
       "<table border=\"1\" class=\"dataframe\">\n",
       "  <thead>\n",
       "    <tr style=\"text-align: right;\">\n",
       "      <th></th>\n",
       "      <th>zodiac</th>\n",
       "      <th>race</th>\n",
       "      <th>age</th>\n",
       "      <th>sex</th>\n",
       "      <th>sexornt</th>\n",
       "      <th>marital</th>\n",
       "      <th>res16</th>\n",
       "      <th>reg16</th>\n",
       "      <th>degree</th>\n",
       "      <th>income</th>\n",
       "      <th>...</th>\n",
       "      <th>socbar</th>\n",
       "      <th>socrel</th>\n",
       "      <th>socommun</th>\n",
       "      <th>socfrend</th>\n",
       "      <th>satsoc</th>\n",
       "      <th>class</th>\n",
       "      <th>satfin</th>\n",
       "      <th>quallife</th>\n",
       "      <th>partners</th>\n",
       "      <th>partnrs5</th>\n",
       "    </tr>\n",
       "  </thead>\n",
       "  <tbody>\n",
       "    <tr>\n",
       "      <th>634</th>\n",
       "      <td>libra</td>\n",
       "      <td>other</td>\n",
       "      <td>59.00</td>\n",
       "      <td>female</td>\n",
       "      <td>heterosexual or straight</td>\n",
       "      <td>married</td>\n",
       "      <td>in a large city (over 250,000)</td>\n",
       "      <td>pacific</td>\n",
       "      <td>bachelor's</td>\n",
       "      <td>$25,000 or more</td>\n",
       "      <td>...</td>\n",
       "      <td>never</td>\n",
       "      <td>almost daily</td>\n",
       "      <td>never</td>\n",
       "      <td>once or twice a week</td>\n",
       "      <td>good</td>\n",
       "      <td>working class</td>\n",
       "      <td>pretty well satisfied</td>\n",
       "      <td>very good</td>\n",
       "      <td>1 partner</td>\n",
       "      <td>1 partner</td>\n",
       "    </tr>\n",
       "    <tr>\n",
       "      <th>1516</th>\n",
       "      <td>sagittarius</td>\n",
       "      <td>white</td>\n",
       "      <td>49.00</td>\n",
       "      <td>female</td>\n",
       "      <td>unknown</td>\n",
       "      <td>never married</td>\n",
       "      <td>in a medium-size city (50,000-250,000)</td>\n",
       "      <td>east north central</td>\n",
       "      <td>high school</td>\n",
       "      <td>$10,000 to $14,999</td>\n",
       "      <td>...</td>\n",
       "      <td>never</td>\n",
       "      <td>several times a year</td>\n",
       "      <td>never</td>\n",
       "      <td>about once a month</td>\n",
       "      <td>good</td>\n",
       "      <td>working class</td>\n",
       "      <td>more or less satisfied</td>\n",
       "      <td>good</td>\n",
       "      <td>no response</td>\n",
       "      <td>no response</td>\n",
       "    </tr>\n",
       "    <tr>\n",
       "      <th>2383</th>\n",
       "      <td>capricorn</td>\n",
       "      <td>white</td>\n",
       "      <td>62.00</td>\n",
       "      <td>female</td>\n",
       "      <td>heterosexual or straight</td>\n",
       "      <td>married</td>\n",
       "      <td>in a suburb near a large city</td>\n",
       "      <td>east north central</td>\n",
       "      <td>bachelor's</td>\n",
       "      <td>refused</td>\n",
       "      <td>...</td>\n",
       "      <td>unknown</td>\n",
       "      <td>unknown</td>\n",
       "      <td>unknown</td>\n",
       "      <td>unknown</td>\n",
       "      <td>good</td>\n",
       "      <td>middle class</td>\n",
       "      <td>pretty well satisfied</td>\n",
       "      <td>very good</td>\n",
       "      <td>1 partner</td>\n",
       "      <td>1 partner</td>\n",
       "    </tr>\n",
       "    <tr>\n",
       "      <th>632</th>\n",
       "      <td>pisces</td>\n",
       "      <td>other</td>\n",
       "      <td>29.00</td>\n",
       "      <td>male</td>\n",
       "      <td>unknown</td>\n",
       "      <td>married</td>\n",
       "      <td>in a large city (over 250,000)</td>\n",
       "      <td>west south central</td>\n",
       "      <td>associate/junior college</td>\n",
       "      <td>$15,000 to $19,999</td>\n",
       "      <td>...</td>\n",
       "      <td>several times a year</td>\n",
       "      <td>several times a month</td>\n",
       "      <td>never</td>\n",
       "      <td>about once a year</td>\n",
       "      <td>very good</td>\n",
       "      <td>lower class</td>\n",
       "      <td>not satisfied at all</td>\n",
       "      <td>excellent</td>\n",
       "      <td>no response</td>\n",
       "      <td>no response</td>\n",
       "    </tr>\n",
       "    <tr>\n",
       "      <th>1393</th>\n",
       "      <td>capricorn</td>\n",
       "      <td>white</td>\n",
       "      <td>86.00</td>\n",
       "      <td>male</td>\n",
       "      <td>heterosexual or straight</td>\n",
       "      <td>married</td>\n",
       "      <td>in open country but not on a farm</td>\n",
       "      <td>east north central</td>\n",
       "      <td>graduate</td>\n",
       "      <td>$25,000 or more</td>\n",
       "      <td>...</td>\n",
       "      <td>never</td>\n",
       "      <td>about once a month</td>\n",
       "      <td>about once a month</td>\n",
       "      <td>about once a month</td>\n",
       "      <td>very good</td>\n",
       "      <td>upper class</td>\n",
       "      <td>pretty well satisfied</td>\n",
       "      <td>very good</td>\n",
       "      <td>no partners</td>\n",
       "      <td>no partners</td>\n",
       "    </tr>\n",
       "  </tbody>\n",
       "</table>\n",
       "<p>5 rows × 66 columns</p>\n",
       "</div>"
      ],
      "text/plain": [
       "           zodiac   race                  age     sex  \\\n",
       "634         libra  other                59.00  female   \n",
       "1516  sagittarius  white                49.00  female   \n",
       "2383    capricorn  white                62.00  female   \n",
       "632        pisces  other                29.00    male   \n",
       "1393    capricorn  white                86.00    male   \n",
       "\n",
       "                       sexornt        marital  \\\n",
       "634   heterosexual or straight        married   \n",
       "1516                   unknown  never married   \n",
       "2383  heterosexual or straight        married   \n",
       "632                    unknown        married   \n",
       "1393  heterosexual or straight        married   \n",
       "\n",
       "                                       res16               reg16  \\\n",
       "634           in a large city (over 250,000)             pacific   \n",
       "1516  in a medium-size city (50,000-250,000)  east north central   \n",
       "2383           in a suburb near a large city  east north central   \n",
       "632           in a large city (over 250,000)  west south central   \n",
       "1393       in open country but not on a farm  east north central   \n",
       "\n",
       "                        degree              income  ...                socbar  \\\n",
       "634                 bachelor's     $25,000 or more  ...                 never   \n",
       "1516               high school  $10,000 to $14,999  ...                 never   \n",
       "2383                bachelor's             refused  ...               unknown   \n",
       "632   associate/junior college  $15,000 to $19,999  ...  several times a year   \n",
       "1393                  graduate     $25,000 or more  ...                 never   \n",
       "\n",
       "                     socrel            socommun              socfrend  \\\n",
       "634            almost daily               never  once or twice a week   \n",
       "1516   several times a year               never    about once a month   \n",
       "2383                unknown             unknown               unknown   \n",
       "632   several times a month               never     about once a year   \n",
       "1393     about once a month  about once a month    about once a month   \n",
       "\n",
       "         satsoc          class                  satfin   quallife  \\\n",
       "634        good  working class   pretty well satisfied  very good   \n",
       "1516       good  working class  more or less satisfied       good   \n",
       "2383       good   middle class   pretty well satisfied  very good   \n",
       "632   very good    lower class    not satisfied at all  excellent   \n",
       "1393  very good    upper class   pretty well satisfied  very good   \n",
       "\n",
       "         partners     partnrs5  \n",
       "634     1 partner    1 partner  \n",
       "1516  no response  no response  \n",
       "2383    1 partner    1 partner  \n",
       "632   no response  no response  \n",
       "1393  no partners  no partners  \n",
       "\n",
       "[5 rows x 66 columns]"
      ]
     },
     "execution_count": 46,
     "metadata": {},
     "output_type": "execute_result"
    }
   ],
   "source": [
    "train.head()"
   ]
  },
  {
   "cell_type": "code",
   "execution_count": 47,
   "id": "32e97e4d",
   "metadata": {},
   "outputs": [],
   "source": [
    "#looking at zodiac count (in order) by function:\n",
    "def zodiac_order(df):\n",
    "    print('Aries:',(df['zodiac']== 'aries').sum())\n",
    "    print('Taurus:',(df['zodiac']== 'taurus').sum())\n",
    "    print('Gemini:',(df['zodiac']== 'gemini').sum())\n",
    "    print('Cancer:',(df['zodiac']== 'cancer').sum())\n",
    "    print('Leo:',(df['zodiac']== 'leo').sum())\n",
    "    print('Virgo:',(df['zodiac']== 'virgo').sum())\n",
    "    print('Libra:',(df['zodiac']== 'libra').sum())\n",
    "    print('Scorpio:',(df['zodiac']== 'scorpio').sum())\n",
    "    print('Sagittarius:',(df['zodiac']== 'sagittarius').sum())\n",
    "    print('Capricorn:',(df['zodiac']== 'capricorn').sum())\n",
    "    print('Aquarius:',(df['zodiac']== 'aquarius').sum())\n",
    "    print('Pisces:',(df['zodiac']== 'pisces').sum())\n",
    "    return df"
   ]
  },
  {
   "cell_type": "code",
   "execution_count": 48,
   "id": "deda3ca1",
   "metadata": {},
   "outputs": [
    {
     "name": "stdout",
     "output_type": "stream",
     "text": [
      "Aries: 165\n",
      "Taurus: 192\n",
      "Gemini: 159\n",
      "Cancer: 170\n",
      "Leo: 209\n",
      "Virgo: 220\n",
      "Libra: 217\n",
      "Scorpio: 232\n",
      "Sagittarius: 231\n",
      "Capricorn: 269\n",
      "Aquarius: 223\n",
      "Pisces: 192\n"
     ]
    },
    {
     "data": {
      "text/html": [
       "<div>\n",
       "<style scoped>\n",
       "    .dataframe tbody tr th:only-of-type {\n",
       "        vertical-align: middle;\n",
       "    }\n",
       "\n",
       "    .dataframe tbody tr th {\n",
       "        vertical-align: top;\n",
       "    }\n",
       "\n",
       "    .dataframe thead th {\n",
       "        text-align: right;\n",
       "    }\n",
       "</style>\n",
       "<table border=\"1\" class=\"dataframe\">\n",
       "  <thead>\n",
       "    <tr style=\"text-align: right;\">\n",
       "      <th></th>\n",
       "      <th>zodiac</th>\n",
       "      <th>race</th>\n",
       "      <th>age</th>\n",
       "      <th>sex</th>\n",
       "      <th>sexornt</th>\n",
       "      <th>marital</th>\n",
       "      <th>res16</th>\n",
       "      <th>reg16</th>\n",
       "      <th>degree</th>\n",
       "      <th>income</th>\n",
       "      <th>...</th>\n",
       "      <th>socbar</th>\n",
       "      <th>socrel</th>\n",
       "      <th>socommun</th>\n",
       "      <th>socfrend</th>\n",
       "      <th>satsoc</th>\n",
       "      <th>class</th>\n",
       "      <th>satfin</th>\n",
       "      <th>quallife</th>\n",
       "      <th>partners</th>\n",
       "      <th>partnrs5</th>\n",
       "    </tr>\n",
       "  </thead>\n",
       "  <tbody>\n",
       "    <tr>\n",
       "      <th>634</th>\n",
       "      <td>libra</td>\n",
       "      <td>other</td>\n",
       "      <td>59.00</td>\n",
       "      <td>female</td>\n",
       "      <td>heterosexual or straight</td>\n",
       "      <td>married</td>\n",
       "      <td>in a large city (over 250,000)</td>\n",
       "      <td>pacific</td>\n",
       "      <td>bachelor's</td>\n",
       "      <td>$25,000 or more</td>\n",
       "      <td>...</td>\n",
       "      <td>never</td>\n",
       "      <td>almost daily</td>\n",
       "      <td>never</td>\n",
       "      <td>once or twice a week</td>\n",
       "      <td>good</td>\n",
       "      <td>working class</td>\n",
       "      <td>pretty well satisfied</td>\n",
       "      <td>very good</td>\n",
       "      <td>1 partner</td>\n",
       "      <td>1 partner</td>\n",
       "    </tr>\n",
       "    <tr>\n",
       "      <th>1516</th>\n",
       "      <td>sagittarius</td>\n",
       "      <td>white</td>\n",
       "      <td>49.00</td>\n",
       "      <td>female</td>\n",
       "      <td>unknown</td>\n",
       "      <td>never married</td>\n",
       "      <td>in a medium-size city (50,000-250,000)</td>\n",
       "      <td>east north central</td>\n",
       "      <td>high school</td>\n",
       "      <td>$10,000 to $14,999</td>\n",
       "      <td>...</td>\n",
       "      <td>never</td>\n",
       "      <td>several times a year</td>\n",
       "      <td>never</td>\n",
       "      <td>about once a month</td>\n",
       "      <td>good</td>\n",
       "      <td>working class</td>\n",
       "      <td>more or less satisfied</td>\n",
       "      <td>good</td>\n",
       "      <td>no response</td>\n",
       "      <td>no response</td>\n",
       "    </tr>\n",
       "    <tr>\n",
       "      <th>2383</th>\n",
       "      <td>capricorn</td>\n",
       "      <td>white</td>\n",
       "      <td>62.00</td>\n",
       "      <td>female</td>\n",
       "      <td>heterosexual or straight</td>\n",
       "      <td>married</td>\n",
       "      <td>in a suburb near a large city</td>\n",
       "      <td>east north central</td>\n",
       "      <td>bachelor's</td>\n",
       "      <td>refused</td>\n",
       "      <td>...</td>\n",
       "      <td>unknown</td>\n",
       "      <td>unknown</td>\n",
       "      <td>unknown</td>\n",
       "      <td>unknown</td>\n",
       "      <td>good</td>\n",
       "      <td>middle class</td>\n",
       "      <td>pretty well satisfied</td>\n",
       "      <td>very good</td>\n",
       "      <td>1 partner</td>\n",
       "      <td>1 partner</td>\n",
       "    </tr>\n",
       "    <tr>\n",
       "      <th>632</th>\n",
       "      <td>pisces</td>\n",
       "      <td>other</td>\n",
       "      <td>29.00</td>\n",
       "      <td>male</td>\n",
       "      <td>unknown</td>\n",
       "      <td>married</td>\n",
       "      <td>in a large city (over 250,000)</td>\n",
       "      <td>west south central</td>\n",
       "      <td>associate/junior college</td>\n",
       "      <td>$15,000 to $19,999</td>\n",
       "      <td>...</td>\n",
       "      <td>several times a year</td>\n",
       "      <td>several times a month</td>\n",
       "      <td>never</td>\n",
       "      <td>about once a year</td>\n",
       "      <td>very good</td>\n",
       "      <td>lower class</td>\n",
       "      <td>not satisfied at all</td>\n",
       "      <td>excellent</td>\n",
       "      <td>no response</td>\n",
       "      <td>no response</td>\n",
       "    </tr>\n",
       "    <tr>\n",
       "      <th>1393</th>\n",
       "      <td>capricorn</td>\n",
       "      <td>white</td>\n",
       "      <td>86.00</td>\n",
       "      <td>male</td>\n",
       "      <td>heterosexual or straight</td>\n",
       "      <td>married</td>\n",
       "      <td>in open country but not on a farm</td>\n",
       "      <td>east north central</td>\n",
       "      <td>graduate</td>\n",
       "      <td>$25,000 or more</td>\n",
       "      <td>...</td>\n",
       "      <td>never</td>\n",
       "      <td>about once a month</td>\n",
       "      <td>about once a month</td>\n",
       "      <td>about once a month</td>\n",
       "      <td>very good</td>\n",
       "      <td>upper class</td>\n",
       "      <td>pretty well satisfied</td>\n",
       "      <td>very good</td>\n",
       "      <td>no partners</td>\n",
       "      <td>no partners</td>\n",
       "    </tr>\n",
       "    <tr>\n",
       "      <th>...</th>\n",
       "      <td>...</td>\n",
       "      <td>...</td>\n",
       "      <td>...</td>\n",
       "      <td>...</td>\n",
       "      <td>...</td>\n",
       "      <td>...</td>\n",
       "      <td>...</td>\n",
       "      <td>...</td>\n",
       "      <td>...</td>\n",
       "      <td>...</td>\n",
       "      <td>...</td>\n",
       "      <td>...</td>\n",
       "      <td>...</td>\n",
       "      <td>...</td>\n",
       "      <td>...</td>\n",
       "      <td>...</td>\n",
       "      <td>...</td>\n",
       "      <td>...</td>\n",
       "      <td>...</td>\n",
       "      <td>...</td>\n",
       "      <td>...</td>\n",
       "    </tr>\n",
       "    <tr>\n",
       "      <th>1223</th>\n",
       "      <td>taurus</td>\n",
       "      <td>other</td>\n",
       "      <td>19.00</td>\n",
       "      <td>male</td>\n",
       "      <td>heterosexual or straight</td>\n",
       "      <td>never married</td>\n",
       "      <td>in a suburb near a large city</td>\n",
       "      <td>south atlantic</td>\n",
       "      <td>high school</td>\n",
       "      <td>$25,000 or more</td>\n",
       "      <td>...</td>\n",
       "      <td>unknown</td>\n",
       "      <td>unknown</td>\n",
       "      <td>unknown</td>\n",
       "      <td>unknown</td>\n",
       "      <td>very good</td>\n",
       "      <td>working class</td>\n",
       "      <td>not satisfied at all</td>\n",
       "      <td>fair</td>\n",
       "      <td>no partners</td>\n",
       "      <td>no partners</td>\n",
       "    </tr>\n",
       "    <tr>\n",
       "      <th>1194</th>\n",
       "      <td>taurus</td>\n",
       "      <td>white</td>\n",
       "      <td>46.00</td>\n",
       "      <td>male</td>\n",
       "      <td>heterosexual or straight</td>\n",
       "      <td>married</td>\n",
       "      <td>in a medium-size city (50,000-250,000)</td>\n",
       "      <td>south atlantic</td>\n",
       "      <td>high school</td>\n",
       "      <td>$25,000 or more</td>\n",
       "      <td>...</td>\n",
       "      <td>several times a year</td>\n",
       "      <td>about once a month</td>\n",
       "      <td>never</td>\n",
       "      <td>about once a year</td>\n",
       "      <td>good</td>\n",
       "      <td>working class</td>\n",
       "      <td>more or less satisfied</td>\n",
       "      <td>good</td>\n",
       "      <td>1 partner</td>\n",
       "      <td>1 partner</td>\n",
       "    </tr>\n",
       "    <tr>\n",
       "      <th>1937</th>\n",
       "      <td>sagittarius</td>\n",
       "      <td>white</td>\n",
       "      <td>63.00</td>\n",
       "      <td>male</td>\n",
       "      <td>heterosexual or straight</td>\n",
       "      <td>married</td>\n",
       "      <td>in a medium-size city (50,000-250,000)</td>\n",
       "      <td>middle atlantic</td>\n",
       "      <td>graduate</td>\n",
       "      <td>refused</td>\n",
       "      <td>...</td>\n",
       "      <td>never</td>\n",
       "      <td>several times a month</td>\n",
       "      <td>several times a month</td>\n",
       "      <td>several times a month</td>\n",
       "      <td>very good</td>\n",
       "      <td>middle class</td>\n",
       "      <td>pretty well satisfied</td>\n",
       "      <td>very good</td>\n",
       "      <td>1 partner</td>\n",
       "      <td>1 partner</td>\n",
       "    </tr>\n",
       "    <tr>\n",
       "      <th>1513</th>\n",
       "      <td>leo</td>\n",
       "      <td>white</td>\n",
       "      <td>28.00</td>\n",
       "      <td>unknown</td>\n",
       "      <td>unknown</td>\n",
       "      <td>never married</td>\n",
       "      <td>in a small city or town (under 50,000)</td>\n",
       "      <td>east north central</td>\n",
       "      <td>graduate</td>\n",
       "      <td>$20,000 to $24,999</td>\n",
       "      <td>...</td>\n",
       "      <td>never</td>\n",
       "      <td>about once a month</td>\n",
       "      <td>never</td>\n",
       "      <td>never</td>\n",
       "      <td>fair</td>\n",
       "      <td>middle class</td>\n",
       "      <td>more or less satisfied</td>\n",
       "      <td>fair</td>\n",
       "      <td>no response</td>\n",
       "      <td>no response</td>\n",
       "    </tr>\n",
       "    <tr>\n",
       "      <th>2822</th>\n",
       "      <td>sagittarius</td>\n",
       "      <td>white</td>\n",
       "      <td>66.00</td>\n",
       "      <td>male</td>\n",
       "      <td>unknown</td>\n",
       "      <td>married</td>\n",
       "      <td>in a small city or town (under 50,000)</td>\n",
       "      <td>south atlantic</td>\n",
       "      <td>graduate</td>\n",
       "      <td>refused</td>\n",
       "      <td>...</td>\n",
       "      <td>never</td>\n",
       "      <td>once or twice a week</td>\n",
       "      <td>once or twice a week</td>\n",
       "      <td>once or twice a week</td>\n",
       "      <td>excellent</td>\n",
       "      <td>middle class</td>\n",
       "      <td>pretty well satisfied</td>\n",
       "      <td>excellent</td>\n",
       "      <td>no response</td>\n",
       "      <td>no response</td>\n",
       "    </tr>\n",
       "  </tbody>\n",
       "</table>\n",
       "<p>2479 rows × 66 columns</p>\n",
       "</div>"
      ],
      "text/plain": [
       "           zodiac   race                  age      sex  \\\n",
       "634         libra  other                59.00   female   \n",
       "1516  sagittarius  white                49.00   female   \n",
       "2383    capricorn  white                62.00   female   \n",
       "632        pisces  other                29.00     male   \n",
       "1393    capricorn  white                86.00     male   \n",
       "...           ...    ...                  ...      ...   \n",
       "1223       taurus  other                19.00     male   \n",
       "1194       taurus  white                46.00     male   \n",
       "1937  sagittarius  white                63.00     male   \n",
       "1513          leo  white                28.00  unknown   \n",
       "2822  sagittarius  white                66.00     male   \n",
       "\n",
       "                       sexornt        marital  \\\n",
       "634   heterosexual or straight        married   \n",
       "1516                   unknown  never married   \n",
       "2383  heterosexual or straight        married   \n",
       "632                    unknown        married   \n",
       "1393  heterosexual or straight        married   \n",
       "...                        ...            ...   \n",
       "1223  heterosexual or straight  never married   \n",
       "1194  heterosexual or straight        married   \n",
       "1937  heterosexual or straight        married   \n",
       "1513                   unknown  never married   \n",
       "2822                   unknown        married   \n",
       "\n",
       "                                       res16               reg16  \\\n",
       "634           in a large city (over 250,000)             pacific   \n",
       "1516  in a medium-size city (50,000-250,000)  east north central   \n",
       "2383           in a suburb near a large city  east north central   \n",
       "632           in a large city (over 250,000)  west south central   \n",
       "1393       in open country but not on a farm  east north central   \n",
       "...                                      ...                 ...   \n",
       "1223           in a suburb near a large city      south atlantic   \n",
       "1194  in a medium-size city (50,000-250,000)      south atlantic   \n",
       "1937  in a medium-size city (50,000-250,000)     middle atlantic   \n",
       "1513  in a small city or town (under 50,000)  east north central   \n",
       "2822  in a small city or town (under 50,000)      south atlantic   \n",
       "\n",
       "                        degree              income  ...                socbar  \\\n",
       "634                 bachelor's     $25,000 or more  ...                 never   \n",
       "1516               high school  $10,000 to $14,999  ...                 never   \n",
       "2383                bachelor's             refused  ...               unknown   \n",
       "632   associate/junior college  $15,000 to $19,999  ...  several times a year   \n",
       "1393                  graduate     $25,000 or more  ...                 never   \n",
       "...                        ...                 ...  ...                   ...   \n",
       "1223               high school     $25,000 or more  ...               unknown   \n",
       "1194               high school     $25,000 or more  ...  several times a year   \n",
       "1937                  graduate             refused  ...                 never   \n",
       "1513                  graduate  $20,000 to $24,999  ...                 never   \n",
       "2822                  graduate             refused  ...                 never   \n",
       "\n",
       "                     socrel               socommun               socfrend  \\\n",
       "634            almost daily                  never   once or twice a week   \n",
       "1516   several times a year                  never     about once a month   \n",
       "2383                unknown                unknown                unknown   \n",
       "632   several times a month                  never      about once a year   \n",
       "1393     about once a month     about once a month     about once a month   \n",
       "...                     ...                    ...                    ...   \n",
       "1223                unknown                unknown                unknown   \n",
       "1194     about once a month                  never      about once a year   \n",
       "1937  several times a month  several times a month  several times a month   \n",
       "1513     about once a month                  never                  never   \n",
       "2822   once or twice a week   once or twice a week   once or twice a week   \n",
       "\n",
       "         satsoc          class                  satfin   quallife  \\\n",
       "634        good  working class   pretty well satisfied  very good   \n",
       "1516       good  working class  more or less satisfied       good   \n",
       "2383       good   middle class   pretty well satisfied  very good   \n",
       "632   very good    lower class    not satisfied at all  excellent   \n",
       "1393  very good    upper class   pretty well satisfied  very good   \n",
       "...         ...            ...                     ...        ...   \n",
       "1223  very good  working class    not satisfied at all       fair   \n",
       "1194       good  working class  more or less satisfied       good   \n",
       "1937  very good   middle class   pretty well satisfied  very good   \n",
       "1513       fair   middle class  more or less satisfied       fair   \n",
       "2822  excellent   middle class   pretty well satisfied  excellent   \n",
       "\n",
       "         partners     partnrs5  \n",
       "634     1 partner    1 partner  \n",
       "1516  no response  no response  \n",
       "2383    1 partner    1 partner  \n",
       "632   no response  no response  \n",
       "1393  no partners  no partners  \n",
       "...           ...          ...  \n",
       "1223  no partners  no partners  \n",
       "1194    1 partner    1 partner  \n",
       "1937    1 partner    1 partner  \n",
       "1513  no response  no response  \n",
       "2822  no response  no response  \n",
       "\n",
       "[2479 rows x 66 columns]"
      ]
     },
     "execution_count": 48,
     "metadata": {},
     "output_type": "execute_result"
    }
   ],
   "source": [
    "zodiac_order(train)"
   ]
  },
  {
   "cell_type": "code",
   "execution_count": null,
   "id": "befdbfc1",
   "metadata": {},
   "outputs": [],
   "source": []
  }
 ],
 "metadata": {
  "kernelspec": {
   "display_name": "Python 3 (ipykernel)",
   "language": "python",
   "name": "python3"
  },
  "language_info": {
   "codemirror_mode": {
    "name": "ipython",
    "version": 3
   },
   "file_extension": ".py",
   "mimetype": "text/x-python",
   "name": "python",
   "nbconvert_exporter": "python",
   "pygments_lexer": "ipython3",
   "version": "3.9.7"
  }
 },
 "nbformat": 4,
 "nbformat_minor": 5
}
