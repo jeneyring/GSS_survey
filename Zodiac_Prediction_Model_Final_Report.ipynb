{
 "cells": [
  {
   "cell_type": "markdown",
   "id": "85b2eced",
   "metadata": {},
   "source": [
    "<center> <h1>Predicting the Zodiac: Can a model based on survey responses predict your Sun sign?</h1>"
   ]
  },
  {
   "cell_type": "markdown",
   "id": "5d404a15",
   "metadata": {},
   "source": [
    "By: Jennifer Eyring, Jemison cohort\n",
    "    \n",
    "Date: July 1, 2022"
   ]
  },
  {
   "cell_type": "markdown",
   "id": "0b26aad9",
   "metadata": {},
   "source": [
    "### [ Notebook Quick Links: ]<a name='quick_links'></a>\n",
    "*READ ME: <br>To utilize quick links, please download this jupyter notebook, for full link access!"
   ]
  },
  {
   "cell_type": "markdown",
   "id": "ee9bdba9",
   "metadata": {},
   "source": [
    "<a href='#introduction'>Introduction</a><br>\n",
    "<a href='#About the Data'>About the Data</a><br>\n",
    "<a href='#Wrangle Process'>Wrangle Process</a>"
   ]
  },
  {
   "cell_type": "markdown",
   "id": "2c5d3688",
   "metadata": {},
   "source": [
    "# Introduction:<a name='introduction'></a>\n",
    "### <i> CAN A PREDICTIVE MODEL OF SURVEY RESPONSES ACTUALLY SHOW WHAT ZODIAC SIGN (aka Sun sign) A PERSON IS?\n",
    "  \n",
    "## Project Objectives: \n",
    "    Taking the GSSurvey participant responses from 2021 dataset and comparing them to the participants zodiac birth signs, I will be trying to create a predictive Classification model to see if it is possible to determine a person's zodiac sign based on participants observed responses on opinion, politics, beliefs and more."
   ]
  },
  {
   "cell_type": "markdown",
   "id": "7b3fddac",
   "metadata": {},
   "source": [
    ">ABOUT THE GENERAL SOCIAL SURVEY:\n",
    "    <br>Since 1972, the General Social Survey (GSS) has been conducted annually by the Univeristy of Chicago to measure the responses of contemporary American Society--through the lens of adult survey participants.\n",
    "    "
   ]
  },
  {
   "cell_type": "markdown",
   "id": "6c831d4a",
   "metadata": {},
   "source": [
    "The GSSurvey asks US adults questions related to current demographics, opinions, religious/spiritual beliefs, political and life view points, social class opinions, as well even recording peoples zodiac signs.\n",
    "    "
   ]
  },
  {
   "cell_type": "markdown",
   "id": "49898516",
   "metadata": {},
   "source": [
    "> ABOUT THE ZODIAC (SUN) SIGNS:\n",
    "    <br>    \n",
    "    As many viewpoints on Astrology overall seem to be changing, oftentimes in terms of self-identity and decision factors, this project is taking a look at zodiac signs (using participants Sun Sign) to determine if the responses of the US adult partipants of the GSS actually correlates to the astrological sun signs they provided and align with."
   ]
  },
  {
   "cell_type": "markdown",
   "id": "e3f75462",
   "metadata": {},
   "source": [
    "<i>What is a Sun Sign?</i>\n",
    "- In astrology, a person's Sun sign is often thought to be the \"personality or 'doing' self\" of one's birth chart (Robbins, Heidi. 2022). \n",
    "<br>It is what our personalities often reflect in our everyday settings.<br> The question, \"What's your sign?\" is referring to the Sun sign. The measure of this zodiac sign of a person's astrological birth chart is mostly determined by where the sun was in relation to where & when the person was born (month & day), hence our \"birth\" sign is often referred to as the Sun sign.\n"
   ]
  },
  {
   "cell_type": "markdown",
   "id": "c8ba4a8b",
   "metadata": {},
   "source": [
    "# About the Data:<a name='About the Data'></a>"
   ]
  },
  {
   "cell_type": "markdown",
   "id": "846d1e39",
   "metadata": {},
   "source": [
    "As the <a href=\"https://gss.norc.org/get-the-data \" title=\"GSS 2021\">GSS 2021</a> is a general survey of each participant's response on their beliefs, opinions, demographics, and relationships, this model will be using the Zodiac responses as a general way to see if one's sign can actually be predicted by certain responses, and if a model could actually be built on this. \n",
    "\n",
    "<b>The columns selected pulled from the GSS data in this project where done so by targeting key points of interest that are often covered in astrology:\n",
    "- Career\n",
    "- Relationships\n",
    "- Opinions\n",
    "- Health (physical and mental)\n",
    "- Political stance/view points\n",
    "- Religion/Spirituality\n",
    "- Interests\n",
    "- and Overall outlook of others and life"
   ]
  },
  {
   "cell_type": "markdown",
   "id": "dc22cf8e",
   "metadata": {},
   "source": [
    "<a href='#quick_links'>Back to Quick Links</a>"
   ]
  },
  {
   "cell_type": "markdown",
   "id": "1a97333e",
   "metadata": {},
   "source": [
    "# Wrangle Data Process: <a name='Wrangle Process'></a>"
   ]
  },
  {
   "cell_type": "markdown",
   "id": "ad3a1162",
   "metadata": {},
   "source": [
    "In the process of acquiring and preparing the data for the exploration process, these are some key takeaways that occured during the wrangling process."
   ]
  },
  {
   "cell_type": "code",
   "execution_count": 7,
   "id": "1f9cec94",
   "metadata": {},
   "outputs": [],
   "source": [
    "#data science importations used\n",
    "import pandas as pd\n",
    "import numpy as np\n",
    "\n",
    "#visualizations/charts\n",
    "import matplotlib.pyplot as plt\n",
    "import seaborn as sns\n",
    "\n",
    "#made support files\n",
    "import wrangle\n",
    "import explore\n"
   ]
  },
  {
   "cell_type": "markdown",
   "id": "e2131efc",
   "metadata": {},
   "source": [
    ">## Key Wrangle notes:\n",
    "- I only acquired the GSS 2021 stata version of this dataset. \n",
    "- <b>DATA SIZE:\n",
    "    - From the original 713 questions (columns) of the dataset, I read through and selected 66 columns of questions that met each area mentioned above in the interest of targeting Zodiac-like areas of interest.\n",
    "- `age` column was changed to `int` dtype\n",
    "- All other columns were changed from `Categorical` to `object` dtypes.\n",
    "- Target variable `zodiac` was also encoded to create continous variables for charts and stats tests.\n",
    "- All nulls of `zodiac` were dropped.\n",
    "- Remaining nulls were `.fillna` as `unknown` as many survey categories had random places that participants had not answered.\n",
    "    \n",
    "    \n",
    "- Suggestions: I would suggest pulling in and merging several years of the GSS answers, as in the end my training set wasn't as large as I was hoping."
   ]
  },
  {
   "cell_type": "code",
   "execution_count": 11,
   "id": "1a5de4db",
   "metadata": {},
   "outputs": [
    {
     "data": {
      "text/html": [
       "<div>\n",
       "<style scoped>\n",
       "    .dataframe tbody tr th:only-of-type {\n",
       "        vertical-align: middle;\n",
       "    }\n",
       "\n",
       "    .dataframe tbody tr th {\n",
       "        vertical-align: top;\n",
       "    }\n",
       "\n",
       "    .dataframe thead th {\n",
       "        text-align: right;\n",
       "    }\n",
       "</style>\n",
       "<table border=\"1\" class=\"dataframe\">\n",
       "  <thead>\n",
       "    <tr style=\"text-align: right;\">\n",
       "      <th></th>\n",
       "      <th>zodiac</th>\n",
       "      <th>race</th>\n",
       "      <th>age</th>\n",
       "      <th>sex</th>\n",
       "      <th>sexornt</th>\n",
       "      <th>marital</th>\n",
       "      <th>res16</th>\n",
       "      <th>reg16</th>\n",
       "      <th>degree</th>\n",
       "      <th>income</th>\n",
       "      <th>...</th>\n",
       "      <th>socbar</th>\n",
       "      <th>socrel</th>\n",
       "      <th>socommun</th>\n",
       "      <th>socfrend</th>\n",
       "      <th>satsoc</th>\n",
       "      <th>class</th>\n",
       "      <th>satfin</th>\n",
       "      <th>quallife</th>\n",
       "      <th>partners</th>\n",
       "      <th>partnrs5</th>\n",
       "    </tr>\n",
       "  </thead>\n",
       "  <tbody>\n",
       "    <tr>\n",
       "      <th>0</th>\n",
       "      <td>pisces</td>\n",
       "      <td>white</td>\n",
       "      <td>65.0</td>\n",
       "      <td>female</td>\n",
       "      <td>heterosexual or straight</td>\n",
       "      <td>married</td>\n",
       "      <td>in a medium-size city (50,000-250,000)</td>\n",
       "      <td>new england</td>\n",
       "      <td>high school</td>\n",
       "      <td>unknown</td>\n",
       "      <td>...</td>\n",
       "      <td>unknown</td>\n",
       "      <td>unknown</td>\n",
       "      <td>unknown</td>\n",
       "      <td>unknown</td>\n",
       "      <td>fair</td>\n",
       "      <td>middle class</td>\n",
       "      <td>more or less satisfied</td>\n",
       "      <td>good</td>\n",
       "      <td>1 partner</td>\n",
       "      <td>1 partner</td>\n",
       "    </tr>\n",
       "    <tr>\n",
       "      <th>1</th>\n",
       "      <td>pisces</td>\n",
       "      <td>white</td>\n",
       "      <td>60.0</td>\n",
       "      <td>male</td>\n",
       "      <td>unknown</td>\n",
       "      <td>divorced</td>\n",
       "      <td>in a large city (over 250,000)</td>\n",
       "      <td>pacific</td>\n",
       "      <td>bachelor's</td>\n",
       "      <td>refused</td>\n",
       "      <td>...</td>\n",
       "      <td>several times a month</td>\n",
       "      <td>several times a year</td>\n",
       "      <td>once or twice a week</td>\n",
       "      <td>several times a month</td>\n",
       "      <td>very good</td>\n",
       "      <td>upper class</td>\n",
       "      <td>pretty well satisfied</td>\n",
       "      <td>excellent</td>\n",
       "      <td>unknown</td>\n",
       "      <td>unknown</td>\n",
       "    </tr>\n",
       "  </tbody>\n",
       "</table>\n",
       "<p>2 rows × 66 columns</p>\n",
       "</div>"
      ],
      "text/plain": [
       "   zodiac   race   age     sex                   sexornt   marital  \\\n",
       "0  pisces  white  65.0  female  heterosexual or straight   married   \n",
       "1  pisces  white  60.0    male                   unknown  divorced   \n",
       "\n",
       "                                    res16        reg16       degree   income  \\\n",
       "0  in a medium-size city (50,000-250,000)  new england  high school  unknown   \n",
       "1          in a large city (over 250,000)      pacific   bachelor's  refused   \n",
       "\n",
       "   ...                 socbar                socrel              socommun  \\\n",
       "0  ...                unknown               unknown               unknown   \n",
       "1  ...  several times a month  several times a year  once or twice a week   \n",
       "\n",
       "                socfrend     satsoc         class                  satfin  \\\n",
       "0                unknown       fair  middle class  more or less satisfied   \n",
       "1  several times a month  very good   upper class   pretty well satisfied   \n",
       "\n",
       "    quallife   partners   partnrs5  \n",
       "0       good  1 partner  1 partner  \n",
       "1  excellent    unknown    unknown  \n",
       "\n",
       "[2 rows x 66 columns]"
      ]
     },
     "execution_count": 11,
     "metadata": {},
     "output_type": "execute_result"
    }
   ],
   "source": [
    "df = wrangle.acquire_prep()\n",
    "df.head(2)"
   ]
  },
  {
   "cell_type": "markdown",
   "id": "210b278d",
   "metadata": {},
   "source": [
    "<a href='#quick_links'>Back to Quick Links</a>"
   ]
  },
  {
   "cell_type": "code",
   "execution_count": null,
   "id": "02861cfc",
   "metadata": {},
   "outputs": [],
   "source": []
  }
 ],
 "metadata": {
  "kernelspec": {
   "display_name": "Python 3 (ipykernel)",
   "language": "python",
   "name": "python3"
  },
  "language_info": {
   "codemirror_mode": {
    "name": "ipython",
    "version": 3
   },
   "file_extension": ".py",
   "mimetype": "text/x-python",
   "name": "python",
   "nbconvert_exporter": "python",
   "pygments_lexer": "ipython3",
   "version": "3.9.7"
  }
 },
 "nbformat": 4,
 "nbformat_minor": 5
}
