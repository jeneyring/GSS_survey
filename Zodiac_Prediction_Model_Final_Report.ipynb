{
 "cells": [
  {
   "cell_type": "markdown",
   "id": "85b2eced",
   "metadata": {},
   "source": [
    "<center> <h1>Predicting the Zodiac: Can a model based on survey responses predict your Sun sign?</h1>"
   ]
  },
  {
   "cell_type": "markdown",
   "id": "5d404a15",
   "metadata": {},
   "source": [
    "By: Jennifer Eyring, Jemison cohort\n",
    "    \n",
    "Date: July 1, 2022"
   ]
  },
  {
   "cell_type": "markdown",
   "id": "2c5d3688",
   "metadata": {},
   "source": [
    "# Introduction:\n",
    "### <i> CAN A PREDICTIVE MODEL OF SURVEY RESPONSES ACTUALLY SHOW WHAT ZODIAC (SUN) SIGN A PERSON IS?\n",
    "    \n",
    ">ABOUT THE GENERAL SOCIAL SURVEY:\n",
    "    <br>Since 1972, the General Social Survey (GSS) has been conducted annually by the Univeristy of Chicago to measure the responses of contemporary American Society--through the lens of adult survey participants.\n",
    "    "
   ]
  },
  {
   "cell_type": "markdown",
   "id": "6c831d4a",
   "metadata": {},
   "source": [
    "The GSSurvey asks US adults questions related to current demographics, opinions, religious/spiritual beliefs, political and life view points, social class opinions, as well even recording peoples zodiac signs.\n",
    "    "
   ]
  },
  {
   "cell_type": "markdown",
   "id": "42ff6c66",
   "metadata": {},
   "source": [
    "> ABOUT THE ZODIAC (SUN) SIGNS:\n",
    "    <br>    \n",
    "    As many viewpoints on Astrology overall seem to be changing, oftentimes in terms of self-identity and decision factors, this project is taking a look at zodiac signs (using participants Sun Sign) to determine if the responses of the US adult partipants of the GSS actually correlates to the astrological sun signs they provided and align with."
   ]
  },
  {
   "cell_type": "markdown",
   "id": "ecee3ca9",
   "metadata": {},
   "source": [
    "<i>What is a Sun Sign?</i>\n",
    "- In astrology, a person's Sun sign is often thought to be the \"personality or 'doing' self\" of one's birth chart (Robbins, Heidi. 2022). \n",
    "<br>It is what our personalities often reflect in our everyday settings.<br> The question, \"What's your sign?\" is referring to the Sun sign. The measure of this zodiac sign of a person's astrological birth chart is mostly determined by where the sun was in relation to where & when the person was born (month & day), hence our \"birth\" sign is often referred to as the Sun sign.\n"
   ]
  },
  {
   "cell_type": "markdown",
   "id": "72aa9b4a",
   "metadata": {},
   "source": [
    "As the GSS is a general survey of each participant's response on their beliefs, opinions, demographics, and relationships, this model will be using the Zodiac responses as a general way to see if one's sign can actually be predicted by certain responses, and if a model could actually be built on this. \n",
    "\n",
    "<b>The columns selected in this project where done so by targeting key points of interest that are often covered in astrology:\n",
    "- Career\n",
    "- Relationships\n",
    "- Opinions\n",
    "- Health (physical and mental)\n",
    "- Political stance/view points\n",
    "- Religion/Spirituality\n",
    "- Interests\n",
    "- and Overall outlook of others and life"
   ]
  },
  {
   "cell_type": "code",
   "execution_count": null,
   "id": "5046ce05",
   "metadata": {},
   "outputs": [],
   "source": []
  }
 ],
 "metadata": {
  "kernelspec": {
   "display_name": "Python 3 (ipykernel)",
   "language": "python",
   "name": "python3"
  },
  "language_info": {
   "codemirror_mode": {
    "name": "ipython",
    "version": 3
   },
   "file_extension": ".py",
   "mimetype": "text/x-python",
   "name": "python",
   "nbconvert_exporter": "python",
   "pygments_lexer": "ipython3",
   "version": "3.9.7"
  }
 },
 "nbformat": 4,
 "nbformat_minor": 5
}
