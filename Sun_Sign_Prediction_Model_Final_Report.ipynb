{
 "cells": [
  {
   "cell_type": "markdown",
   "id": "85b2eced",
   "metadata": {},
   "source": [
    "<center> <h1>Answering the Zodiac: Can a model based on survey responses predict your Sun sign?</h1>"
   ]
  },
  {
   "cell_type": "markdown",
   "id": "5d404a15",
   "metadata": {},
   "source": [
    "By: Jennifer Eyring, Jemison cohort\n",
    "    \n",
    "Date: July 1, 2022"
   ]
  },
  {
   "cell_type": "markdown",
   "id": "2c5d3688",
   "metadata": {},
   "source": [
    "# Introduction:\n",
    "### <i> CAN A PREDICTIVE MODEL OF PARTICIPANT RESPONSES ACTUALLY SHOW WHAT ZODIAC SUN SIGN A PERSON IS?\n",
    "    \n",
    ">  Since 1972, the General Social Survey (GSS) has been conducted annually by the Univeristy of Chicago to measure the responses of contemporary American Society--through the lens of adult survey participants.\n",
    "    "
   ]
  },
  {
   "cell_type": "markdown",
   "id": "6c831d4a",
   "metadata": {},
   "source": [
    "The GSSurvey asks US adults questions related to current demographics, opinions, religious/spiritual beliefs, political and life view points, social class opinions, as well even recording peoples zodiac signs.\n",
    "    \n",
    "    As many viewpoints on astrology overall seem to be changing, oftentimes in terms of self-identity and decision factors, this project is taking a look at astrology/zodiac signs to determine if the responses of the US adult partipants of the GSS actually correlates to the astrological sun signs they provided and align with.\n",
    "    "
   ]
  },
  {
   "cell_type": "code",
   "execution_count": null,
   "id": "47cdf967",
   "metadata": {},
   "outputs": [],
   "source": []
  }
 ],
 "metadata": {
  "kernelspec": {
   "display_name": "Python 3 (ipykernel)",
   "language": "python",
   "name": "python3"
  },
  "language_info": {
   "codemirror_mode": {
    "name": "ipython",
    "version": 3
   },
   "file_extension": ".py",
   "mimetype": "text/x-python",
   "name": "python",
   "nbconvert_exporter": "python",
   "pygments_lexer": "ipython3",
   "version": "3.9.7"
  }
 },
 "nbformat": 4,
 "nbformat_minor": 5
}
